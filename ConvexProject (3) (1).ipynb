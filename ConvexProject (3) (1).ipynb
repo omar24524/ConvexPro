{
  "nbformat": 4,
  "nbformat_minor": 0,
  "metadata": {
    "colab": {
      "provenance": []
    },
    "kernelspec": {
      "name": "python3",
      "display_name": "Python 3"
    },
    "language_info": {
      "name": "python"
    }
  },
  "cells": [
    {
      "cell_type": "code",
      "source": [
        "pip install skfolio"
      ],
      "metadata": {
        "colab": {
          "base_uri": "https://localhost:8080/"
        },
        "id": "MsSux3vcTyqA",
        "outputId": "0422e4ca-036d-4b9d-d61b-d0e2c08aea2b"
      },
      "execution_count": 2,
      "outputs": [
        {
          "output_type": "stream",
          "name": "stdout",
          "text": [
            "Collecting skfolio\n",
            "  Downloading skfolio-0.6.0-py3-none-any.whl.metadata (19 kB)\n",
            "Requirement already satisfied: numpy>=1.23.4 in /usr/local/lib/python3.10/dist-packages (from skfolio) (1.26.4)\n",
            "Requirement already satisfied: scipy>=1.8.0 in /usr/local/lib/python3.10/dist-packages (from skfolio) (1.13.1)\n",
            "Requirement already satisfied: pandas>=1.4.1 in /usr/local/lib/python3.10/dist-packages (from skfolio) (2.2.2)\n",
            "Requirement already satisfied: cvxpy>=1.4.1 in /usr/local/lib/python3.10/dist-packages (from skfolio) (1.5.4)\n",
            "Requirement already satisfied: scikit-learn>=1.5.0 in /usr/local/lib/python3.10/dist-packages (from skfolio) (1.5.2)\n",
            "Requirement already satisfied: joblib>=1.3.2 in /usr/local/lib/python3.10/dist-packages (from skfolio) (1.4.2)\n",
            "Requirement already satisfied: plotly>=5.22.0 in /usr/local/lib/python3.10/dist-packages (from skfolio) (5.24.1)\n",
            "Requirement already satisfied: osqp>=0.6.2 in /usr/local/lib/python3.10/dist-packages (from cvxpy>=1.4.1->skfolio) (0.6.7.post3)\n",
            "Requirement already satisfied: ecos>=2 in /usr/local/lib/python3.10/dist-packages (from cvxpy>=1.4.1->skfolio) (2.0.14)\n",
            "Requirement already satisfied: clarabel>=0.5.0 in /usr/local/lib/python3.10/dist-packages (from cvxpy>=1.4.1->skfolio) (0.9.0)\n",
            "Requirement already satisfied: scs>=3.2.4.post1 in /usr/local/lib/python3.10/dist-packages (from cvxpy>=1.4.1->skfolio) (3.2.7)\n",
            "Requirement already satisfied: python-dateutil>=2.8.2 in /usr/local/lib/python3.10/dist-packages (from pandas>=1.4.1->skfolio) (2.8.2)\n",
            "Requirement already satisfied: pytz>=2020.1 in /usr/local/lib/python3.10/dist-packages (from pandas>=1.4.1->skfolio) (2024.2)\n",
            "Requirement already satisfied: tzdata>=2022.7 in /usr/local/lib/python3.10/dist-packages (from pandas>=1.4.1->skfolio) (2024.2)\n",
            "Requirement already satisfied: tenacity>=6.2.0 in /usr/local/lib/python3.10/dist-packages (from plotly>=5.22.0->skfolio) (9.0.0)\n",
            "Requirement already satisfied: packaging in /usr/local/lib/python3.10/dist-packages (from plotly>=5.22.0->skfolio) (24.2)\n",
            "Requirement already satisfied: threadpoolctl>=3.1.0 in /usr/local/lib/python3.10/dist-packages (from scikit-learn>=1.5.0->skfolio) (3.5.0)\n",
            "Requirement already satisfied: qdldl in /usr/local/lib/python3.10/dist-packages (from osqp>=0.6.2->cvxpy>=1.4.1->skfolio) (0.1.7.post4)\n",
            "Requirement already satisfied: six>=1.5 in /usr/local/lib/python3.10/dist-packages (from python-dateutil>=2.8.2->pandas>=1.4.1->skfolio) (1.16.0)\n",
            "Downloading skfolio-0.6.0-py3-none-any.whl (733 kB)\n",
            "\u001b[2K   \u001b[90m━━━━━━━━━━━━━━━━━━━━━━━━━━━━━━━━━━━━━━━━\u001b[0m \u001b[32m734.0/734.0 kB\u001b[0m \u001b[31m13.9 MB/s\u001b[0m eta \u001b[36m0:00:00\u001b[0m\n",
            "\u001b[?25hInstalling collected packages: skfolio\n",
            "Successfully installed skfolio-0.6.0\n"
          ]
        }
      ]
    },
    {
      "cell_type": "code",
      "execution_count": 3,
      "metadata": {
        "id": "1YYqCQvZTq-O"
      },
      "outputs": [],
      "source": [
        "import numpy as np\n",
        "from plotly.io import show\n",
        "from sklearn.model_selection import train_test_split\n",
        "\n",
        "from skfolio import Population, RiskMeasure\n",
        "from skfolio.datasets import load_sp500_dataset\n",
        "from skfolio.preprocessing import prices_to_returns"
      ]
    },
    {
      "cell_type": "code",
      "source": [
        "prices = load_sp500_dataset()\n",
        "prices.head()"
      ],
      "metadata": {
        "colab": {
          "base_uri": "https://localhost:8080/",
          "height": 237
        },
        "id": "728DHtxrTy0Z",
        "outputId": "867b0052-0745-462c-808d-07662f08577c"
      },
      "execution_count": 4,
      "outputs": [
        {
          "output_type": "execute_result",
          "data": {
            "text/plain": [
              "             AAPL    AMD    BAC    BBY    CVX      GE     HD    JNJ    JPM  \\\n",
              "Date                                                                         \n",
              "1990-01-02  0.264  4.125  4.599  0.144  4.991  14.391  1.117  3.438  3.394   \n",
              "1990-01-03  0.266  4.000  4.636  0.161  4.910  14.364  1.121  3.452  3.508   \n",
              "1990-01-04  0.267  3.938  4.537  0.159  4.847  14.283  1.128  3.459  3.522   \n",
              "1990-01-05  0.268  3.812  4.438  0.159  4.775  14.148  1.113  3.423  3.536   \n",
              "1990-01-08  0.269  3.812  4.463  0.147  4.820  14.229  1.102  3.481  3.536   \n",
              "\n",
              "               KO    LLY    MRK   MSFT    PEP    PFE     PG    RRC    UNH  \\\n",
              "Date                                                                        \n",
              "1990-01-02  2.235  6.658  4.215  0.384  4.738  1.021  3.860  3.322  0.310   \n",
              "1990-01-03  2.203  6.658  4.282  0.386  4.692  1.024  3.853  3.322  0.304   \n",
              "1990-01-04  2.192  6.621  4.215  0.397  4.646  1.041  3.777  3.322  0.301   \n",
              "1990-01-05  2.174  6.549  4.128  0.387  4.581  1.032  3.709  3.322  0.288   \n",
              "1990-01-08  2.220  6.549  4.181  0.393  4.664  1.023  3.777  3.322  0.282   \n",
              "\n",
              "              WMT    XOM  \n",
              "Date                      \n",
              "1990-01-02  3.653  4.068  \n",
              "1990-01-03  3.653  4.027  \n",
              "1990-01-04  3.634  3.987  \n",
              "1990-01-05  3.595  3.966  \n",
              "1990-01-08  3.644  4.027  "
            ],
            "text/html": [
              "\n",
              "  <div id=\"df-7ef37139-c9c4-47cb-93fe-ff757c08b5df\" class=\"colab-df-container\">\n",
              "    <div>\n",
              "<style scoped>\n",
              "    .dataframe tbody tr th:only-of-type {\n",
              "        vertical-align: middle;\n",
              "    }\n",
              "\n",
              "    .dataframe tbody tr th {\n",
              "        vertical-align: top;\n",
              "    }\n",
              "\n",
              "    .dataframe thead th {\n",
              "        text-align: right;\n",
              "    }\n",
              "</style>\n",
              "<table border=\"1\" class=\"dataframe\">\n",
              "  <thead>\n",
              "    <tr style=\"text-align: right;\">\n",
              "      <th></th>\n",
              "      <th>AAPL</th>\n",
              "      <th>AMD</th>\n",
              "      <th>BAC</th>\n",
              "      <th>BBY</th>\n",
              "      <th>CVX</th>\n",
              "      <th>GE</th>\n",
              "      <th>HD</th>\n",
              "      <th>JNJ</th>\n",
              "      <th>JPM</th>\n",
              "      <th>KO</th>\n",
              "      <th>LLY</th>\n",
              "      <th>MRK</th>\n",
              "      <th>MSFT</th>\n",
              "      <th>PEP</th>\n",
              "      <th>PFE</th>\n",
              "      <th>PG</th>\n",
              "      <th>RRC</th>\n",
              "      <th>UNH</th>\n",
              "      <th>WMT</th>\n",
              "      <th>XOM</th>\n",
              "    </tr>\n",
              "    <tr>\n",
              "      <th>Date</th>\n",
              "      <th></th>\n",
              "      <th></th>\n",
              "      <th></th>\n",
              "      <th></th>\n",
              "      <th></th>\n",
              "      <th></th>\n",
              "      <th></th>\n",
              "      <th></th>\n",
              "      <th></th>\n",
              "      <th></th>\n",
              "      <th></th>\n",
              "      <th></th>\n",
              "      <th></th>\n",
              "      <th></th>\n",
              "      <th></th>\n",
              "      <th></th>\n",
              "      <th></th>\n",
              "      <th></th>\n",
              "      <th></th>\n",
              "      <th></th>\n",
              "    </tr>\n",
              "  </thead>\n",
              "  <tbody>\n",
              "    <tr>\n",
              "      <th>1990-01-02</th>\n",
              "      <td>0.264</td>\n",
              "      <td>4.125</td>\n",
              "      <td>4.599</td>\n",
              "      <td>0.144</td>\n",
              "      <td>4.991</td>\n",
              "      <td>14.391</td>\n",
              "      <td>1.117</td>\n",
              "      <td>3.438</td>\n",
              "      <td>3.394</td>\n",
              "      <td>2.235</td>\n",
              "      <td>6.658</td>\n",
              "      <td>4.215</td>\n",
              "      <td>0.384</td>\n",
              "      <td>4.738</td>\n",
              "      <td>1.021</td>\n",
              "      <td>3.860</td>\n",
              "      <td>3.322</td>\n",
              "      <td>0.310</td>\n",
              "      <td>3.653</td>\n",
              "      <td>4.068</td>\n",
              "    </tr>\n",
              "    <tr>\n",
              "      <th>1990-01-03</th>\n",
              "      <td>0.266</td>\n",
              "      <td>4.000</td>\n",
              "      <td>4.636</td>\n",
              "      <td>0.161</td>\n",
              "      <td>4.910</td>\n",
              "      <td>14.364</td>\n",
              "      <td>1.121</td>\n",
              "      <td>3.452</td>\n",
              "      <td>3.508</td>\n",
              "      <td>2.203</td>\n",
              "      <td>6.658</td>\n",
              "      <td>4.282</td>\n",
              "      <td>0.386</td>\n",
              "      <td>4.692</td>\n",
              "      <td>1.024</td>\n",
              "      <td>3.853</td>\n",
              "      <td>3.322</td>\n",
              "      <td>0.304</td>\n",
              "      <td>3.653</td>\n",
              "      <td>4.027</td>\n",
              "    </tr>\n",
              "    <tr>\n",
              "      <th>1990-01-04</th>\n",
              "      <td>0.267</td>\n",
              "      <td>3.938</td>\n",
              "      <td>4.537</td>\n",
              "      <td>0.159</td>\n",
              "      <td>4.847</td>\n",
              "      <td>14.283</td>\n",
              "      <td>1.128</td>\n",
              "      <td>3.459</td>\n",
              "      <td>3.522</td>\n",
              "      <td>2.192</td>\n",
              "      <td>6.621</td>\n",
              "      <td>4.215</td>\n",
              "      <td>0.397</td>\n",
              "      <td>4.646</td>\n",
              "      <td>1.041</td>\n",
              "      <td>3.777</td>\n",
              "      <td>3.322</td>\n",
              "      <td>0.301</td>\n",
              "      <td>3.634</td>\n",
              "      <td>3.987</td>\n",
              "    </tr>\n",
              "    <tr>\n",
              "      <th>1990-01-05</th>\n",
              "      <td>0.268</td>\n",
              "      <td>3.812</td>\n",
              "      <td>4.438</td>\n",
              "      <td>0.159</td>\n",
              "      <td>4.775</td>\n",
              "      <td>14.148</td>\n",
              "      <td>1.113</td>\n",
              "      <td>3.423</td>\n",
              "      <td>3.536</td>\n",
              "      <td>2.174</td>\n",
              "      <td>6.549</td>\n",
              "      <td>4.128</td>\n",
              "      <td>0.387</td>\n",
              "      <td>4.581</td>\n",
              "      <td>1.032</td>\n",
              "      <td>3.709</td>\n",
              "      <td>3.322</td>\n",
              "      <td>0.288</td>\n",
              "      <td>3.595</td>\n",
              "      <td>3.966</td>\n",
              "    </tr>\n",
              "    <tr>\n",
              "      <th>1990-01-08</th>\n",
              "      <td>0.269</td>\n",
              "      <td>3.812</td>\n",
              "      <td>4.463</td>\n",
              "      <td>0.147</td>\n",
              "      <td>4.820</td>\n",
              "      <td>14.229</td>\n",
              "      <td>1.102</td>\n",
              "      <td>3.481</td>\n",
              "      <td>3.536</td>\n",
              "      <td>2.220</td>\n",
              "      <td>6.549</td>\n",
              "      <td>4.181</td>\n",
              "      <td>0.393</td>\n",
              "      <td>4.664</td>\n",
              "      <td>1.023</td>\n",
              "      <td>3.777</td>\n",
              "      <td>3.322</td>\n",
              "      <td>0.282</td>\n",
              "      <td>3.644</td>\n",
              "      <td>4.027</td>\n",
              "    </tr>\n",
              "  </tbody>\n",
              "</table>\n",
              "</div>\n",
              "    <div class=\"colab-df-buttons\">\n",
              "\n",
              "  <div class=\"colab-df-container\">\n",
              "    <button class=\"colab-df-convert\" onclick=\"convertToInteractive('df-7ef37139-c9c4-47cb-93fe-ff757c08b5df')\"\n",
              "            title=\"Convert this dataframe to an interactive table.\"\n",
              "            style=\"display:none;\">\n",
              "\n",
              "  <svg xmlns=\"http://www.w3.org/2000/svg\" height=\"24px\" viewBox=\"0 -960 960 960\">\n",
              "    <path d=\"M120-120v-720h720v720H120Zm60-500h600v-160H180v160Zm220 220h160v-160H400v160Zm0 220h160v-160H400v160ZM180-400h160v-160H180v160Zm440 0h160v-160H620v160ZM180-180h160v-160H180v160Zm440 0h160v-160H620v160Z\"/>\n",
              "  </svg>\n",
              "    </button>\n",
              "\n",
              "  <style>\n",
              "    .colab-df-container {\n",
              "      display:flex;\n",
              "      gap: 12px;\n",
              "    }\n",
              "\n",
              "    .colab-df-convert {\n",
              "      background-color: #E8F0FE;\n",
              "      border: none;\n",
              "      border-radius: 50%;\n",
              "      cursor: pointer;\n",
              "      display: none;\n",
              "      fill: #1967D2;\n",
              "      height: 32px;\n",
              "      padding: 0 0 0 0;\n",
              "      width: 32px;\n",
              "    }\n",
              "\n",
              "    .colab-df-convert:hover {\n",
              "      background-color: #E2EBFA;\n",
              "      box-shadow: 0px 1px 2px rgba(60, 64, 67, 0.3), 0px 1px 3px 1px rgba(60, 64, 67, 0.15);\n",
              "      fill: #174EA6;\n",
              "    }\n",
              "\n",
              "    .colab-df-buttons div {\n",
              "      margin-bottom: 4px;\n",
              "    }\n",
              "\n",
              "    [theme=dark] .colab-df-convert {\n",
              "      background-color: #3B4455;\n",
              "      fill: #D2E3FC;\n",
              "    }\n",
              "\n",
              "    [theme=dark] .colab-df-convert:hover {\n",
              "      background-color: #434B5C;\n",
              "      box-shadow: 0px 1px 3px 1px rgba(0, 0, 0, 0.15);\n",
              "      filter: drop-shadow(0px 1px 2px rgba(0, 0, 0, 0.3));\n",
              "      fill: #FFFFFF;\n",
              "    }\n",
              "  </style>\n",
              "\n",
              "    <script>\n",
              "      const buttonEl =\n",
              "        document.querySelector('#df-7ef37139-c9c4-47cb-93fe-ff757c08b5df button.colab-df-convert');\n",
              "      buttonEl.style.display =\n",
              "        google.colab.kernel.accessAllowed ? 'block' : 'none';\n",
              "\n",
              "      async function convertToInteractive(key) {\n",
              "        const element = document.querySelector('#df-7ef37139-c9c4-47cb-93fe-ff757c08b5df');\n",
              "        const dataTable =\n",
              "          await google.colab.kernel.invokeFunction('convertToInteractive',\n",
              "                                                    [key], {});\n",
              "        if (!dataTable) return;\n",
              "\n",
              "        const docLinkHtml = 'Like what you see? Visit the ' +\n",
              "          '<a target=\"_blank\" href=https://colab.research.google.com/notebooks/data_table.ipynb>data table notebook</a>'\n",
              "          + ' to learn more about interactive tables.';\n",
              "        element.innerHTML = '';\n",
              "        dataTable['output_type'] = 'display_data';\n",
              "        await google.colab.output.renderOutput(dataTable, element);\n",
              "        const docLink = document.createElement('div');\n",
              "        docLink.innerHTML = docLinkHtml;\n",
              "        element.appendChild(docLink);\n",
              "      }\n",
              "    </script>\n",
              "  </div>\n",
              "\n",
              "\n",
              "<div id=\"df-8a445460-5a29-4ff9-9cef-7b6e2f47cd06\">\n",
              "  <button class=\"colab-df-quickchart\" onclick=\"quickchart('df-8a445460-5a29-4ff9-9cef-7b6e2f47cd06')\"\n",
              "            title=\"Suggest charts\"\n",
              "            style=\"display:none;\">\n",
              "\n",
              "<svg xmlns=\"http://www.w3.org/2000/svg\" height=\"24px\"viewBox=\"0 0 24 24\"\n",
              "     width=\"24px\">\n",
              "    <g>\n",
              "        <path d=\"M19 3H5c-1.1 0-2 .9-2 2v14c0 1.1.9 2 2 2h14c1.1 0 2-.9 2-2V5c0-1.1-.9-2-2-2zM9 17H7v-7h2v7zm4 0h-2V7h2v10zm4 0h-2v-4h2v4z\"/>\n",
              "    </g>\n",
              "</svg>\n",
              "  </button>\n",
              "\n",
              "<style>\n",
              "  .colab-df-quickchart {\n",
              "      --bg-color: #E8F0FE;\n",
              "      --fill-color: #1967D2;\n",
              "      --hover-bg-color: #E2EBFA;\n",
              "      --hover-fill-color: #174EA6;\n",
              "      --disabled-fill-color: #AAA;\n",
              "      --disabled-bg-color: #DDD;\n",
              "  }\n",
              "\n",
              "  [theme=dark] .colab-df-quickchart {\n",
              "      --bg-color: #3B4455;\n",
              "      --fill-color: #D2E3FC;\n",
              "      --hover-bg-color: #434B5C;\n",
              "      --hover-fill-color: #FFFFFF;\n",
              "      --disabled-bg-color: #3B4455;\n",
              "      --disabled-fill-color: #666;\n",
              "  }\n",
              "\n",
              "  .colab-df-quickchart {\n",
              "    background-color: var(--bg-color);\n",
              "    border: none;\n",
              "    border-radius: 50%;\n",
              "    cursor: pointer;\n",
              "    display: none;\n",
              "    fill: var(--fill-color);\n",
              "    height: 32px;\n",
              "    padding: 0;\n",
              "    width: 32px;\n",
              "  }\n",
              "\n",
              "  .colab-df-quickchart:hover {\n",
              "    background-color: var(--hover-bg-color);\n",
              "    box-shadow: 0 1px 2px rgba(60, 64, 67, 0.3), 0 1px 3px 1px rgba(60, 64, 67, 0.15);\n",
              "    fill: var(--button-hover-fill-color);\n",
              "  }\n",
              "\n",
              "  .colab-df-quickchart-complete:disabled,\n",
              "  .colab-df-quickchart-complete:disabled:hover {\n",
              "    background-color: var(--disabled-bg-color);\n",
              "    fill: var(--disabled-fill-color);\n",
              "    box-shadow: none;\n",
              "  }\n",
              "\n",
              "  .colab-df-spinner {\n",
              "    border: 2px solid var(--fill-color);\n",
              "    border-color: transparent;\n",
              "    border-bottom-color: var(--fill-color);\n",
              "    animation:\n",
              "      spin 1s steps(1) infinite;\n",
              "  }\n",
              "\n",
              "  @keyframes spin {\n",
              "    0% {\n",
              "      border-color: transparent;\n",
              "      border-bottom-color: var(--fill-color);\n",
              "      border-left-color: var(--fill-color);\n",
              "    }\n",
              "    20% {\n",
              "      border-color: transparent;\n",
              "      border-left-color: var(--fill-color);\n",
              "      border-top-color: var(--fill-color);\n",
              "    }\n",
              "    30% {\n",
              "      border-color: transparent;\n",
              "      border-left-color: var(--fill-color);\n",
              "      border-top-color: var(--fill-color);\n",
              "      border-right-color: var(--fill-color);\n",
              "    }\n",
              "    40% {\n",
              "      border-color: transparent;\n",
              "      border-right-color: var(--fill-color);\n",
              "      border-top-color: var(--fill-color);\n",
              "    }\n",
              "    60% {\n",
              "      border-color: transparent;\n",
              "      border-right-color: var(--fill-color);\n",
              "    }\n",
              "    80% {\n",
              "      border-color: transparent;\n",
              "      border-right-color: var(--fill-color);\n",
              "      border-bottom-color: var(--fill-color);\n",
              "    }\n",
              "    90% {\n",
              "      border-color: transparent;\n",
              "      border-bottom-color: var(--fill-color);\n",
              "    }\n",
              "  }\n",
              "</style>\n",
              "\n",
              "  <script>\n",
              "    async function quickchart(key) {\n",
              "      const quickchartButtonEl =\n",
              "        document.querySelector('#' + key + ' button');\n",
              "      quickchartButtonEl.disabled = true;  // To prevent multiple clicks.\n",
              "      quickchartButtonEl.classList.add('colab-df-spinner');\n",
              "      try {\n",
              "        const charts = await google.colab.kernel.invokeFunction(\n",
              "            'suggestCharts', [key], {});\n",
              "      } catch (error) {\n",
              "        console.error('Error during call to suggestCharts:', error);\n",
              "      }\n",
              "      quickchartButtonEl.classList.remove('colab-df-spinner');\n",
              "      quickchartButtonEl.classList.add('colab-df-quickchart-complete');\n",
              "    }\n",
              "    (() => {\n",
              "      let quickchartButtonEl =\n",
              "        document.querySelector('#df-8a445460-5a29-4ff9-9cef-7b6e2f47cd06 button');\n",
              "      quickchartButtonEl.style.display =\n",
              "        google.colab.kernel.accessAllowed ? 'block' : 'none';\n",
              "    })();\n",
              "  </script>\n",
              "</div>\n",
              "\n",
              "    </div>\n",
              "  </div>\n"
            ],
            "application/vnd.google.colaboratory.intrinsic+json": {
              "type": "dataframe",
              "variable_name": "prices",
              "summary": "{\n  \"name\": \"prices\",\n  \"rows\": 8313,\n  \"fields\": [\n    {\n      \"column\": \"Date\",\n      \"properties\": {\n        \"dtype\": \"date\",\n        \"min\": \"1990-01-02 00:00:00\",\n        \"max\": \"2022-12-28 00:00:00\",\n        \"num_unique_values\": 8313,\n        \"samples\": [\n          \"2001-05-01 00:00:00\",\n          \"2011-04-18 00:00:00\",\n          \"1999-02-17 00:00:00\"\n        ],\n        \"semantic_type\": \"\",\n        \"description\": \"\"\n      }\n    },\n    {\n      \"column\": \"AAPL\",\n      \"properties\": {\n        \"dtype\": \"number\",\n        \"std\": 38.071398229099884,\n        \"min\": 0.098,\n        \"max\": 180.434,\n        \"num_unique_values\": 4881,\n        \"samples\": [\n          17.153,\n          1.205,\n          0.167\n        ],\n        \"semantic_type\": \"\",\n        \"description\": \"\"\n      }\n    },\n    {\n      \"column\": \"AMD\",\n      \"properties\": {\n        \"dtype\": \"number\",\n        \"std\": 24.011149502294302,\n        \"min\": 1.62,\n        \"max\": 161.91,\n        \"num_unique_values\": 3259,\n        \"samples\": [\n          24.13,\n          9.812,\n          10.76\n        ],\n        \"semantic_type\": \"\",\n        \"description\": \"\"\n      }\n    },\n    {\n      \"column\": \"BAC\",\n      \"properties\": {\n        \"dtype\": \"number\",\n        \"std\": 10.447486457695632,\n        \"min\": 1.724,\n        \"max\": 47.566,\n        \"num_unique_values\": 6256,\n        \"samples\": [\n          21.015,\n          14.535,\n          11.023\n        ],\n        \"semantic_type\": \"\",\n        \"description\": \"\"\n      }\n    },\n    {\n      \"column\": \"BBY\",\n      \"properties\": {\n        \"dtype\": \"number\",\n        \"std\": 25.836289014876577,\n        \"min\": 0.107,\n        \"max\": 128.063,\n        \"num_unique_values\": 6103,\n        \"samples\": [\n          18.151,\n          99.23,\n          10.793\n        ],\n        \"semantic_type\": \"\",\n        \"description\": \"\"\n      }\n    },\n    {\n      \"column\": \"CVX\",\n      \"properties\": {\n        \"dtype\": \"number\",\n        \"std\": 36.68401096264124,\n        \"min\": 4.639,\n        \"max\": 183.178,\n        \"num_unique_values\": 6798,\n        \"samples\": [\n          5.187,\n          80.581,\n          22.785\n        ],\n        \"semantic_type\": \"\",\n        \"description\": \"\"\n      }\n    },\n    {\n      \"column\": \"GE\",\n      \"properties\": {\n        \"dtype\": \"number\",\n        \"std\": 47.245052402931655,\n        \"min\": 11.139,\n        \"max\": 198.683,\n        \"num_unique_values\": 6695,\n        \"samples\": [\n          63.785,\n          52.081,\n          72.105\n        ],\n        \"semantic_type\": \"\",\n        \"description\": \"\"\n      }\n    },\n    {\n      \"column\": \"HD\",\n      \"properties\": {\n        \"dtype\": \"number\",\n        \"std\": 84.27767043071451,\n        \"min\": 1.036,\n        \"max\": 400.167,\n        \"num_unique_values\": 6867,\n        \"samples\": [\n          23.611,\n          11.129,\n          30.549\n        ],\n        \"semantic_type\": \"\",\n        \"description\": \"\"\n      }\n    },\n    {\n      \"column\": \"JNJ\",\n      \"properties\": {\n        \"dtype\": \"number\",\n        \"std\": 45.47757627735249,\n        \"min\": 2.985,\n        \"max\": 179.753,\n        \"num_unique_values\": 6950,\n        \"samples\": [\n          122.557,\n          47.756,\n          59.666\n        ],\n        \"semantic_type\": \"\",\n        \"description\": \"\"\n      }\n    },\n    {\n      \"column\": \"JPM\",\n      \"properties\": {\n        \"dtype\": \"number\",\n        \"std\": 36.216874846020474,\n        \"min\": 1.24,\n        \"max\": 162.897,\n        \"num_unique_values\": 6799,\n        \"samples\": [\n          46.328,\n          14.312,\n          16.132\n        ],\n        \"semantic_type\": \"\",\n        \"description\": \"\"\n      }\n    },\n    {\n      \"column\": \"KO\",\n      \"properties\": {\n        \"dtype\": \"number\",\n        \"std\": 14.473527652408038,\n        \"min\": 1.898,\n        \"max\": 63.82,\n        \"num_unique_values\": 6196,\n        \"samples\": [\n          18.57,\n          45.579,\n          22.251\n        ],\n        \"semantic_type\": \"\",\n        \"description\": \"\"\n      }\n    },\n    {\n      \"column\": \"LLY\",\n      \"properties\": {\n        \"dtype\": \"number\",\n        \"std\": 62.05957411163864,\n        \"min\": 4.753,\n        \"max\": 372.582,\n        \"num_unique_values\": 6907,\n        \"samples\": [\n          31.039,\n          14.227,\n          24.086\n        ],\n        \"semantic_type\": \"\",\n        \"description\": \"\"\n      }\n    },\n    {\n      \"column\": \"MRK\",\n      \"properties\": {\n        \"dtype\": \"number\",\n        \"std\": 20.84012964463498,\n        \"min\": 3.622,\n        \"max\": 110.607,\n        \"num_unique_values\": 6761,\n        \"samples\": [\n          70.094,\n          41.622,\n          15.434\n        ],\n        \"semantic_type\": \"\",\n        \"description\": \"\"\n      }\n    },\n    {\n      \"column\": \"MSFT\",\n      \"properties\": {\n        \"dtype\": \"number\",\n        \"std\": 68.94740900375508,\n        \"min\": 0.372,\n        \"max\": 338.336,\n        \"num_unique_values\": 6425,\n        \"samples\": [\n          1.637,\n          98.485,\n          289.416\n        ],\n        \"semantic_type\": \"\",\n        \"description\": \"\"\n      }\n    },\n    {\n      \"column\": \"PEP\",\n      \"properties\": {\n        \"dtype\": \"number\",\n        \"std\": 41.52257241805237,\n        \"min\": 4.129,\n        \"max\": 183.371,\n        \"num_unique_values\": 6612,\n        \"samples\": [\n          43.746,\n          31.709,\n          120.878\n        ],\n        \"semantic_type\": \"\",\n        \"description\": \"\"\n      }\n    },\n    {\n      \"column\": \"PFE\",\n      \"properties\": {\n        \"dtype\": \"number\",\n        \"std\": 11.1805632627542,\n        \"min\": 0.812,\n        \"max\": 57.514,\n        \"num_unique_values\": 6222,\n        \"samples\": [\n          1.704,\n          9.517,\n          30.495\n        ],\n        \"semantic_type\": \"\",\n        \"description\": \"\"\n      }\n    },\n    {\n      \"column\": \"PG\",\n      \"properties\": {\n        \"dtype\": \"number\",\n        \"std\": 36.293129629561264,\n        \"min\": 3.444,\n        \"max\": 158.213,\n        \"num_unique_values\": 6865,\n        \"samples\": [\n          23.976,\n          21.098,\n          17.653\n        ],\n        \"semantic_type\": \"\",\n        \"description\": \"\"\n      }\n    },\n    {\n      \"column\": \"RRC\",\n      \"properties\": {\n        \"dtype\": \"number\",\n        \"std\": 22.148195768847167,\n        \"min\": 0.889,\n        \"max\": 89.73,\n        \"num_unique_values\": 5196,\n        \"samples\": [\n          23.225,\n          4.983,\n          78.92\n        ],\n        \"semantic_type\": \"\",\n        \"description\": \"\"\n      }\n    },\n    {\n      \"column\": \"UNH\",\n      \"properties\": {\n        \"dtype\": \"number\",\n        \"std\": 119.95769538925252,\n        \"min\": 0.206,\n        \"max\": 549.225,\n        \"num_unique_values\": 6744,\n        \"samples\": [\n          23.307,\n          5.576,\n          10.656\n        ],\n        \"semantic_type\": \"\",\n        \"description\": \"\"\n      }\n    },\n    {\n      \"column\": \"WMT\",\n      \"properties\": {\n        \"dtype\": \"number\",\n        \"std\": 36.141705257774845,\n        \"min\": 3.149,\n        \"max\": 156.764,\n        \"num_unique_values\": 6482,\n        \"samples\": [\n          38.898,\n          47.002,\n          36.298\n        ],\n        \"semantic_type\": \"\",\n        \"description\": \"\"\n      }\n    },\n    {\n      \"column\": \"XOM\",\n      \"properties\": {\n        \"dtype\": \"number\",\n        \"std\": 22.858163007241185,\n        \"min\": 3.708,\n        \"max\": 112.333,\n        \"num_unique_values\": 6559,\n        \"samples\": [\n          33.357,\n          67.273,\n          20.29\n        ],\n        \"semantic_type\": \"\",\n        \"description\": \"\"\n      }\n    }\n  ]\n}"
            }
          },
          "metadata": {},
          "execution_count": 4
        }
      ]
    },
    {
      "cell_type": "code",
      "source": [
        "X = prices_to_returns(prices)\n",
        "X_train, X_test = train_test_split(X, test_size=0.33, shuffle=False)\n",
        "print(X_train.head())"
      ],
      "metadata": {
        "colab": {
          "base_uri": "https://localhost:8080/"
        },
        "id": "RpG-g5DxTy3y",
        "outputId": "1a8003f5-6230-43ed-a487-cfb832de735d"
      },
      "execution_count": 26,
      "outputs": [
        {
          "output_type": "stream",
          "name": "stdout",
          "text": [
            "                AAPL       AMD       BAC       BBY       CVX        GE  \\\n",
            "Date                                                                     \n",
            "1990-01-03  0.007576 -0.030303  0.008045  0.118056 -0.016229 -0.001876   \n",
            "1990-01-04  0.003759 -0.015500 -0.021355 -0.012422 -0.012831 -0.005639   \n",
            "1990-01-05  0.003745 -0.031996 -0.021821  0.000000 -0.014855 -0.009452   \n",
            "1990-01-08  0.003731  0.000000  0.005633 -0.075472  0.009424  0.005725   \n",
            "1990-01-09 -0.007435  0.016527  0.000000  0.000000 -0.007469 -0.020803   \n",
            "\n",
            "                  HD       JNJ       JPM        KO       LLY       MRK  \\\n",
            "Date                                                                     \n",
            "1990-01-03  0.003581  0.004072  0.033589 -0.014318  0.000000  0.015896   \n",
            "1990-01-04  0.006244  0.002028  0.003991 -0.004993 -0.005557 -0.015647   \n",
            "1990-01-05 -0.013298 -0.010408  0.003975 -0.008212 -0.010874 -0.020641   \n",
            "1990-01-08 -0.009883  0.016944  0.000000  0.021159  0.000000  0.012839   \n",
            "1990-01-09 -0.026316 -0.031026 -0.031957 -0.007658 -0.011147 -0.007893   \n",
            "\n",
            "                MSFT       PEP       PFE        PG  RRC       UNH       WMT  \\\n",
            "Date                                                                          \n",
            "1990-01-03  0.005208 -0.009709  0.002938 -0.001813  0.0 -0.019355  0.000000   \n",
            "1990-01-04  0.028497 -0.009804  0.016602 -0.019725  0.0 -0.009868 -0.005201   \n",
            "1990-01-05 -0.025189 -0.013991 -0.008646 -0.018004  0.0 -0.043189 -0.010732   \n",
            "1990-01-08  0.015504  0.018118 -0.008721  0.018334  0.0 -0.020833  0.013630   \n",
            "1990-01-09 -0.002545 -0.013722 -0.021505  0.000000  0.0 -0.024823 -0.026619   \n",
            "\n",
            "                 XOM  \n",
            "Date                  \n",
            "1990-01-03 -0.010079  \n",
            "1990-01-04 -0.009933  \n",
            "1990-01-05 -0.005267  \n",
            "1990-01-08  0.015381  \n",
            "1990-01-09 -0.020114  \n"
          ]
        }
      ]
    },
    {
      "cell_type": "code",
      "source": [
        "from skfolio.optimization import MeanRisk ,ObjectiveFunction\n",
        "function = MeanRisk(\n",
        "    risk_measure=RiskMeasure.CVAR,\n",
        "    objective_function=ObjectiveFunction.MINIMIZE_RISK,\n",
        "    portfolio_params=dict(name=\"Min CVaR\"),\n",
        ")\n",
        "function.fit(X_train)\n",
        "function.weights_"
      ],
      "metadata": {
        "colab": {
          "base_uri": "https://localhost:8080/"
        },
        "id": "zgXSRNaGT4_Y",
        "outputId": "aa665309-860b-4180-e2ff-63fbe8b05b2a"
      },
      "execution_count": 27,
      "outputs": [
        {
          "output_type": "execute_result",
          "data": {
            "text/plain": [
              "array([2.16562529e-02, 1.41742527e-10, 3.64888981e-11, 1.47358386e-02,\n",
              "       1.35927671e-01, 1.91035768e-10, 3.58350612e-10, 2.10319630e-01,\n",
              "       4.89793803e-11, 8.14733606e-02, 1.92817471e-02, 4.13607836e-10,\n",
              "       7.79844555e-10, 1.26155697e-01, 4.04585759e-10, 1.52708811e-01,\n",
              "       1.20106233e-02, 6.41726679e-03, 1.01024013e-01, 1.18289085e-01])"
            ]
          },
          "metadata": {},
          "execution_count": 27
        }
      ]
    },
    {
      "cell_type": "code",
      "source": [
        "function = MeanRisk(budget=None, min_budget=0.3, max_budget=0.5)\n",
        "function.fit(X)\n",
        "print(sum(function.weights_))\n",
        "function.weights_"
      ],
      "metadata": {
        "colab": {
          "base_uri": "https://localhost:8080/"
        },
        "id": "hSw1mL68VAeN",
        "outputId": "76d8b038-1cf6-464a-ad8a-f36029893ace"
      },
      "execution_count": 28,
      "outputs": [
        {
          "output_type": "stream",
          "name": "stdout",
          "text": [
            "0.30000003916225304\n"
          ]
        },
        {
          "output_type": "execute_result",
          "data": {
            "text/plain": [
              "array([7.82679381e-03, 1.18331943e-07, 1.14395653e-07, 2.05218577e-03,\n",
              "       2.15009010e-02, 2.14359256e-07, 2.58606661e-07, 5.94038815e-02,\n",
              "       1.38502369e-07, 3.62601668e-02, 9.04209387e-03, 6.30979655e-03,\n",
              "       2.96944698e-03, 3.41087755e-02, 3.45801015e-03, 4.97522144e-02,\n",
              "       2.94825754e-03, 2.87672749e-03, 3.47226412e-02, 2.67673024e-02])"
            ]
          },
          "metadata": {},
          "execution_count": 28
        }
      ]
    },
    {
      "cell_type": "code",
      "source": [
        "import numpy as np\n",
        "import cvxpy as cp\n",
        "import pandas as pd\n",
        "weights = cp.Variable(X_train.shape[1])\n",
        "X_train = X_train.values if isinstance(X_train, pd.DataFrame) else X_train\n",
        "\n",
        "#Risk Measures\n",
        "alpha = 0.95\n",
        "VaR = cp.Variable()\n",
        "z = cp.Variable(X_train.shape[0])\n",
        "risk_measure = VaR + (1 / (1 - alpha)) * cp.sum(z) / X_train.shape[0]\n",
        "\n",
        "#Objective Function\n",
        "objective = cp.Minimize(risk_measure)\n",
        "\n",
        "#Constraints\n",
        "constraints = [\n",
        "    weights >= 0,\n",
        "    cp.sum(weights) == 1,\n",
        "    z >= 0,\n",
        "    z >= -X_train @ weights - VaR\n",
        "]\n",
        "\n",
        "#Optimization problem\n",
        "problem = cp.Problem(objective, constraints)\n",
        "\n",
        "# Check if the problem is convex\n",
        "is_convex = problem.is_dcp()"
      ],
      "metadata": {
        "id": "uRGHHz4bWU-c"
      },
      "execution_count": 31,
      "outputs": []
    },
    {
      "cell_type": "code",
      "source": [
        "print(f\"Is the MeanRisk model with CVaR risk measure and MINIMIZE_RISK objective function convex? {is_convex}\")"
      ],
      "metadata": {
        "colab": {
          "base_uri": "https://localhost:8080/"
        },
        "id": "lTVgnEJGWXgA",
        "outputId": "90ab22e5-1162-4f97-a1c6-3568bf2ee2a0"
      },
      "execution_count": 32,
      "outputs": [
        {
          "output_type": "stream",
          "name": "stdout",
          "text": [
            "Is the MeanRisk model with CVaR risk measure and MINIMIZE_RISK objective function convex? True\n"
          ]
        }
      ]
    },
  {
   "cell_type": "code",
   "execution_count": 20,
   "metadata": {},
   "outputs": [
    {
     "name": "stdout",
     "output_type": "stream",
     "text": [
      "Is the modified MeanRisk model with CVaR risk measure and MINIMIZE_RISK objective function convex? False\n"
     ]
    }
   ],
   "source": [
    "# Non-Linear Constraints\n",
    "# Add a non-convex constraint to the weights, such as an exponential constraint\n",
    "non_convex_constraint = cp.sum(cp.log(weights + 1e-6)) <= 2  # Non-convex constraint example\n",
    "\n",
    "# Constraints\n",
    "nc_constraints = [\n",
    "    weights >= 0,\n",
    "    cp.sum(weights) == 1,\n",
    "    z >= 0,\n",
    "    z >= -X_train @ weights - VaR,\n",
    "    non_convex_constraint  # Adding the non-convex constraint\n",
    "]\n",
    "\n",
    "# Optimization problem\n",
    "nc_problem = cp.Problem(objective, nc_constraints)\n",
    "\n",
    "# Check if the problem is convex\n",
    "is_convex = nc_problem.is_dcp()\n",
    "print(f\"Is the modified MeanRisk model with CVaR risk measure and MINIMIZE_RISK objective function convex? {is_convex}\")"
   ]
    },
    {
      "cell_type": "code",
      "source": [
        "from skfolio.optimization import EqualWeighted, MeanRisk, ObjectiveFunction\n",
        "benchmark = EqualWeighted(portfolio_params=dict(name=\"Equal Weighted\"))\n",
        "# Even if `X` has no impact (as it is equal weighted), we still need to call `fit` for\n",
        "# API consistency.\n",
        "benchmark.fit(X_train)\n",
        "benchmark.weights_"
      ],
      "metadata": {
        "colab": {
          "base_uri": "https://localhost:8080/"
        },
        "id": "fkEDpdPUXQYG",
        "outputId": "4a96ba71-7ec8-47e0-8089-5b26881484b7"
      },
      "execution_count": 33,
      "outputs": [
        {
          "output_type": "execute_result",
          "data": {
            "text/plain": [
              "array([0.05, 0.05, 0.05, 0.05, 0.05, 0.05, 0.05, 0.05, 0.05, 0.05, 0.05,\n",
              "       0.05, 0.05, 0.05, 0.05, 0.05, 0.05, 0.05, 0.05, 0.05])"
            ]
          },
          "metadata": {},
          "execution_count": 33
        }
      ]
    },
    {
      "cell_type": "code",
      "source": [
        "X_test = X_test.values if isinstance(X_test, pd.DataFrame) else X_test\n",
        "pred_model = function.predict(X_test)\n",
        "pred_bench = benchmark.predict(X_test)"
      ],
      "metadata": {
        "id": "83ad9_IdXQbX"
      },
      "execution_count": 34,
      "outputs": []
    },
    {
      "cell_type": "code",
      "source": [
        "np.asarray(pred_model)\n"
      ],
      "metadata": {
        "colab": {
          "base_uri": "https://localhost:8080/"
        },
        "id": "JgwADlVpXQd3",
        "outputId": "16a714c8-e99c-45cc-e8f0-23d7e7082178"
      },
      "execution_count": 35,
      "outputs": [
        {
          "output_type": "execute_result",
          "data": {
            "text/plain": [
              "array([ 0.00071098,  0.00101054, -0.00025058, ...,  0.00248715,\n",
              "        0.00123894, -0.0034885 ])"
            ]
          },
          "metadata": {},
          "execution_count": 35
        }
      ]
    },
    {
      "cell_type": "code",
      "source": [
        "print(pred_model.cvar)\n",
        "print(pred_bench.cvar)"
      ],
      "metadata": {
        "colab": {
          "base_uri": "https://localhost:8080/"
        },
        "id": "6cRLkR9UXQhS",
        "outputId": "95e23d28-927b-49e4-91f5-5fc807b64dc1"
      },
      "execution_count": 36,
      "outputs": [
        {
          "output_type": "stream",
          "name": "stdout",
          "text": [
            "0.006270742895541362\n",
            "0.025061083134673378\n"
          ]
        }
      ]
    },
    {
      "cell_type": "code",
      "source": [
        "population = Population([pred_model, pred_bench])"
      ],
      "metadata": {
        "id": "4cGhWbChZb_Z"
      },
      "execution_count": 37,
      "outputs": []
    },
    {
      "cell_type": "code",
      "source": [
        "population.plot_composition()"
      ],
      "metadata": {
        "colab": {
          "base_uri": "https://localhost:8080/",
          "height": 542
        },
        "id": "naltL-Q0ZcF5",
        "outputId": "36acbbfc-037e-4329-8d69-c0532899edb6"
      },
      "execution_count": 38,
      "outputs": [
        {
          "output_type": "display_data",
          "data": {
            "text/html": [
              "<html>\n",
              "<head><meta charset=\"utf-8\" /></head>\n",
              "<body>\n",
              "    <div>            <script src=\"https://cdnjs.cloudflare.com/ajax/libs/mathjax/2.7.5/MathJax.js?config=TeX-AMS-MML_SVG\"></script><script type=\"text/javascript\">if (window.MathJax && window.MathJax.Hub && window.MathJax.Hub.Config) {window.MathJax.Hub.Config({SVG: {font: \"STIX-Web\"}});}</script>                <script type=\"text/javascript\">window.PlotlyConfig = {MathJaxConfig: 'local'};</script>\n",
              "        <script charset=\"utf-8\" src=\"https://cdn.plot.ly/plotly-2.35.2.min.js\"></script>                <div id=\"adda17d5-9694-409b-b374-25013c8597ae\" class=\"plotly-graph-div\" style=\"height:525px; width:100%;\"></div>            <script type=\"text/javascript\">                                    window.PLOTLYENV=window.PLOTLYENV || {};                                    if (document.getElementById(\"adda17d5-9694-409b-b374-25013c8597ae\")) {                    Plotly.newPlot(                        \"adda17d5-9694-409b-b374-25013c8597ae\",                        [{\"alignmentgroup\":\"True\",\"hovertemplate\":\"asset=x7\\u003cbr\\u003eindex=%{x}\\u003cbr\\u003evalue=%{y}\\u003cextra\\u003e\\u003c\\u002fextra\\u003e\",\"legendgroup\":\"x7\",\"marker\":{\"color\":\"#636efa\",\"pattern\":{\"shape\":\"\"}},\"name\":\"x7\",\"offsetgroup\":\"x7\",\"orientation\":\"v\",\"showlegend\":true,\"textposition\":\"auto\",\"x\":[\"MeanRisk\",\"Equal Weighted\"],\"xaxis\":\"x\",\"y\":[0.059403881538346796,0.05],\"yaxis\":\"y\",\"type\":\"bar\"},{\"alignmentgroup\":\"True\",\"hovertemplate\":\"asset=x15\\u003cbr\\u003eindex=%{x}\\u003cbr\\u003evalue=%{y}\\u003cextra\\u003e\\u003c\\u002fextra\\u003e\",\"legendgroup\":\"x15\",\"marker\":{\"color\":\"#EF553B\",\"pattern\":{\"shape\":\"\"}},\"name\":\"x15\",\"offsetgroup\":\"x15\",\"orientation\":\"v\",\"showlegend\":true,\"textposition\":\"auto\",\"x\":[\"MeanRisk\",\"Equal Weighted\"],\"xaxis\":\"x\",\"y\":[0.04975221437201168,0.05],\"yaxis\":\"y\",\"type\":\"bar\"},{\"alignmentgroup\":\"True\",\"hovertemplate\":\"asset=x9\\u003cbr\\u003eindex=%{x}\\u003cbr\\u003evalue=%{y}\\u003cextra\\u003e\\u003c\\u002fextra\\u003e\",\"legendgroup\":\"x9\",\"marker\":{\"color\":\"#00cc96\",\"pattern\":{\"shape\":\"\"}},\"name\":\"x9\",\"offsetgroup\":\"x9\",\"orientation\":\"v\",\"showlegend\":true,\"textposition\":\"auto\",\"x\":[\"MeanRisk\",\"Equal Weighted\"],\"xaxis\":\"x\",\"y\":[0.036260166751355294,0.05],\"yaxis\":\"y\",\"type\":\"bar\"},{\"alignmentgroup\":\"True\",\"hovertemplate\":\"asset=x18\\u003cbr\\u003eindex=%{x}\\u003cbr\\u003evalue=%{y}\\u003cextra\\u003e\\u003c\\u002fextra\\u003e\",\"legendgroup\":\"x18\",\"marker\":{\"color\":\"#ab63fa\",\"pattern\":{\"shape\":\"\"}},\"name\":\"x18\",\"offsetgroup\":\"x18\",\"orientation\":\"v\",\"showlegend\":true,\"textposition\":\"auto\",\"x\":[\"MeanRisk\",\"Equal Weighted\"],\"xaxis\":\"x\",\"y\":[0.034722641196385795,0.05],\"yaxis\":\"y\",\"type\":\"bar\"},{\"alignmentgroup\":\"True\",\"hovertemplate\":\"asset=x13\\u003cbr\\u003eindex=%{x}\\u003cbr\\u003evalue=%{y}\\u003cextra\\u003e\\u003c\\u002fextra\\u003e\",\"legendgroup\":\"x13\",\"marker\":{\"color\":\"#FFA15A\",\"pattern\":{\"shape\":\"\"}},\"name\":\"x13\",\"offsetgroup\":\"x13\",\"orientation\":\"v\",\"showlegend\":true,\"textposition\":\"auto\",\"x\":[\"MeanRisk\",\"Equal Weighted\"],\"xaxis\":\"x\",\"y\":[0.03410877552529488,0.05],\"yaxis\":\"y\",\"type\":\"bar\"},{\"alignmentgroup\":\"True\",\"hovertemplate\":\"asset=x19\\u003cbr\\u003eindex=%{x}\\u003cbr\\u003evalue=%{y}\\u003cextra\\u003e\\u003c\\u002fextra\\u003e\",\"legendgroup\":\"x19\",\"marker\":{\"color\":\"#19d3f3\",\"pattern\":{\"shape\":\"\"}},\"name\":\"x19\",\"offsetgroup\":\"x19\",\"orientation\":\"v\",\"showlegend\":true,\"textposition\":\"auto\",\"x\":[\"MeanRisk\",\"Equal Weighted\"],\"xaxis\":\"x\",\"y\":[0.026767302416548008,0.05],\"yaxis\":\"y\",\"type\":\"bar\"},{\"alignmentgroup\":\"True\",\"hovertemplate\":\"asset=x4\\u003cbr\\u003eindex=%{x}\\u003cbr\\u003evalue=%{y}\\u003cextra\\u003e\\u003c\\u002fextra\\u003e\",\"legendgroup\":\"x4\",\"marker\":{\"color\":\"#FF6692\",\"pattern\":{\"shape\":\"\"}},\"name\":\"x4\",\"offsetgroup\":\"x4\",\"orientation\":\"v\",\"showlegend\":true,\"textposition\":\"auto\",\"x\":[\"MeanRisk\",\"Equal Weighted\"],\"xaxis\":\"x\",\"y\":[0.02150090100266351,0.05],\"yaxis\":\"y\",\"type\":\"bar\"},{\"alignmentgroup\":\"True\",\"hovertemplate\":\"asset=x10\\u003cbr\\u003eindex=%{x}\\u003cbr\\u003evalue=%{y}\\u003cextra\\u003e\\u003c\\u002fextra\\u003e\",\"legendgroup\":\"x10\",\"marker\":{\"color\":\"#B6E880\",\"pattern\":{\"shape\":\"\"}},\"name\":\"x10\",\"offsetgroup\":\"x10\",\"orientation\":\"v\",\"showlegend\":true,\"textposition\":\"auto\",\"x\":[\"MeanRisk\",\"Equal Weighted\"],\"xaxis\":\"x\",\"y\":[0.009042093868687245,0.05],\"yaxis\":\"y\",\"type\":\"bar\"},{\"alignmentgroup\":\"True\",\"hovertemplate\":\"asset=x0\\u003cbr\\u003eindex=%{x}\\u003cbr\\u003evalue=%{y}\\u003cextra\\u003e\\u003c\\u002fextra\\u003e\",\"legendgroup\":\"x0\",\"marker\":{\"color\":\"#FF97FF\",\"pattern\":{\"shape\":\"\"}},\"name\":\"x0\",\"offsetgroup\":\"x0\",\"orientation\":\"v\",\"showlegend\":true,\"textposition\":\"auto\",\"x\":[\"MeanRisk\",\"Equal Weighted\"],\"xaxis\":\"x\",\"y\":[0.007826793812690759,0.05],\"yaxis\":\"y\",\"type\":\"bar\"},{\"alignmentgroup\":\"True\",\"hovertemplate\":\"asset=x11\\u003cbr\\u003eindex=%{x}\\u003cbr\\u003evalue=%{y}\\u003cextra\\u003e\\u003c\\u002fextra\\u003e\",\"legendgroup\":\"x11\",\"marker\":{\"color\":\"#FECB52\",\"pattern\":{\"shape\":\"\"}},\"name\":\"x11\",\"offsetgroup\":\"x11\",\"orientation\":\"v\",\"showlegend\":true,\"textposition\":\"auto\",\"x\":[\"MeanRisk\",\"Equal Weighted\"],\"xaxis\":\"x\",\"y\":[0.00630979655299205,0.05],\"yaxis\":\"y\",\"type\":\"bar\"},{\"alignmentgroup\":\"True\",\"hovertemplate\":\"asset=x14\\u003cbr\\u003eindex=%{x}\\u003cbr\\u003evalue=%{y}\\u003cextra\\u003e\\u003c\\u002fextra\\u003e\",\"legendgroup\":\"x14\",\"marker\":{\"color\":\"#636efa\",\"pattern\":{\"shape\":\"\"}},\"name\":\"x14\",\"offsetgroup\":\"x14\",\"orientation\":\"v\",\"showlegend\":true,\"textposition\":\"auto\",\"x\":[\"MeanRisk\",\"Equal Weighted\"],\"xaxis\":\"x\",\"y\":[0.0034580101472228963,0.05],\"yaxis\":\"y\",\"type\":\"bar\"},{\"alignmentgroup\":\"True\",\"hovertemplate\":\"asset=x12\\u003cbr\\u003eindex=%{x}\\u003cbr\\u003evalue=%{y}\\u003cextra\\u003e\\u003c\\u002fextra\\u003e\",\"legendgroup\":\"x12\",\"marker\":{\"color\":\"#EF553B\",\"pattern\":{\"shape\":\"\"}},\"name\":\"x12\",\"offsetgroup\":\"x12\",\"orientation\":\"v\",\"showlegend\":true,\"textposition\":\"auto\",\"x\":[\"MeanRisk\",\"Equal Weighted\"],\"xaxis\":\"x\",\"y\":[0.0029694469822361034,0.05],\"yaxis\":\"y\",\"type\":\"bar\"},{\"alignmentgroup\":\"True\",\"hovertemplate\":\"asset=x16\\u003cbr\\u003eindex=%{x}\\u003cbr\\u003evalue=%{y}\\u003cextra\\u003e\\u003c\\u002fextra\\u003e\",\"legendgroup\":\"x16\",\"marker\":{\"color\":\"#00cc96\",\"pattern\":{\"shape\":\"\"}},\"name\":\"x16\",\"offsetgroup\":\"x16\",\"orientation\":\"v\",\"showlegend\":true,\"textposition\":\"auto\",\"x\":[\"MeanRisk\",\"Equal Weighted\"],\"xaxis\":\"x\",\"y\":[0.002948257535357876,0.05],\"yaxis\":\"y\",\"type\":\"bar\"},{\"alignmentgroup\":\"True\",\"hovertemplate\":\"asset=x17\\u003cbr\\u003eindex=%{x}\\u003cbr\\u003evalue=%{y}\\u003cextra\\u003e\\u003c\\u002fextra\\u003e\",\"legendgroup\":\"x17\",\"marker\":{\"color\":\"#ab63fa\",\"pattern\":{\"shape\":\"\"}},\"name\":\"x17\",\"offsetgroup\":\"x17\",\"orientation\":\"v\",\"showlegend\":true,\"textposition\":\"auto\",\"x\":[\"MeanRisk\",\"Equal Weighted\"],\"xaxis\":\"x\",\"y\":[0.00287672749193416,0.05],\"yaxis\":\"y\",\"type\":\"bar\"},{\"alignmentgroup\":\"True\",\"hovertemplate\":\"asset=x3\\u003cbr\\u003eindex=%{x}\\u003cbr\\u003evalue=%{y}\\u003cextra\\u003e\\u003c\\u002fextra\\u003e\",\"legendgroup\":\"x3\",\"marker\":{\"color\":\"#FFA15A\",\"pattern\":{\"shape\":\"\"}},\"name\":\"x3\",\"offsetgroup\":\"x3\",\"orientation\":\"v\",\"showlegend\":true,\"textposition\":\"auto\",\"x\":[\"MeanRisk\",\"Equal Weighted\"],\"xaxis\":\"x\",\"y\":[0.0020521857726453646,0.05],\"yaxis\":\"y\",\"type\":\"bar\"},{\"alignmentgroup\":\"True\",\"hovertemplate\":\"asset=x1\\u003cbr\\u003eindex=%{x}\\u003cbr\\u003evalue=%{y}\\u003cextra\\u003e\\u003c\\u002fextra\\u003e\",\"legendgroup\":\"x1\",\"marker\":{\"color\":\"#19d3f3\",\"pattern\":{\"shape\":\"\"}},\"name\":\"x1\",\"offsetgroup\":\"x1\",\"orientation\":\"v\",\"showlegend\":true,\"textposition\":\"auto\",\"x\":[\"MeanRisk\",\"Equal Weighted\"],\"xaxis\":\"x\",\"y\":[0.0,0.05],\"yaxis\":\"y\",\"type\":\"bar\"},{\"alignmentgroup\":\"True\",\"hovertemplate\":\"asset=x8\\u003cbr\\u003eindex=%{x}\\u003cbr\\u003evalue=%{y}\\u003cextra\\u003e\\u003c\\u002fextra\\u003e\",\"legendgroup\":\"x8\",\"marker\":{\"color\":\"#FF6692\",\"pattern\":{\"shape\":\"\"}},\"name\":\"x8\",\"offsetgroup\":\"x8\",\"orientation\":\"v\",\"showlegend\":true,\"textposition\":\"auto\",\"x\":[\"MeanRisk\",\"Equal Weighted\"],\"xaxis\":\"x\",\"y\":[0.0,0.05],\"yaxis\":\"y\",\"type\":\"bar\"},{\"alignmentgroup\":\"True\",\"hovertemplate\":\"asset=x6\\u003cbr\\u003eindex=%{x}\\u003cbr\\u003evalue=%{y}\\u003cextra\\u003e\\u003c\\u002fextra\\u003e\",\"legendgroup\":\"x6\",\"marker\":{\"color\":\"#B6E880\",\"pattern\":{\"shape\":\"\"}},\"name\":\"x6\",\"offsetgroup\":\"x6\",\"orientation\":\"v\",\"showlegend\":true,\"textposition\":\"auto\",\"x\":[\"MeanRisk\",\"Equal Weighted\"],\"xaxis\":\"x\",\"y\":[0.0,0.05],\"yaxis\":\"y\",\"type\":\"bar\"},{\"alignmentgroup\":\"True\",\"hovertemplate\":\"asset=x5\\u003cbr\\u003eindex=%{x}\\u003cbr\\u003evalue=%{y}\\u003cextra\\u003e\\u003c\\u002fextra\\u003e\",\"legendgroup\":\"x5\",\"marker\":{\"color\":\"#FF97FF\",\"pattern\":{\"shape\":\"\"}},\"name\":\"x5\",\"offsetgroup\":\"x5\",\"orientation\":\"v\",\"showlegend\":true,\"textposition\":\"auto\",\"x\":[\"MeanRisk\",\"Equal Weighted\"],\"xaxis\":\"x\",\"y\":[0.0,0.05],\"yaxis\":\"y\",\"type\":\"bar\"},{\"alignmentgroup\":\"True\",\"hovertemplate\":\"asset=x2\\u003cbr\\u003eindex=%{x}\\u003cbr\\u003evalue=%{y}\\u003cextra\\u003e\\u003c\\u002fextra\\u003e\",\"legendgroup\":\"x2\",\"marker\":{\"color\":\"#FECB52\",\"pattern\":{\"shape\":\"\"}},\"name\":\"x2\",\"offsetgroup\":\"x2\",\"orientation\":\"v\",\"showlegend\":true,\"textposition\":\"auto\",\"x\":[\"MeanRisk\",\"Equal Weighted\"],\"xaxis\":\"x\",\"y\":[0.0,0.05],\"yaxis\":\"y\",\"type\":\"bar\"}],                        {\"template\":{\"data\":{\"histogram2dcontour\":[{\"type\":\"histogram2dcontour\",\"colorbar\":{\"outlinewidth\":0,\"ticks\":\"\"},\"colorscale\":[[0.0,\"#0d0887\"],[0.1111111111111111,\"#46039f\"],[0.2222222222222222,\"#7201a8\"],[0.3333333333333333,\"#9c179e\"],[0.4444444444444444,\"#bd3786\"],[0.5555555555555556,\"#d8576b\"],[0.6666666666666666,\"#ed7953\"],[0.7777777777777778,\"#fb9f3a\"],[0.8888888888888888,\"#fdca26\"],[1.0,\"#f0f921\"]]}],\"choropleth\":[{\"type\":\"choropleth\",\"colorbar\":{\"outlinewidth\":0,\"ticks\":\"\"}}],\"histogram2d\":[{\"type\":\"histogram2d\",\"colorbar\":{\"outlinewidth\":0,\"ticks\":\"\"},\"colorscale\":[[0.0,\"#0d0887\"],[0.1111111111111111,\"#46039f\"],[0.2222222222222222,\"#7201a8\"],[0.3333333333333333,\"#9c179e\"],[0.4444444444444444,\"#bd3786\"],[0.5555555555555556,\"#d8576b\"],[0.6666666666666666,\"#ed7953\"],[0.7777777777777778,\"#fb9f3a\"],[0.8888888888888888,\"#fdca26\"],[1.0,\"#f0f921\"]]}],\"heatmap\":[{\"type\":\"heatmap\",\"colorbar\":{\"outlinewidth\":0,\"ticks\":\"\"},\"colorscale\":[[0.0,\"#0d0887\"],[0.1111111111111111,\"#46039f\"],[0.2222222222222222,\"#7201a8\"],[0.3333333333333333,\"#9c179e\"],[0.4444444444444444,\"#bd3786\"],[0.5555555555555556,\"#d8576b\"],[0.6666666666666666,\"#ed7953\"],[0.7777777777777778,\"#fb9f3a\"],[0.8888888888888888,\"#fdca26\"],[1.0,\"#f0f921\"]]}],\"heatmapgl\":[{\"type\":\"heatmapgl\",\"colorbar\":{\"outlinewidth\":0,\"ticks\":\"\"},\"colorscale\":[[0.0,\"#0d0887\"],[0.1111111111111111,\"#46039f\"],[0.2222222222222222,\"#7201a8\"],[0.3333333333333333,\"#9c179e\"],[0.4444444444444444,\"#bd3786\"],[0.5555555555555556,\"#d8576b\"],[0.6666666666666666,\"#ed7953\"],[0.7777777777777778,\"#fb9f3a\"],[0.8888888888888888,\"#fdca26\"],[1.0,\"#f0f921\"]]}],\"contourcarpet\":[{\"type\":\"contourcarpet\",\"colorbar\":{\"outlinewidth\":0,\"ticks\":\"\"}}],\"contour\":[{\"type\":\"contour\",\"colorbar\":{\"outlinewidth\":0,\"ticks\":\"\"},\"colorscale\":[[0.0,\"#0d0887\"],[0.1111111111111111,\"#46039f\"],[0.2222222222222222,\"#7201a8\"],[0.3333333333333333,\"#9c179e\"],[0.4444444444444444,\"#bd3786\"],[0.5555555555555556,\"#d8576b\"],[0.6666666666666666,\"#ed7953\"],[0.7777777777777778,\"#fb9f3a\"],[0.8888888888888888,\"#fdca26\"],[1.0,\"#f0f921\"]]}],\"surface\":[{\"type\":\"surface\",\"colorbar\":{\"outlinewidth\":0,\"ticks\":\"\"},\"colorscale\":[[0.0,\"#0d0887\"],[0.1111111111111111,\"#46039f\"],[0.2222222222222222,\"#7201a8\"],[0.3333333333333333,\"#9c179e\"],[0.4444444444444444,\"#bd3786\"],[0.5555555555555556,\"#d8576b\"],[0.6666666666666666,\"#ed7953\"],[0.7777777777777778,\"#fb9f3a\"],[0.8888888888888888,\"#fdca26\"],[1.0,\"#f0f921\"]]}],\"mesh3d\":[{\"type\":\"mesh3d\",\"colorbar\":{\"outlinewidth\":0,\"ticks\":\"\"}}],\"scatter\":[{\"fillpattern\":{\"fillmode\":\"overlay\",\"size\":10,\"solidity\":0.2},\"type\":\"scatter\"}],\"parcoords\":[{\"type\":\"parcoords\",\"line\":{\"colorbar\":{\"outlinewidth\":0,\"ticks\":\"\"}}}],\"scatterpolargl\":[{\"type\":\"scatterpolargl\",\"marker\":{\"colorbar\":{\"outlinewidth\":0,\"ticks\":\"\"}}}],\"bar\":[{\"error_x\":{\"color\":\"#2a3f5f\"},\"error_y\":{\"color\":\"#2a3f5f\"},\"marker\":{\"line\":{\"color\":\"#E5ECF6\",\"width\":0.5},\"pattern\":{\"fillmode\":\"overlay\",\"size\":10,\"solidity\":0.2}},\"type\":\"bar\"}],\"scattergeo\":[{\"type\":\"scattergeo\",\"marker\":{\"colorbar\":{\"outlinewidth\":0,\"ticks\":\"\"}}}],\"scatterpolar\":[{\"type\":\"scatterpolar\",\"marker\":{\"colorbar\":{\"outlinewidth\":0,\"ticks\":\"\"}}}],\"histogram\":[{\"marker\":{\"pattern\":{\"fillmode\":\"overlay\",\"size\":10,\"solidity\":0.2}},\"type\":\"histogram\"}],\"scattergl\":[{\"type\":\"scattergl\",\"marker\":{\"colorbar\":{\"outlinewidth\":0,\"ticks\":\"\"}}}],\"scatter3d\":[{\"type\":\"scatter3d\",\"line\":{\"colorbar\":{\"outlinewidth\":0,\"ticks\":\"\"}},\"marker\":{\"colorbar\":{\"outlinewidth\":0,\"ticks\":\"\"}}}],\"scattermapbox\":[{\"type\":\"scattermapbox\",\"marker\":{\"colorbar\":{\"outlinewidth\":0,\"ticks\":\"\"}}}],\"scatterternary\":[{\"type\":\"scatterternary\",\"marker\":{\"colorbar\":{\"outlinewidth\":0,\"ticks\":\"\"}}}],\"scattercarpet\":[{\"type\":\"scattercarpet\",\"marker\":{\"colorbar\":{\"outlinewidth\":0,\"ticks\":\"\"}}}],\"carpet\":[{\"aaxis\":{\"endlinecolor\":\"#2a3f5f\",\"gridcolor\":\"white\",\"linecolor\":\"white\",\"minorgridcolor\":\"white\",\"startlinecolor\":\"#2a3f5f\"},\"baxis\":{\"endlinecolor\":\"#2a3f5f\",\"gridcolor\":\"white\",\"linecolor\":\"white\",\"minorgridcolor\":\"white\",\"startlinecolor\":\"#2a3f5f\"},\"type\":\"carpet\"}],\"table\":[{\"cells\":{\"fill\":{\"color\":\"#EBF0F8\"},\"line\":{\"color\":\"white\"}},\"header\":{\"fill\":{\"color\":\"#C8D4E3\"},\"line\":{\"color\":\"white\"}},\"type\":\"table\"}],\"barpolar\":[{\"marker\":{\"line\":{\"color\":\"#E5ECF6\",\"width\":0.5},\"pattern\":{\"fillmode\":\"overlay\",\"size\":10,\"solidity\":0.2}},\"type\":\"barpolar\"}],\"pie\":[{\"automargin\":true,\"type\":\"pie\"}]},\"layout\":{\"autotypenumbers\":\"strict\",\"colorway\":[\"#636efa\",\"#EF553B\",\"#00cc96\",\"#ab63fa\",\"#FFA15A\",\"#19d3f3\",\"#FF6692\",\"#B6E880\",\"#FF97FF\",\"#FECB52\"],\"font\":{\"color\":\"#2a3f5f\"},\"hovermode\":\"closest\",\"hoverlabel\":{\"align\":\"left\"},\"paper_bgcolor\":\"white\",\"plot_bgcolor\":\"#E5ECF6\",\"polar\":{\"bgcolor\":\"#E5ECF6\",\"angularaxis\":{\"gridcolor\":\"white\",\"linecolor\":\"white\",\"ticks\":\"\"},\"radialaxis\":{\"gridcolor\":\"white\",\"linecolor\":\"white\",\"ticks\":\"\"}},\"ternary\":{\"bgcolor\":\"#E5ECF6\",\"aaxis\":{\"gridcolor\":\"white\",\"linecolor\":\"white\",\"ticks\":\"\"},\"baxis\":{\"gridcolor\":\"white\",\"linecolor\":\"white\",\"ticks\":\"\"},\"caxis\":{\"gridcolor\":\"white\",\"linecolor\":\"white\",\"ticks\":\"\"}},\"coloraxis\":{\"colorbar\":{\"outlinewidth\":0,\"ticks\":\"\"}},\"colorscale\":{\"sequential\":[[0.0,\"#0d0887\"],[0.1111111111111111,\"#46039f\"],[0.2222222222222222,\"#7201a8\"],[0.3333333333333333,\"#9c179e\"],[0.4444444444444444,\"#bd3786\"],[0.5555555555555556,\"#d8576b\"],[0.6666666666666666,\"#ed7953\"],[0.7777777777777778,\"#fb9f3a\"],[0.8888888888888888,\"#fdca26\"],[1.0,\"#f0f921\"]],\"sequentialminus\":[[0.0,\"#0d0887\"],[0.1111111111111111,\"#46039f\"],[0.2222222222222222,\"#7201a8\"],[0.3333333333333333,\"#9c179e\"],[0.4444444444444444,\"#bd3786\"],[0.5555555555555556,\"#d8576b\"],[0.6666666666666666,\"#ed7953\"],[0.7777777777777778,\"#fb9f3a\"],[0.8888888888888888,\"#fdca26\"],[1.0,\"#f0f921\"]],\"diverging\":[[0,\"#8e0152\"],[0.1,\"#c51b7d\"],[0.2,\"#de77ae\"],[0.3,\"#f1b6da\"],[0.4,\"#fde0ef\"],[0.5,\"#f7f7f7\"],[0.6,\"#e6f5d0\"],[0.7,\"#b8e186\"],[0.8,\"#7fbc41\"],[0.9,\"#4d9221\"],[1,\"#276419\"]]},\"xaxis\":{\"gridcolor\":\"white\",\"linecolor\":\"white\",\"ticks\":\"\",\"title\":{\"standoff\":15},\"zerolinecolor\":\"white\",\"automargin\":true,\"zerolinewidth\":2},\"yaxis\":{\"gridcolor\":\"white\",\"linecolor\":\"white\",\"ticks\":\"\",\"title\":{\"standoff\":15},\"zerolinecolor\":\"white\",\"automargin\":true,\"zerolinewidth\":2},\"scene\":{\"xaxis\":{\"backgroundcolor\":\"#E5ECF6\",\"gridcolor\":\"white\",\"linecolor\":\"white\",\"showbackground\":true,\"ticks\":\"\",\"zerolinecolor\":\"white\",\"gridwidth\":2},\"yaxis\":{\"backgroundcolor\":\"#E5ECF6\",\"gridcolor\":\"white\",\"linecolor\":\"white\",\"showbackground\":true,\"ticks\":\"\",\"zerolinecolor\":\"white\",\"gridwidth\":2},\"zaxis\":{\"backgroundcolor\":\"#E5ECF6\",\"gridcolor\":\"white\",\"linecolor\":\"white\",\"showbackground\":true,\"ticks\":\"\",\"zerolinecolor\":\"white\",\"gridwidth\":2}},\"shapedefaults\":{\"line\":{\"color\":\"#2a3f5f\"}},\"annotationdefaults\":{\"arrowcolor\":\"#2a3f5f\",\"arrowhead\":0,\"arrowwidth\":1},\"geo\":{\"bgcolor\":\"white\",\"landcolor\":\"#E5ECF6\",\"subunitcolor\":\"white\",\"showland\":true,\"showlakes\":true,\"lakecolor\":\"white\"},\"title\":{\"x\":0.05},\"mapbox\":{\"style\":\"light\"}}},\"xaxis\":{\"anchor\":\"y\",\"domain\":[0.0,1.0],\"title\":{\"text\":\"Portfolios\"}},\"yaxis\":{\"anchor\":\"x\",\"domain\":[0.0,1.0],\"title\":{\"text\":\"Weight\"},\"tickformat\":\",.0%\"},\"legend\":{\"title\":{\"text\":\"asset\"},\"tracegroupgap\":0,\"yanchor\":\"top\",\"y\":0.99,\"xanchor\":\"left\",\"x\":1.15},\"margin\":{\"t\":60},\"barmode\":\"relative\",\"title\":{\"text\":\"Portfolios Composition\"}},                        {\"responsive\": true}                    ).then(function(){\n",
              "                            \n",
              "var gd = document.getElementById('adda17d5-9694-409b-b374-25013c8597ae');\n",
              "var x = new MutationObserver(function (mutations, observer) {{\n",
              "        var display = window.getComputedStyle(gd).display;\n",
              "        if (!display || display === 'none') {{\n",
              "            console.log([gd, 'removed!']);\n",
              "            Plotly.purge(gd);\n",
              "            observer.disconnect();\n",
              "        }}\n",
              "}});\n",
              "\n",
              "// Listen for the removal of the full notebook cells\n",
              "var notebookContainer = gd.closest('#notebook-container');\n",
              "if (notebookContainer) {{\n",
              "    x.observe(notebookContainer, {childList: true});\n",
              "}}\n",
              "\n",
              "// Listen for the clearing of the current output cell\n",
              "var outputEl = gd.closest('.output');\n",
              "if (outputEl) {{\n",
              "    x.observe(outputEl, {childList: true});\n",
              "}}\n",
              "\n",
              "                        })                };                            </script>        </div>\n",
              "</body>\n",
              "</html>"
            ]
          },
          "metadata": {}
        }
      ]
    }
  ]
}