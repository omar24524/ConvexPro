{
 "cells": [
  {
   "cell_type": "code",
   "execution_count": 2,
   "metadata": {
    "colab": {
     "base_uri": "https://localhost:8080/"
    },
    "id": "MsSux3vcTyqA",
    "outputId": "0422e4ca-036d-4b9d-d61b-d0e2c08aea2b"
   },
   "outputs": [
    {
     "name": "stdout",
     "output_type": "stream",
     "text": [
      "Collecting skfolio\n",
      "  Downloading skfolio-0.6.0-py3-none-any.whl.metadata (19 kB)\n",
      "Requirement already satisfied: numpy>=1.23.4 in /usr/local/lib/python3.10/dist-packages (from skfolio) (1.26.4)\n",
      "Requirement already satisfied: scipy>=1.8.0 in /usr/local/lib/python3.10/dist-packages (from skfolio) (1.13.1)\n",
      "Requirement already satisfied: pandas>=1.4.1 in /usr/local/lib/python3.10/dist-packages (from skfolio) (2.2.2)\n",
      "Requirement already satisfied: cvxpy>=1.4.1 in /usr/local/lib/python3.10/dist-packages (from skfolio) (1.5.4)\n",
      "Requirement already satisfied: scikit-learn>=1.5.0 in /usr/local/lib/python3.10/dist-packages (from skfolio) (1.5.2)\n",
      "Requirement already satisfied: joblib>=1.3.2 in /usr/local/lib/python3.10/dist-packages (from skfolio) (1.4.2)\n",
      "Requirement already satisfied: plotly>=5.22.0 in /usr/local/lib/python3.10/dist-packages (from skfolio) (5.24.1)\n",
      "Requirement already satisfied: osqp>=0.6.2 in /usr/local/lib/python3.10/dist-packages (from cvxpy>=1.4.1->skfolio) (0.6.7.post3)\n",
      "Requirement already satisfied: ecos>=2 in /usr/local/lib/python3.10/dist-packages (from cvxpy>=1.4.1->skfolio) (2.0.14)\n",
      "Requirement already satisfied: clarabel>=0.5.0 in /usr/local/lib/python3.10/dist-packages (from cvxpy>=1.4.1->skfolio) (0.9.0)\n",
      "Requirement already satisfied: scs>=3.2.4.post1 in /usr/local/lib/python3.10/dist-packages (from cvxpy>=1.4.1->skfolio) (3.2.7)\n",
      "Requirement already satisfied: python-dateutil>=2.8.2 in /usr/local/lib/python3.10/dist-packages (from pandas>=1.4.1->skfolio) (2.8.2)\n",
      "Requirement already satisfied: pytz>=2020.1 in /usr/local/lib/python3.10/dist-packages (from pandas>=1.4.1->skfolio) (2024.2)\n",
      "Requirement already satisfied: tzdata>=2022.7 in /usr/local/lib/python3.10/dist-packages (from pandas>=1.4.1->skfolio) (2024.2)\n",
      "Requirement already satisfied: tenacity>=6.2.0 in /usr/local/lib/python3.10/dist-packages (from plotly>=5.22.0->skfolio) (9.0.0)\n",
      "Requirement already satisfied: packaging in /usr/local/lib/python3.10/dist-packages (from plotly>=5.22.0->skfolio) (24.2)\n",
      "Requirement already satisfied: threadpoolctl>=3.1.0 in /usr/local/lib/python3.10/dist-packages (from scikit-learn>=1.5.0->skfolio) (3.5.0)\n",
      "Requirement already satisfied: qdldl in /usr/local/lib/python3.10/dist-packages (from osqp>=0.6.2->cvxpy>=1.4.1->skfolio) (0.1.7.post4)\n",
      "Requirement already satisfied: six>=1.5 in /usr/local/lib/python3.10/dist-packages (from python-dateutil>=2.8.2->pandas>=1.4.1->skfolio) (1.16.0)\n",
      "Downloading skfolio-0.6.0-py3-none-any.whl (733 kB)\n",
      "\u001b[2K   \u001b[90m━━━━━━━━━━━━━━━━━━━━━━━━━━━━━━━━━━━━━━━━\u001b[0m \u001b[32m734.0/734.0 kB\u001b[0m \u001b[31m13.9 MB/s\u001b[0m eta \u001b[36m0:00:00\u001b[0m\n",
      "\u001b[?25hInstalling collected packages: skfolio\n",
      "Successfully installed skfolio-0.6.0\n"
     ]
    }
   ],
   "source": [
    "pip install skfolio"
   ]
  },
  {
   "cell_type": "markdown",
   "metadata": {},
   "source": [
    "# Importing Libraries"
   ]
  },
  {
   "cell_type": "code",
   "execution_count": 39,
   "metadata": {
    "id": "1YYqCQvZTq-O"
   },
   "outputs": [],
   "source": [
    "import numpy as np\n",
    "from plotly.io import show\n",
    "from sklearn.model_selection import train_test_split\n",
    "\n",
    "from skfolio import Population, RiskMeasure\n",
    "from skfolio.datasets import load_sp500_dataset\n",
    "from skfolio.preprocessing import prices_to_returns"
   ]
  },
  {
   "cell_type": "markdown",
   "metadata": {},
   "source": [
    "# Dataset"
   ]
  },
  {
   "cell_type": "code",
   "execution_count": 40,
   "metadata": {
    "colab": {
     "base_uri": "https://localhost:8080/",
     "height": 237
    },
    "id": "728DHtxrTy0Z",
    "outputId": "867b0052-0745-462c-808d-07662f08577c"
   },
   "outputs": [
    {
     "data": {
      "text/html": [
       "<div>\n",
       "<style scoped>\n",
       "    .dataframe tbody tr th:only-of-type {\n",
       "        vertical-align: middle;\n",
       "    }\n",
       "\n",
       "    .dataframe tbody tr th {\n",
       "        vertical-align: top;\n",
       "    }\n",
       "\n",
       "    .dataframe thead th {\n",
       "        text-align: right;\n",
       "    }\n",
       "</style>\n",
       "<table border=\"1\" class=\"dataframe\">\n",
       "  <thead>\n",
       "    <tr style=\"text-align: right;\">\n",
       "      <th></th>\n",
       "      <th>AAPL</th>\n",
       "      <th>AMD</th>\n",
       "      <th>BAC</th>\n",
       "      <th>BBY</th>\n",
       "      <th>CVX</th>\n",
       "      <th>GE</th>\n",
       "      <th>HD</th>\n",
       "      <th>JNJ</th>\n",
       "      <th>JPM</th>\n",
       "      <th>KO</th>\n",
       "      <th>LLY</th>\n",
       "      <th>MRK</th>\n",
       "      <th>MSFT</th>\n",
       "      <th>PEP</th>\n",
       "      <th>PFE</th>\n",
       "      <th>PG</th>\n",
       "      <th>RRC</th>\n",
       "      <th>UNH</th>\n",
       "      <th>WMT</th>\n",
       "      <th>XOM</th>\n",
       "    </tr>\n",
       "    <tr>\n",
       "      <th>Date</th>\n",
       "      <th></th>\n",
       "      <th></th>\n",
       "      <th></th>\n",
       "      <th></th>\n",
       "      <th></th>\n",
       "      <th></th>\n",
       "      <th></th>\n",
       "      <th></th>\n",
       "      <th></th>\n",
       "      <th></th>\n",
       "      <th></th>\n",
       "      <th></th>\n",
       "      <th></th>\n",
       "      <th></th>\n",
       "      <th></th>\n",
       "      <th></th>\n",
       "      <th></th>\n",
       "      <th></th>\n",
       "      <th></th>\n",
       "      <th></th>\n",
       "    </tr>\n",
       "  </thead>\n",
       "  <tbody>\n",
       "    <tr>\n",
       "      <th>1990-01-02</th>\n",
       "      <td>0.264</td>\n",
       "      <td>4.125</td>\n",
       "      <td>4.599</td>\n",
       "      <td>0.144</td>\n",
       "      <td>4.991</td>\n",
       "      <td>14.391</td>\n",
       "      <td>1.117</td>\n",
       "      <td>3.438</td>\n",
       "      <td>3.394</td>\n",
       "      <td>2.235</td>\n",
       "      <td>6.658</td>\n",
       "      <td>4.215</td>\n",
       "      <td>0.384</td>\n",
       "      <td>4.738</td>\n",
       "      <td>1.021</td>\n",
       "      <td>3.860</td>\n",
       "      <td>3.322</td>\n",
       "      <td>0.310</td>\n",
       "      <td>3.653</td>\n",
       "      <td>4.068</td>\n",
       "    </tr>\n",
       "    <tr>\n",
       "      <th>1990-01-03</th>\n",
       "      <td>0.266</td>\n",
       "      <td>4.000</td>\n",
       "      <td>4.636</td>\n",
       "      <td>0.161</td>\n",
       "      <td>4.910</td>\n",
       "      <td>14.364</td>\n",
       "      <td>1.121</td>\n",
       "      <td>3.452</td>\n",
       "      <td>3.508</td>\n",
       "      <td>2.203</td>\n",
       "      <td>6.658</td>\n",
       "      <td>4.282</td>\n",
       "      <td>0.386</td>\n",
       "      <td>4.692</td>\n",
       "      <td>1.024</td>\n",
       "      <td>3.853</td>\n",
       "      <td>3.322</td>\n",
       "      <td>0.304</td>\n",
       "      <td>3.653</td>\n",
       "      <td>4.027</td>\n",
       "    </tr>\n",
       "    <tr>\n",
       "      <th>1990-01-04</th>\n",
       "      <td>0.267</td>\n",
       "      <td>3.938</td>\n",
       "      <td>4.537</td>\n",
       "      <td>0.159</td>\n",
       "      <td>4.847</td>\n",
       "      <td>14.283</td>\n",
       "      <td>1.128</td>\n",
       "      <td>3.459</td>\n",
       "      <td>3.522</td>\n",
       "      <td>2.192</td>\n",
       "      <td>6.621</td>\n",
       "      <td>4.215</td>\n",
       "      <td>0.397</td>\n",
       "      <td>4.646</td>\n",
       "      <td>1.041</td>\n",
       "      <td>3.777</td>\n",
       "      <td>3.322</td>\n",
       "      <td>0.301</td>\n",
       "      <td>3.634</td>\n",
       "      <td>3.987</td>\n",
       "    </tr>\n",
       "    <tr>\n",
       "      <th>1990-01-05</th>\n",
       "      <td>0.268</td>\n",
       "      <td>3.812</td>\n",
       "      <td>4.438</td>\n",
       "      <td>0.159</td>\n",
       "      <td>4.775</td>\n",
       "      <td>14.148</td>\n",
       "      <td>1.113</td>\n",
       "      <td>3.423</td>\n",
       "      <td>3.536</td>\n",
       "      <td>2.174</td>\n",
       "      <td>6.549</td>\n",
       "      <td>4.128</td>\n",
       "      <td>0.387</td>\n",
       "      <td>4.581</td>\n",
       "      <td>1.032</td>\n",
       "      <td>3.709</td>\n",
       "      <td>3.322</td>\n",
       "      <td>0.288</td>\n",
       "      <td>3.595</td>\n",
       "      <td>3.966</td>\n",
       "    </tr>\n",
       "    <tr>\n",
       "      <th>1990-01-08</th>\n",
       "      <td>0.269</td>\n",
       "      <td>3.812</td>\n",
       "      <td>4.463</td>\n",
       "      <td>0.147</td>\n",
       "      <td>4.820</td>\n",
       "      <td>14.229</td>\n",
       "      <td>1.102</td>\n",
       "      <td>3.481</td>\n",
       "      <td>3.536</td>\n",
       "      <td>2.220</td>\n",
       "      <td>6.549</td>\n",
       "      <td>4.181</td>\n",
       "      <td>0.393</td>\n",
       "      <td>4.664</td>\n",
       "      <td>1.023</td>\n",
       "      <td>3.777</td>\n",
       "      <td>3.322</td>\n",
       "      <td>0.282</td>\n",
       "      <td>3.644</td>\n",
       "      <td>4.027</td>\n",
       "    </tr>\n",
       "  </tbody>\n",
       "</table>\n",
       "</div>"
      ],
      "text/plain": [
       "             AAPL    AMD    BAC    BBY    CVX      GE     HD    JNJ    JPM  \\\n",
       "Date                                                                         \n",
       "1990-01-02  0.264  4.125  4.599  0.144  4.991  14.391  1.117  3.438  3.394   \n",
       "1990-01-03  0.266  4.000  4.636  0.161  4.910  14.364  1.121  3.452  3.508   \n",
       "1990-01-04  0.267  3.938  4.537  0.159  4.847  14.283  1.128  3.459  3.522   \n",
       "1990-01-05  0.268  3.812  4.438  0.159  4.775  14.148  1.113  3.423  3.536   \n",
       "1990-01-08  0.269  3.812  4.463  0.147  4.820  14.229  1.102  3.481  3.536   \n",
       "\n",
       "               KO    LLY    MRK   MSFT    PEP    PFE     PG    RRC    UNH  \\\n",
       "Date                                                                        \n",
       "1990-01-02  2.235  6.658  4.215  0.384  4.738  1.021  3.860  3.322  0.310   \n",
       "1990-01-03  2.203  6.658  4.282  0.386  4.692  1.024  3.853  3.322  0.304   \n",
       "1990-01-04  2.192  6.621  4.215  0.397  4.646  1.041  3.777  3.322  0.301   \n",
       "1990-01-05  2.174  6.549  4.128  0.387  4.581  1.032  3.709  3.322  0.288   \n",
       "1990-01-08  2.220  6.549  4.181  0.393  4.664  1.023  3.777  3.322  0.282   \n",
       "\n",
       "              WMT    XOM  \n",
       "Date                      \n",
       "1990-01-02  3.653  4.068  \n",
       "1990-01-03  3.653  4.027  \n",
       "1990-01-04  3.634  3.987  \n",
       "1990-01-05  3.595  3.966  \n",
       "1990-01-08  3.644  4.027  "
      ]
     },
     "execution_count": 40,
     "metadata": {},
     "output_type": "execute_result"
    }
   ],
   "source": [
    "prices = load_sp500_dataset()\n",
    "prices.head()"
   ]
  },
  {
   "cell_type": "code",
   "execution_count": 41,
   "metadata": {
    "colab": {
     "base_uri": "https://localhost:8080/"
    },
    "id": "RpG-g5DxTy3y",
    "outputId": "1a8003f5-6230-43ed-a487-cfb832de735d"
   },
   "outputs": [
    {
     "name": "stdout",
     "output_type": "stream",
     "text": [
      "                AAPL       AMD       BAC       BBY       CVX        GE  \\\n",
      "Date                                                                     \n",
      "1990-01-03  0.007576 -0.030303  0.008045  0.118056 -0.016229 -0.001876   \n",
      "1990-01-04  0.003759 -0.015500 -0.021355 -0.012422 -0.012831 -0.005639   \n",
      "1990-01-05  0.003745 -0.031996 -0.021821  0.000000 -0.014855 -0.009452   \n",
      "1990-01-08  0.003731  0.000000  0.005633 -0.075472  0.009424  0.005725   \n",
      "1990-01-09 -0.007435  0.016527  0.000000  0.000000 -0.007469 -0.020803   \n",
      "\n",
      "                  HD       JNJ       JPM        KO       LLY       MRK  \\\n",
      "Date                                                                     \n",
      "1990-01-03  0.003581  0.004072  0.033589 -0.014318  0.000000  0.015896   \n",
      "1990-01-04  0.006244  0.002028  0.003991 -0.004993 -0.005557 -0.015647   \n",
      "1990-01-05 -0.013298 -0.010408  0.003975 -0.008212 -0.010874 -0.020641   \n",
      "1990-01-08 -0.009883  0.016944  0.000000  0.021159  0.000000  0.012839   \n",
      "1990-01-09 -0.026316 -0.031026 -0.031957 -0.007658 -0.011147 -0.007893   \n",
      "\n",
      "                MSFT       PEP       PFE        PG  RRC       UNH       WMT  \\\n",
      "Date                                                                          \n",
      "1990-01-03  0.005208 -0.009709  0.002938 -0.001813  0.0 -0.019355  0.000000   \n",
      "1990-01-04  0.028497 -0.009804  0.016602 -0.019725  0.0 -0.009868 -0.005201   \n",
      "1990-01-05 -0.025189 -0.013991 -0.008646 -0.018004  0.0 -0.043189 -0.010732   \n",
      "1990-01-08  0.015504  0.018118 -0.008721  0.018334  0.0 -0.020833  0.013630   \n",
      "1990-01-09 -0.002545 -0.013722 -0.021505  0.000000  0.0 -0.024823 -0.026619   \n",
      "\n",
      "                 XOM  \n",
      "Date                  \n",
      "1990-01-03 -0.010079  \n",
      "1990-01-04 -0.009933  \n",
      "1990-01-05 -0.005267  \n",
      "1990-01-08  0.015381  \n",
      "1990-01-09 -0.020114  \n"
     ]
    }
   ],
   "source": [
    "X = prices_to_returns(prices)\n",
    "X_train, X_test = train_test_split(X, test_size=0.33, shuffle=False)\n",
    "print(X_train.head())"
   ]
  },
  {
   "cell_type": "markdown",
   "metadata": {},
   "source": [
    "# Define The Objective Function"
   ]
  },
  {
   "cell_type": "code",
   "execution_count": 42,
   "metadata": {
    "colab": {
     "base_uri": "https://localhost:8080/"
    },
    "id": "zgXSRNaGT4_Y",
    "outputId": "aa665309-860b-4180-e2ff-63fbe8b05b2a"
   },
   "outputs": [
    {
     "data": {
      "text/plain": [
       "array([2.16562529e-02, 1.41742527e-10, 3.64888981e-11, 1.47358386e-02,\n",
       "       1.35927671e-01, 1.91035768e-10, 3.58350612e-10, 2.10319630e-01,\n",
       "       4.89793803e-11, 8.14733606e-02, 1.92817471e-02, 4.13607836e-10,\n",
       "       7.79844555e-10, 1.26155697e-01, 4.04585759e-10, 1.52708811e-01,\n",
       "       1.20106233e-02, 6.41726679e-03, 1.01024013e-01, 1.18289085e-01])"
      ]
     },
     "execution_count": 42,
     "metadata": {},
     "output_type": "execute_result"
    }
   ],
   "source": [
    "from skfolio.optimization import MeanRisk ,ObjectiveFunction\n",
    "function = MeanRisk(\n",
    "    risk_measure=RiskMeasure.CVAR,\n",
    "    objective_function=ObjectiveFunction.MINIMIZE_RISK,\n",
    "    portfolio_params=dict(name=\"Min CVaR\"),\n",
    ")\n",
    "function.fit(X_train)\n",
    "function.weights_"
   ]
  },
  {
   "cell_type": "code",
   "execution_count": 43,
   "metadata": {
    "colab": {
     "base_uri": "https://localhost:8080/"
    },
    "id": "hSw1mL68VAeN",
    "outputId": "76d8b038-1cf6-464a-ad8a-f36029893ace"
   },
   "outputs": [
    {
     "name": "stdout",
     "output_type": "stream",
     "text": [
      "0.30000003916225304\n"
     ]
    },
    {
     "data": {
      "text/plain": [
       "array([7.82679381e-03, 1.18331943e-07, 1.14395653e-07, 2.05218577e-03,\n",
       "       2.15009010e-02, 2.14359256e-07, 2.58606661e-07, 5.94038815e-02,\n",
       "       1.38502369e-07, 3.62601668e-02, 9.04209387e-03, 6.30979655e-03,\n",
       "       2.96944698e-03, 3.41087755e-02, 3.45801015e-03, 4.97522144e-02,\n",
       "       2.94825754e-03, 2.87672749e-03, 3.47226412e-02, 2.67673024e-02])"
      ]
     },
     "execution_count": 43,
     "metadata": {},
     "output_type": "execute_result"
    }
   ],
   "source": [
    "function = MeanRisk(budget=None, min_budget=0.3, max_budget=0.5)\n",
    "function.fit(X)\n",
    "print(sum(function.weights_))\n",
    "function.weights_"
   ]
  },
  {
   "cell_type": "markdown",
   "metadata": {},
   "source": [
    "# Check The Convexity of the Objective Function"
   ]
  },
  {
   "cell_type": "code",
   "execution_count": 44,
   "metadata": {
    "id": "uRGHHz4bWU-c"
   },
   "outputs": [],
   "source": [
    "import numpy as np\n",
    "import cvxpy as cp\n",
    "import pandas as pd\n",
    "weights = cp.Variable(X_train.shape[1])\n",
    "X_train = X_train.values if isinstance(X_train, pd.DataFrame) else X_train\n",
    "\n",
    "#Risk Measures\n",
    "alpha = 0.95\n",
    "VaR = cp.Variable()\n",
    "z = cp.Variable(X_train.shape[0])\n",
    "risk_measure = VaR + (1 / (1 - alpha)) * cp.sum(z) / X_train.shape[0]\n",
    "\n",
    "#Objective Function\n",
    "objective = cp.Minimize(risk_measure)\n",
    "\n",
    "#Constraints\n",
    "constraints = [\n",
    "    weights >= 0,\n",
    "    cp.sum(weights) == 1,\n",
    "    z >= 0,\n",
    "    z >= -X_train @ weights - VaR\n",
    "]\n",
    "\n",
    "#Optimization problem\n",
    "problem = cp.Problem(objective, constraints)\n",
    "\n",
    "# Check if the problem is convex\n",
    "is_convex = problem.is_dcp()"
   ]
  },
  {
   "cell_type": "code",
   "execution_count": 45,
   "metadata": {
    "colab": {
     "base_uri": "https://localhost:8080/"
    },
    "id": "lTVgnEJGWXgA",
    "outputId": "90ab22e5-1162-4f97-a1c6-3568bf2ee2a0"
   },
   "outputs": [
    {
     "name": "stdout",
     "output_type": "stream",
     "text": [
      "Is the MeanRisk model with CVaR risk measure and MINIMIZE_RISK objective function convex? True\n"
     ]
    }
   ],
   "source": [
    "print(f\"Is the MeanRisk model with CVaR risk measure and MINIMIZE_RISK objective function convex? {is_convex}\")"
   ]
  },
  {
   "cell_type": "markdown",
   "metadata": {},
   "source": [
    "# Add Constraints to Convert it into Non-Convex"
   ]
  },
  {
   "cell_type": "code",
   "execution_count": 46,
   "metadata": {},
   "outputs": [
    {
     "name": "stdout",
     "output_type": "stream",
     "text": [
      "Is the modified MeanRisk model with CVaR risk measure and MINIMIZE_RISK objective function convex? False\n"
     ]
    }
   ],
   "source": [
    "# Non-Linear Constraints\n",
    "# Add a non-convex constraint to the weights, such as an exponential constraint\n",
    "non_convex_constraint = cp.sum(cp.log(weights + 1e-6)) <= 2  # Non-convex constraint example\n",
    "\n",
    "# Constraints\n",
    "nc_constraints = [\n",
    "    weights >= 0,\n",
    "    cp.sum(weights) == 1,\n",
    "    z >= 0,\n",
    "    z >= -X_train @ weights - VaR,\n",
    "    non_convex_constraint  # Adding the non-convex constraint\n",
    "]\n",
    "\n",
    "# Optimization problem\n",
    "nc_problem = cp.Problem(objective, nc_constraints)\n",
    "\n",
    "# Check if the problem is convex\n",
    "is_convex = nc_problem.is_dcp()\n",
    "print(f\"Is the modified MeanRisk model with CVaR risk measure and MINIMIZE_RISK objective function convex? {is_convex}\")"
   ]
  },
  {
   "cell_type": "markdown",
   "metadata": {},
   "source": [
    "# Optimize The Objective Function by The Weights"
   ]
  },
  {
   "cell_type": "code",
   "execution_count": 47,
   "metadata": {
    "colab": {
     "base_uri": "https://localhost:8080/"
    },
    "id": "fkEDpdPUXQYG",
    "outputId": "4a96ba71-7ec8-47e0-8089-5b26881484b7"
   },
   "outputs": [
    {
     "data": {
      "text/plain": [
       "array([0.05, 0.05, 0.05, 0.05, 0.05, 0.05, 0.05, 0.05, 0.05, 0.05, 0.05,\n",
       "       0.05, 0.05, 0.05, 0.05, 0.05, 0.05, 0.05, 0.05, 0.05])"
      ]
     },
     "execution_count": 47,
     "metadata": {},
     "output_type": "execute_result"
    }
   ],
   "source": [
    "from skfolio.optimization import EqualWeighted, MeanRisk, ObjectiveFunction\n",
    "benchmark = EqualWeighted(portfolio_params=dict(name=\"Equal Weighted\"))\n",
    "# Even if `X` has no impact (as it is equal weighted), we still need to call `fit` for\n",
    "# API consistency.\n",
    "benchmark.fit(X_train)\n",
    "benchmark.weights_"
   ]
  },
  {
   "cell_type": "code",
   "execution_count": 48,
   "metadata": {
    "id": "83ad9_IdXQbX"
   },
   "outputs": [],
   "source": [
    "X_test = X_test.values if isinstance(X_test, pd.DataFrame) else X_test\n",
    "pred_model = function.predict(X_test)\n",
    "pred_bench = benchmark.predict(X_test)"
   ]
  },
  {
   "cell_type": "code",
   "execution_count": 49,
   "metadata": {
    "colab": {
     "base_uri": "https://localhost:8080/"
    },
    "id": "JgwADlVpXQd3",
    "outputId": "16a714c8-e99c-45cc-e8f0-23d7e7082178"
   },
   "outputs": [
    {
     "data": {
      "text/plain": [
       "array([ 0.00071098,  0.00101054, -0.00025058, ...,  0.00248715,\n",
       "        0.00123894, -0.0034885 ])"
      ]
     },
     "execution_count": 49,
     "metadata": {},
     "output_type": "execute_result"
    }
   ],
   "source": [
    "np.asarray(pred_model)\n"
   ]
  },
  {
   "cell_type": "markdown",
   "metadata": {},
   "source": [
    "# As we see the Objective Function before Weighting Equalizayion is Better"
   ]
  },
  {
   "cell_type": "code",
   "execution_count": 50,
   "metadata": {
    "colab": {
     "base_uri": "https://localhost:8080/"
    },
    "id": "6cRLkR9UXQhS",
    "outputId": "95e23d28-927b-49e4-91f5-5fc807b64dc1"
   },
   "outputs": [
    {
     "name": "stdout",
     "output_type": "stream",
     "text": [
      "0.0062707428955413765\n",
      "0.025061083134673378\n"
     ]
    }
   ],
   "source": [
    "print(pred_model.cvar)\n",
    "print(pred_bench.cvar)"
   ]
  },
  {
   "cell_type": "code",
   "execution_count": 51,
   "metadata": {
    "id": "4cGhWbChZb_Z"
   },
   "outputs": [],
   "source": [
    "population = Population([pred_model, pred_bench])"
   ]
  },
  {
   "cell_type": "markdown",
   "metadata": {},
   "source": [
    "# Visualize Before and After"
   ]
  },
  {
   "cell_type": "code",
   "execution_count": 52,
   "metadata": {
    "colab": {
     "base_uri": "https://localhost:8080/",
     "height": 542
    },
    "id": "naltL-Q0ZcF5",
    "outputId": "36acbbfc-037e-4329-8d69-c0532899edb6"
   },
   "outputs": [
    {
     "data": {
      "application/vnd.plotly.v1+json": {
       "config": {
        "plotlyServerURL": "https://plot.ly"
       },
       "data": [
        {
         "alignmentgroup": "True",
         "hovertemplate": "asset=x7<br>index=%{x}<br>value=%{y}<extra></extra>",
         "legendgroup": "x7",
         "marker": {
          "color": "#636efa",
          "pattern": {
           "shape": ""
          }
         },
         "name": "x7",
         "offsetgroup": "x7",
         "orientation": "v",
         "showlegend": true,
         "textposition": "auto",
         "type": "bar",
         "x": [
          "MeanRisk",
          "Equal Weighted"
         ],
         "xaxis": "x",
         "y": [
          0.059403881538352535,
          0.05
         ],
         "yaxis": "y"
        },
        {
         "alignmentgroup": "True",
         "hovertemplate": "asset=x15<br>index=%{x}<br>value=%{y}<extra></extra>",
         "legendgroup": "x15",
         "marker": {
          "color": "#EF553B",
          "pattern": {
           "shape": ""
          }
         },
         "name": "x15",
         "offsetgroup": "x15",
         "orientation": "v",
         "showlegend": true,
         "textposition": "auto",
         "type": "bar",
         "x": [
          "MeanRisk",
          "Equal Weighted"
         ],
         "xaxis": "x",
         "y": [
          0.049752214372013596,
          0.05
         ],
         "yaxis": "y"
        },
        {
         "alignmentgroup": "True",
         "hovertemplate": "asset=x9<br>index=%{x}<br>value=%{y}<extra></extra>",
         "legendgroup": "x9",
         "marker": {
          "color": "#00cc96",
          "pattern": {
           "shape": ""
          }
         },
         "name": "x9",
         "offsetgroup": "x9",
         "orientation": "v",
         "showlegend": true,
         "textposition": "auto",
         "type": "bar",
         "x": [
          "MeanRisk",
          "Equal Weighted"
         ],
         "xaxis": "x",
         "y": [
          0.036260166751356425,
          0.05
         ],
         "yaxis": "y"
        },
        {
         "alignmentgroup": "True",
         "hovertemplate": "asset=x18<br>index=%{x}<br>value=%{y}<extra></extra>",
         "legendgroup": "x18",
         "marker": {
          "color": "#ab63fa",
          "pattern": {
           "shape": ""
          }
         },
         "name": "x18",
         "offsetgroup": "x18",
         "orientation": "v",
         "showlegend": true,
         "textposition": "auto",
         "type": "bar",
         "x": [
          "MeanRisk",
          "Equal Weighted"
         ],
         "xaxis": "x",
         "y": [
          0.034722641196387814,
          0.05
         ],
         "yaxis": "y"
        },
        {
         "alignmentgroup": "True",
         "hovertemplate": "asset=x13<br>index=%{x}<br>value=%{y}<extra></extra>",
         "legendgroup": "x13",
         "marker": {
          "color": "#FFA15A",
          "pattern": {
           "shape": ""
          }
         },
         "name": "x13",
         "offsetgroup": "x13",
         "orientation": "v",
         "showlegend": true,
         "textposition": "auto",
         "type": "bar",
         "x": [
          "MeanRisk",
          "Equal Weighted"
         ],
         "xaxis": "x",
         "y": [
          0.03410877552529605,
          0.05
         ],
         "yaxis": "y"
        },
        {
         "alignmentgroup": "True",
         "hovertemplate": "asset=x19<br>index=%{x}<br>value=%{y}<extra></extra>",
         "legendgroup": "x19",
         "marker": {
          "color": "#19d3f3",
          "pattern": {
           "shape": ""
          }
         },
         "name": "x19",
         "offsetgroup": "x19",
         "orientation": "v",
         "showlegend": true,
         "textposition": "auto",
         "type": "bar",
         "x": [
          "MeanRisk",
          "Equal Weighted"
         ],
         "xaxis": "x",
         "y": [
          0.02676730241654817,
          0.05
         ],
         "yaxis": "y"
        },
        {
         "alignmentgroup": "True",
         "hovertemplate": "asset=x4<br>index=%{x}<br>value=%{y}<extra></extra>",
         "legendgroup": "x4",
         "marker": {
          "color": "#FF6692",
          "pattern": {
           "shape": ""
          }
         },
         "name": "x4",
         "offsetgroup": "x4",
         "orientation": "v",
         "showlegend": true,
         "textposition": "auto",
         "type": "bar",
         "x": [
          "MeanRisk",
          "Equal Weighted"
         ],
         "xaxis": "x",
         "y": [
          0.021500901002666502,
          0.05
         ],
         "yaxis": "y"
        },
        {
         "alignmentgroup": "True",
         "hovertemplate": "asset=x10<br>index=%{x}<br>value=%{y}<extra></extra>",
         "legendgroup": "x10",
         "marker": {
          "color": "#B6E880",
          "pattern": {
           "shape": ""
          }
         },
         "name": "x10",
         "offsetgroup": "x10",
         "orientation": "v",
         "showlegend": true,
         "textposition": "auto",
         "type": "bar",
         "x": [
          "MeanRisk",
          "Equal Weighted"
         ],
         "xaxis": "x",
         "y": [
          0.009042093868689748,
          0.05
         ],
         "yaxis": "y"
        },
        {
         "alignmentgroup": "True",
         "hovertemplate": "asset=x0<br>index=%{x}<br>value=%{y}<extra></extra>",
         "legendgroup": "x0",
         "marker": {
          "color": "#FF97FF",
          "pattern": {
           "shape": ""
          }
         },
         "name": "x0",
         "offsetgroup": "x0",
         "orientation": "v",
         "showlegend": true,
         "textposition": "auto",
         "type": "bar",
         "x": [
          "MeanRisk",
          "Equal Weighted"
         ],
         "xaxis": "x",
         "y": [
          0.00782679381269256,
          0.05
         ],
         "yaxis": "y"
        },
        {
         "alignmentgroup": "True",
         "hovertemplate": "asset=x11<br>index=%{x}<br>value=%{y}<extra></extra>",
         "legendgroup": "x11",
         "marker": {
          "color": "#FECB52",
          "pattern": {
           "shape": ""
          }
         },
         "name": "x11",
         "offsetgroup": "x11",
         "orientation": "v",
         "showlegend": true,
         "textposition": "auto",
         "type": "bar",
         "x": [
          "MeanRisk",
          "Equal Weighted"
         ],
         "xaxis": "x",
         "y": [
          0.006309796552990324,
          0.05
         ],
         "yaxis": "y"
        },
        {
         "alignmentgroup": "True",
         "hovertemplate": "asset=x14<br>index=%{x}<br>value=%{y}<extra></extra>",
         "legendgroup": "x14",
         "marker": {
          "color": "#636efa",
          "pattern": {
           "shape": ""
          }
         },
         "name": "x14",
         "offsetgroup": "x14",
         "orientation": "v",
         "showlegend": true,
         "textposition": "auto",
         "type": "bar",
         "x": [
          "MeanRisk",
          "Equal Weighted"
         ],
         "xaxis": "x",
         "y": [
          0.0034580101472163442,
          0.05
         ],
         "yaxis": "y"
        },
        {
         "alignmentgroup": "True",
         "hovertemplate": "asset=x12<br>index=%{x}<br>value=%{y}<extra></extra>",
         "legendgroup": "x12",
         "marker": {
          "color": "#EF553B",
          "pattern": {
           "shape": ""
          }
         },
         "name": "x12",
         "offsetgroup": "x12",
         "orientation": "v",
         "showlegend": true,
         "textposition": "auto",
         "type": "bar",
         "x": [
          "MeanRisk",
          "Equal Weighted"
         ],
         "xaxis": "x",
         "y": [
          0.002969446982232092,
          0.05
         ],
         "yaxis": "y"
        },
        {
         "alignmentgroup": "True",
         "hovertemplate": "asset=x16<br>index=%{x}<br>value=%{y}<extra></extra>",
         "legendgroup": "x16",
         "marker": {
          "color": "#00cc96",
          "pattern": {
           "shape": ""
          }
         },
         "name": "x16",
         "offsetgroup": "x16",
         "orientation": "v",
         "showlegend": true,
         "textposition": "auto",
         "type": "bar",
         "x": [
          "MeanRisk",
          "Equal Weighted"
         ],
         "xaxis": "x",
         "y": [
          0.00294825753535652,
          0.05
         ],
         "yaxis": "y"
        },
        {
         "alignmentgroup": "True",
         "hovertemplate": "asset=x17<br>index=%{x}<br>value=%{y}<extra></extra>",
         "legendgroup": "x17",
         "marker": {
          "color": "#ab63fa",
          "pattern": {
           "shape": ""
          }
         },
         "name": "x17",
         "offsetgroup": "x17",
         "orientation": "v",
         "showlegend": true,
         "textposition": "auto",
         "type": "bar",
         "x": [
          "MeanRisk",
          "Equal Weighted"
         ],
         "xaxis": "x",
         "y": [
          0.002876727491930475,
          0.05
         ],
         "yaxis": "y"
        },
        {
         "alignmentgroup": "True",
         "hovertemplate": "asset=x3<br>index=%{x}<br>value=%{y}<extra></extra>",
         "legendgroup": "x3",
         "marker": {
          "color": "#FFA15A",
          "pattern": {
           "shape": ""
          }
         },
         "name": "x3",
         "offsetgroup": "x3",
         "orientation": "v",
         "showlegend": true,
         "textposition": "auto",
         "type": "bar",
         "x": [
          "MeanRisk",
          "Equal Weighted"
         ],
         "xaxis": "x",
         "y": [
          0.002052185772643331,
          0.05
         ],
         "yaxis": "y"
        },
        {
         "alignmentgroup": "True",
         "hovertemplate": "asset=x1<br>index=%{x}<br>value=%{y}<extra></extra>",
         "legendgroup": "x1",
         "marker": {
          "color": "#19d3f3",
          "pattern": {
           "shape": ""
          }
         },
         "name": "x1",
         "offsetgroup": "x1",
         "orientation": "v",
         "showlegend": true,
         "textposition": "auto",
         "type": "bar",
         "x": [
          "MeanRisk",
          "Equal Weighted"
         ],
         "xaxis": "x",
         "y": [
          0,
          0.05
         ],
         "yaxis": "y"
        },
        {
         "alignmentgroup": "True",
         "hovertemplate": "asset=x8<br>index=%{x}<br>value=%{y}<extra></extra>",
         "legendgroup": "x8",
         "marker": {
          "color": "#FF6692",
          "pattern": {
           "shape": ""
          }
         },
         "name": "x8",
         "offsetgroup": "x8",
         "orientation": "v",
         "showlegend": true,
         "textposition": "auto",
         "type": "bar",
         "x": [
          "MeanRisk",
          "Equal Weighted"
         ],
         "xaxis": "x",
         "y": [
          0,
          0.05
         ],
         "yaxis": "y"
        },
        {
         "alignmentgroup": "True",
         "hovertemplate": "asset=x6<br>index=%{x}<br>value=%{y}<extra></extra>",
         "legendgroup": "x6",
         "marker": {
          "color": "#B6E880",
          "pattern": {
           "shape": ""
          }
         },
         "name": "x6",
         "offsetgroup": "x6",
         "orientation": "v",
         "showlegend": true,
         "textposition": "auto",
         "type": "bar",
         "x": [
          "MeanRisk",
          "Equal Weighted"
         ],
         "xaxis": "x",
         "y": [
          0,
          0.05
         ],
         "yaxis": "y"
        },
        {
         "alignmentgroup": "True",
         "hovertemplate": "asset=x5<br>index=%{x}<br>value=%{y}<extra></extra>",
         "legendgroup": "x5",
         "marker": {
          "color": "#FF97FF",
          "pattern": {
           "shape": ""
          }
         },
         "name": "x5",
         "offsetgroup": "x5",
         "orientation": "v",
         "showlegend": true,
         "textposition": "auto",
         "type": "bar",
         "x": [
          "MeanRisk",
          "Equal Weighted"
         ],
         "xaxis": "x",
         "y": [
          0,
          0.05
         ],
         "yaxis": "y"
        },
        {
         "alignmentgroup": "True",
         "hovertemplate": "asset=x2<br>index=%{x}<br>value=%{y}<extra></extra>",
         "legendgroup": "x2",
         "marker": {
          "color": "#FECB52",
          "pattern": {
           "shape": ""
          }
         },
         "name": "x2",
         "offsetgroup": "x2",
         "orientation": "v",
         "showlegend": true,
         "textposition": "auto",
         "type": "bar",
         "x": [
          "MeanRisk",
          "Equal Weighted"
         ],
         "xaxis": "x",
         "y": [
          0,
          0.05
         ],
         "yaxis": "y"
        }
       ],
       "layout": {
        "barmode": "relative",
        "legend": {
         "title": {
          "text": "asset"
         },
         "tracegroupgap": 0,
         "x": 1.15,
         "xanchor": "left",
         "y": 0.99,
         "yanchor": "top"
        },
        "margin": {
         "t": 60
        },
        "template": {
         "data": {
          "bar": [
           {
            "error_x": {
             "color": "#2a3f5f"
            },
            "error_y": {
             "color": "#2a3f5f"
            },
            "marker": {
             "line": {
              "color": "#E5ECF6",
              "width": 0.5
             },
             "pattern": {
              "fillmode": "overlay",
              "size": 10,
              "solidity": 0.2
             }
            },
            "type": "bar"
           }
          ],
          "barpolar": [
           {
            "marker": {
             "line": {
              "color": "#E5ECF6",
              "width": 0.5
             },
             "pattern": {
              "fillmode": "overlay",
              "size": 10,
              "solidity": 0.2
             }
            },
            "type": "barpolar"
           }
          ],
          "carpet": [
           {
            "aaxis": {
             "endlinecolor": "#2a3f5f",
             "gridcolor": "white",
             "linecolor": "white",
             "minorgridcolor": "white",
             "startlinecolor": "#2a3f5f"
            },
            "baxis": {
             "endlinecolor": "#2a3f5f",
             "gridcolor": "white",
             "linecolor": "white",
             "minorgridcolor": "white",
             "startlinecolor": "#2a3f5f"
            },
            "type": "carpet"
           }
          ],
          "choropleth": [
           {
            "colorbar": {
             "outlinewidth": 0,
             "ticks": ""
            },
            "type": "choropleth"
           }
          ],
          "contour": [
           {
            "colorbar": {
             "outlinewidth": 0,
             "ticks": ""
            },
            "colorscale": [
             [
              0,
              "#0d0887"
             ],
             [
              0.1111111111111111,
              "#46039f"
             ],
             [
              0.2222222222222222,
              "#7201a8"
             ],
             [
              0.3333333333333333,
              "#9c179e"
             ],
             [
              0.4444444444444444,
              "#bd3786"
             ],
             [
              0.5555555555555556,
              "#d8576b"
             ],
             [
              0.6666666666666666,
              "#ed7953"
             ],
             [
              0.7777777777777778,
              "#fb9f3a"
             ],
             [
              0.8888888888888888,
              "#fdca26"
             ],
             [
              1,
              "#f0f921"
             ]
            ],
            "type": "contour"
           }
          ],
          "contourcarpet": [
           {
            "colorbar": {
             "outlinewidth": 0,
             "ticks": ""
            },
            "type": "contourcarpet"
           }
          ],
          "heatmap": [
           {
            "colorbar": {
             "outlinewidth": 0,
             "ticks": ""
            },
            "colorscale": [
             [
              0,
              "#0d0887"
             ],
             [
              0.1111111111111111,
              "#46039f"
             ],
             [
              0.2222222222222222,
              "#7201a8"
             ],
             [
              0.3333333333333333,
              "#9c179e"
             ],
             [
              0.4444444444444444,
              "#bd3786"
             ],
             [
              0.5555555555555556,
              "#d8576b"
             ],
             [
              0.6666666666666666,
              "#ed7953"
             ],
             [
              0.7777777777777778,
              "#fb9f3a"
             ],
             [
              0.8888888888888888,
              "#fdca26"
             ],
             [
              1,
              "#f0f921"
             ]
            ],
            "type": "heatmap"
           }
          ],
          "heatmapgl": [
           {
            "colorbar": {
             "outlinewidth": 0,
             "ticks": ""
            },
            "colorscale": [
             [
              0,
              "#0d0887"
             ],
             [
              0.1111111111111111,
              "#46039f"
             ],
             [
              0.2222222222222222,
              "#7201a8"
             ],
             [
              0.3333333333333333,
              "#9c179e"
             ],
             [
              0.4444444444444444,
              "#bd3786"
             ],
             [
              0.5555555555555556,
              "#d8576b"
             ],
             [
              0.6666666666666666,
              "#ed7953"
             ],
             [
              0.7777777777777778,
              "#fb9f3a"
             ],
             [
              0.8888888888888888,
              "#fdca26"
             ],
             [
              1,
              "#f0f921"
             ]
            ],
            "type": "heatmapgl"
           }
          ],
          "histogram": [
           {
            "marker": {
             "pattern": {
              "fillmode": "overlay",
              "size": 10,
              "solidity": 0.2
             }
            },
            "type": "histogram"
           }
          ],
          "histogram2d": [
           {
            "colorbar": {
             "outlinewidth": 0,
             "ticks": ""
            },
            "colorscale": [
             [
              0,
              "#0d0887"
             ],
             [
              0.1111111111111111,
              "#46039f"
             ],
             [
              0.2222222222222222,
              "#7201a8"
             ],
             [
              0.3333333333333333,
              "#9c179e"
             ],
             [
              0.4444444444444444,
              "#bd3786"
             ],
             [
              0.5555555555555556,
              "#d8576b"
             ],
             [
              0.6666666666666666,
              "#ed7953"
             ],
             [
              0.7777777777777778,
              "#fb9f3a"
             ],
             [
              0.8888888888888888,
              "#fdca26"
             ],
             [
              1,
              "#f0f921"
             ]
            ],
            "type": "histogram2d"
           }
          ],
          "histogram2dcontour": [
           {
            "colorbar": {
             "outlinewidth": 0,
             "ticks": ""
            },
            "colorscale": [
             [
              0,
              "#0d0887"
             ],
             [
              0.1111111111111111,
              "#46039f"
             ],
             [
              0.2222222222222222,
              "#7201a8"
             ],
             [
              0.3333333333333333,
              "#9c179e"
             ],
             [
              0.4444444444444444,
              "#bd3786"
             ],
             [
              0.5555555555555556,
              "#d8576b"
             ],
             [
              0.6666666666666666,
              "#ed7953"
             ],
             [
              0.7777777777777778,
              "#fb9f3a"
             ],
             [
              0.8888888888888888,
              "#fdca26"
             ],
             [
              1,
              "#f0f921"
             ]
            ],
            "type": "histogram2dcontour"
           }
          ],
          "mesh3d": [
           {
            "colorbar": {
             "outlinewidth": 0,
             "ticks": ""
            },
            "type": "mesh3d"
           }
          ],
          "parcoords": [
           {
            "line": {
             "colorbar": {
              "outlinewidth": 0,
              "ticks": ""
             }
            },
            "type": "parcoords"
           }
          ],
          "pie": [
           {
            "automargin": true,
            "type": "pie"
           }
          ],
          "scatter": [
           {
            "fillpattern": {
             "fillmode": "overlay",
             "size": 10,
             "solidity": 0.2
            },
            "type": "scatter"
           }
          ],
          "scatter3d": [
           {
            "line": {
             "colorbar": {
              "outlinewidth": 0,
              "ticks": ""
             }
            },
            "marker": {
             "colorbar": {
              "outlinewidth": 0,
              "ticks": ""
             }
            },
            "type": "scatter3d"
           }
          ],
          "scattercarpet": [
           {
            "marker": {
             "colorbar": {
              "outlinewidth": 0,
              "ticks": ""
             }
            },
            "type": "scattercarpet"
           }
          ],
          "scattergeo": [
           {
            "marker": {
             "colorbar": {
              "outlinewidth": 0,
              "ticks": ""
             }
            },
            "type": "scattergeo"
           }
          ],
          "scattergl": [
           {
            "marker": {
             "colorbar": {
              "outlinewidth": 0,
              "ticks": ""
             }
            },
            "type": "scattergl"
           }
          ],
          "scattermapbox": [
           {
            "marker": {
             "colorbar": {
              "outlinewidth": 0,
              "ticks": ""
             }
            },
            "type": "scattermapbox"
           }
          ],
          "scatterpolar": [
           {
            "marker": {
             "colorbar": {
              "outlinewidth": 0,
              "ticks": ""
             }
            },
            "type": "scatterpolar"
           }
          ],
          "scatterpolargl": [
           {
            "marker": {
             "colorbar": {
              "outlinewidth": 0,
              "ticks": ""
             }
            },
            "type": "scatterpolargl"
           }
          ],
          "scatterternary": [
           {
            "marker": {
             "colorbar": {
              "outlinewidth": 0,
              "ticks": ""
             }
            },
            "type": "scatterternary"
           }
          ],
          "surface": [
           {
            "colorbar": {
             "outlinewidth": 0,
             "ticks": ""
            },
            "colorscale": [
             [
              0,
              "#0d0887"
             ],
             [
              0.1111111111111111,
              "#46039f"
             ],
             [
              0.2222222222222222,
              "#7201a8"
             ],
             [
              0.3333333333333333,
              "#9c179e"
             ],
             [
              0.4444444444444444,
              "#bd3786"
             ],
             [
              0.5555555555555556,
              "#d8576b"
             ],
             [
              0.6666666666666666,
              "#ed7953"
             ],
             [
              0.7777777777777778,
              "#fb9f3a"
             ],
             [
              0.8888888888888888,
              "#fdca26"
             ],
             [
              1,
              "#f0f921"
             ]
            ],
            "type": "surface"
           }
          ],
          "table": [
           {
            "cells": {
             "fill": {
              "color": "#EBF0F8"
             },
             "line": {
              "color": "white"
             }
            },
            "header": {
             "fill": {
              "color": "#C8D4E3"
             },
             "line": {
              "color": "white"
             }
            },
            "type": "table"
           }
          ]
         },
         "layout": {
          "annotationdefaults": {
           "arrowcolor": "#2a3f5f",
           "arrowhead": 0,
           "arrowwidth": 1
          },
          "autotypenumbers": "strict",
          "coloraxis": {
           "colorbar": {
            "outlinewidth": 0,
            "ticks": ""
           }
          },
          "colorscale": {
           "diverging": [
            [
             0,
             "#8e0152"
            ],
            [
             0.1,
             "#c51b7d"
            ],
            [
             0.2,
             "#de77ae"
            ],
            [
             0.3,
             "#f1b6da"
            ],
            [
             0.4,
             "#fde0ef"
            ],
            [
             0.5,
             "#f7f7f7"
            ],
            [
             0.6,
             "#e6f5d0"
            ],
            [
             0.7,
             "#b8e186"
            ],
            [
             0.8,
             "#7fbc41"
            ],
            [
             0.9,
             "#4d9221"
            ],
            [
             1,
             "#276419"
            ]
           ],
           "sequential": [
            [
             0,
             "#0d0887"
            ],
            [
             0.1111111111111111,
             "#46039f"
            ],
            [
             0.2222222222222222,
             "#7201a8"
            ],
            [
             0.3333333333333333,
             "#9c179e"
            ],
            [
             0.4444444444444444,
             "#bd3786"
            ],
            [
             0.5555555555555556,
             "#d8576b"
            ],
            [
             0.6666666666666666,
             "#ed7953"
            ],
            [
             0.7777777777777778,
             "#fb9f3a"
            ],
            [
             0.8888888888888888,
             "#fdca26"
            ],
            [
             1,
             "#f0f921"
            ]
           ],
           "sequentialminus": [
            [
             0,
             "#0d0887"
            ],
            [
             0.1111111111111111,
             "#46039f"
            ],
            [
             0.2222222222222222,
             "#7201a8"
            ],
            [
             0.3333333333333333,
             "#9c179e"
            ],
            [
             0.4444444444444444,
             "#bd3786"
            ],
            [
             0.5555555555555556,
             "#d8576b"
            ],
            [
             0.6666666666666666,
             "#ed7953"
            ],
            [
             0.7777777777777778,
             "#fb9f3a"
            ],
            [
             0.8888888888888888,
             "#fdca26"
            ],
            [
             1,
             "#f0f921"
            ]
           ]
          },
          "colorway": [
           "#636efa",
           "#EF553B",
           "#00cc96",
           "#ab63fa",
           "#FFA15A",
           "#19d3f3",
           "#FF6692",
           "#B6E880",
           "#FF97FF",
           "#FECB52"
          ],
          "font": {
           "color": "#2a3f5f"
          },
          "geo": {
           "bgcolor": "white",
           "lakecolor": "white",
           "landcolor": "#E5ECF6",
           "showlakes": true,
           "showland": true,
           "subunitcolor": "white"
          },
          "hoverlabel": {
           "align": "left"
          },
          "hovermode": "closest",
          "mapbox": {
           "style": "light"
          },
          "paper_bgcolor": "white",
          "plot_bgcolor": "#E5ECF6",
          "polar": {
           "angularaxis": {
            "gridcolor": "white",
            "linecolor": "white",
            "ticks": ""
           },
           "bgcolor": "#E5ECF6",
           "radialaxis": {
            "gridcolor": "white",
            "linecolor": "white",
            "ticks": ""
           }
          },
          "scene": {
           "xaxis": {
            "backgroundcolor": "#E5ECF6",
            "gridcolor": "white",
            "gridwidth": 2,
            "linecolor": "white",
            "showbackground": true,
            "ticks": "",
            "zerolinecolor": "white"
           },
           "yaxis": {
            "backgroundcolor": "#E5ECF6",
            "gridcolor": "white",
            "gridwidth": 2,
            "linecolor": "white",
            "showbackground": true,
            "ticks": "",
            "zerolinecolor": "white"
           },
           "zaxis": {
            "backgroundcolor": "#E5ECF6",
            "gridcolor": "white",
            "gridwidth": 2,
            "linecolor": "white",
            "showbackground": true,
            "ticks": "",
            "zerolinecolor": "white"
           }
          },
          "shapedefaults": {
           "line": {
            "color": "#2a3f5f"
           }
          },
          "ternary": {
           "aaxis": {
            "gridcolor": "white",
            "linecolor": "white",
            "ticks": ""
           },
           "baxis": {
            "gridcolor": "white",
            "linecolor": "white",
            "ticks": ""
           },
           "bgcolor": "#E5ECF6",
           "caxis": {
            "gridcolor": "white",
            "linecolor": "white",
            "ticks": ""
           }
          },
          "title": {
           "x": 0.05
          },
          "xaxis": {
           "automargin": true,
           "gridcolor": "white",
           "linecolor": "white",
           "ticks": "",
           "title": {
            "standoff": 15
           },
           "zerolinecolor": "white",
           "zerolinewidth": 2
          },
          "yaxis": {
           "automargin": true,
           "gridcolor": "white",
           "linecolor": "white",
           "ticks": "",
           "title": {
            "standoff": 15
           },
           "zerolinecolor": "white",
           "zerolinewidth": 2
          }
         }
        },
        "title": {
         "text": "Portfolios Composition"
        },
        "xaxis": {
         "anchor": "y",
         "domain": [
          0,
          1
         ],
         "title": {
          "text": "Portfolios"
         }
        },
        "yaxis": {
         "anchor": "x",
         "domain": [
          0,
          1
         ],
         "tickformat": ",.0%",
         "title": {
          "text": "Weight"
         }
        }
       }
      },
      "text/html": [
       "<div>                            <div id=\"fdd45943-6186-4259-9358-13083c57ae26\" class=\"plotly-graph-div\" style=\"height:525px; width:100%;\"></div>            <script type=\"text/javascript\">                require([\"plotly\"], function(Plotly) {                    window.PLOTLYENV=window.PLOTLYENV || {};                                    if (document.getElementById(\"fdd45943-6186-4259-9358-13083c57ae26\")) {                    Plotly.newPlot(                        \"fdd45943-6186-4259-9358-13083c57ae26\",                        [{\"alignmentgroup\":\"True\",\"hovertemplate\":\"asset=x7\\u003cbr\\u003eindex=%{x}\\u003cbr\\u003evalue=%{y}\\u003cextra\\u003e\\u003c\\u002fextra\\u003e\",\"legendgroup\":\"x7\",\"marker\":{\"color\":\"#636efa\",\"pattern\":{\"shape\":\"\"}},\"name\":\"x7\",\"offsetgroup\":\"x7\",\"orientation\":\"v\",\"showlegend\":true,\"textposition\":\"auto\",\"x\":[\"MeanRisk\",\"Equal Weighted\"],\"xaxis\":\"x\",\"y\":[0.059403881538352535,0.05],\"yaxis\":\"y\",\"type\":\"bar\"},{\"alignmentgroup\":\"True\",\"hovertemplate\":\"asset=x15\\u003cbr\\u003eindex=%{x}\\u003cbr\\u003evalue=%{y}\\u003cextra\\u003e\\u003c\\u002fextra\\u003e\",\"legendgroup\":\"x15\",\"marker\":{\"color\":\"#EF553B\",\"pattern\":{\"shape\":\"\"}},\"name\":\"x15\",\"offsetgroup\":\"x15\",\"orientation\":\"v\",\"showlegend\":true,\"textposition\":\"auto\",\"x\":[\"MeanRisk\",\"Equal Weighted\"],\"xaxis\":\"x\",\"y\":[0.049752214372013596,0.05],\"yaxis\":\"y\",\"type\":\"bar\"},{\"alignmentgroup\":\"True\",\"hovertemplate\":\"asset=x9\\u003cbr\\u003eindex=%{x}\\u003cbr\\u003evalue=%{y}\\u003cextra\\u003e\\u003c\\u002fextra\\u003e\",\"legendgroup\":\"x9\",\"marker\":{\"color\":\"#00cc96\",\"pattern\":{\"shape\":\"\"}},\"name\":\"x9\",\"offsetgroup\":\"x9\",\"orientation\":\"v\",\"showlegend\":true,\"textposition\":\"auto\",\"x\":[\"MeanRisk\",\"Equal Weighted\"],\"xaxis\":\"x\",\"y\":[0.036260166751356425,0.05],\"yaxis\":\"y\",\"type\":\"bar\"},{\"alignmentgroup\":\"True\",\"hovertemplate\":\"asset=x18\\u003cbr\\u003eindex=%{x}\\u003cbr\\u003evalue=%{y}\\u003cextra\\u003e\\u003c\\u002fextra\\u003e\",\"legendgroup\":\"x18\",\"marker\":{\"color\":\"#ab63fa\",\"pattern\":{\"shape\":\"\"}},\"name\":\"x18\",\"offsetgroup\":\"x18\",\"orientation\":\"v\",\"showlegend\":true,\"textposition\":\"auto\",\"x\":[\"MeanRisk\",\"Equal Weighted\"],\"xaxis\":\"x\",\"y\":[0.034722641196387814,0.05],\"yaxis\":\"y\",\"type\":\"bar\"},{\"alignmentgroup\":\"True\",\"hovertemplate\":\"asset=x13\\u003cbr\\u003eindex=%{x}\\u003cbr\\u003evalue=%{y}\\u003cextra\\u003e\\u003c\\u002fextra\\u003e\",\"legendgroup\":\"x13\",\"marker\":{\"color\":\"#FFA15A\",\"pattern\":{\"shape\":\"\"}},\"name\":\"x13\",\"offsetgroup\":\"x13\",\"orientation\":\"v\",\"showlegend\":true,\"textposition\":\"auto\",\"x\":[\"MeanRisk\",\"Equal Weighted\"],\"xaxis\":\"x\",\"y\":[0.03410877552529605,0.05],\"yaxis\":\"y\",\"type\":\"bar\"},{\"alignmentgroup\":\"True\",\"hovertemplate\":\"asset=x19\\u003cbr\\u003eindex=%{x}\\u003cbr\\u003evalue=%{y}\\u003cextra\\u003e\\u003c\\u002fextra\\u003e\",\"legendgroup\":\"x19\",\"marker\":{\"color\":\"#19d3f3\",\"pattern\":{\"shape\":\"\"}},\"name\":\"x19\",\"offsetgroup\":\"x19\",\"orientation\":\"v\",\"showlegend\":true,\"textposition\":\"auto\",\"x\":[\"MeanRisk\",\"Equal Weighted\"],\"xaxis\":\"x\",\"y\":[0.02676730241654817,0.05],\"yaxis\":\"y\",\"type\":\"bar\"},{\"alignmentgroup\":\"True\",\"hovertemplate\":\"asset=x4\\u003cbr\\u003eindex=%{x}\\u003cbr\\u003evalue=%{y}\\u003cextra\\u003e\\u003c\\u002fextra\\u003e\",\"legendgroup\":\"x4\",\"marker\":{\"color\":\"#FF6692\",\"pattern\":{\"shape\":\"\"}},\"name\":\"x4\",\"offsetgroup\":\"x4\",\"orientation\":\"v\",\"showlegend\":true,\"textposition\":\"auto\",\"x\":[\"MeanRisk\",\"Equal Weighted\"],\"xaxis\":\"x\",\"y\":[0.021500901002666502,0.05],\"yaxis\":\"y\",\"type\":\"bar\"},{\"alignmentgroup\":\"True\",\"hovertemplate\":\"asset=x10\\u003cbr\\u003eindex=%{x}\\u003cbr\\u003evalue=%{y}\\u003cextra\\u003e\\u003c\\u002fextra\\u003e\",\"legendgroup\":\"x10\",\"marker\":{\"color\":\"#B6E880\",\"pattern\":{\"shape\":\"\"}},\"name\":\"x10\",\"offsetgroup\":\"x10\",\"orientation\":\"v\",\"showlegend\":true,\"textposition\":\"auto\",\"x\":[\"MeanRisk\",\"Equal Weighted\"],\"xaxis\":\"x\",\"y\":[0.009042093868689748,0.05],\"yaxis\":\"y\",\"type\":\"bar\"},{\"alignmentgroup\":\"True\",\"hovertemplate\":\"asset=x0\\u003cbr\\u003eindex=%{x}\\u003cbr\\u003evalue=%{y}\\u003cextra\\u003e\\u003c\\u002fextra\\u003e\",\"legendgroup\":\"x0\",\"marker\":{\"color\":\"#FF97FF\",\"pattern\":{\"shape\":\"\"}},\"name\":\"x0\",\"offsetgroup\":\"x0\",\"orientation\":\"v\",\"showlegend\":true,\"textposition\":\"auto\",\"x\":[\"MeanRisk\",\"Equal Weighted\"],\"xaxis\":\"x\",\"y\":[0.00782679381269256,0.05],\"yaxis\":\"y\",\"type\":\"bar\"},{\"alignmentgroup\":\"True\",\"hovertemplate\":\"asset=x11\\u003cbr\\u003eindex=%{x}\\u003cbr\\u003evalue=%{y}\\u003cextra\\u003e\\u003c\\u002fextra\\u003e\",\"legendgroup\":\"x11\",\"marker\":{\"color\":\"#FECB52\",\"pattern\":{\"shape\":\"\"}},\"name\":\"x11\",\"offsetgroup\":\"x11\",\"orientation\":\"v\",\"showlegend\":true,\"textposition\":\"auto\",\"x\":[\"MeanRisk\",\"Equal Weighted\"],\"xaxis\":\"x\",\"y\":[0.006309796552990324,0.05],\"yaxis\":\"y\",\"type\":\"bar\"},{\"alignmentgroup\":\"True\",\"hovertemplate\":\"asset=x14\\u003cbr\\u003eindex=%{x}\\u003cbr\\u003evalue=%{y}\\u003cextra\\u003e\\u003c\\u002fextra\\u003e\",\"legendgroup\":\"x14\",\"marker\":{\"color\":\"#636efa\",\"pattern\":{\"shape\":\"\"}},\"name\":\"x14\",\"offsetgroup\":\"x14\",\"orientation\":\"v\",\"showlegend\":true,\"textposition\":\"auto\",\"x\":[\"MeanRisk\",\"Equal Weighted\"],\"xaxis\":\"x\",\"y\":[0.0034580101472163442,0.05],\"yaxis\":\"y\",\"type\":\"bar\"},{\"alignmentgroup\":\"True\",\"hovertemplate\":\"asset=x12\\u003cbr\\u003eindex=%{x}\\u003cbr\\u003evalue=%{y}\\u003cextra\\u003e\\u003c\\u002fextra\\u003e\",\"legendgroup\":\"x12\",\"marker\":{\"color\":\"#EF553B\",\"pattern\":{\"shape\":\"\"}},\"name\":\"x12\",\"offsetgroup\":\"x12\",\"orientation\":\"v\",\"showlegend\":true,\"textposition\":\"auto\",\"x\":[\"MeanRisk\",\"Equal Weighted\"],\"xaxis\":\"x\",\"y\":[0.002969446982232092,0.05],\"yaxis\":\"y\",\"type\":\"bar\"},{\"alignmentgroup\":\"True\",\"hovertemplate\":\"asset=x16\\u003cbr\\u003eindex=%{x}\\u003cbr\\u003evalue=%{y}\\u003cextra\\u003e\\u003c\\u002fextra\\u003e\",\"legendgroup\":\"x16\",\"marker\":{\"color\":\"#00cc96\",\"pattern\":{\"shape\":\"\"}},\"name\":\"x16\",\"offsetgroup\":\"x16\",\"orientation\":\"v\",\"showlegend\":true,\"textposition\":\"auto\",\"x\":[\"MeanRisk\",\"Equal Weighted\"],\"xaxis\":\"x\",\"y\":[0.00294825753535652,0.05],\"yaxis\":\"y\",\"type\":\"bar\"},{\"alignmentgroup\":\"True\",\"hovertemplate\":\"asset=x17\\u003cbr\\u003eindex=%{x}\\u003cbr\\u003evalue=%{y}\\u003cextra\\u003e\\u003c\\u002fextra\\u003e\",\"legendgroup\":\"x17\",\"marker\":{\"color\":\"#ab63fa\",\"pattern\":{\"shape\":\"\"}},\"name\":\"x17\",\"offsetgroup\":\"x17\",\"orientation\":\"v\",\"showlegend\":true,\"textposition\":\"auto\",\"x\":[\"MeanRisk\",\"Equal Weighted\"],\"xaxis\":\"x\",\"y\":[0.002876727491930475,0.05],\"yaxis\":\"y\",\"type\":\"bar\"},{\"alignmentgroup\":\"True\",\"hovertemplate\":\"asset=x3\\u003cbr\\u003eindex=%{x}\\u003cbr\\u003evalue=%{y}\\u003cextra\\u003e\\u003c\\u002fextra\\u003e\",\"legendgroup\":\"x3\",\"marker\":{\"color\":\"#FFA15A\",\"pattern\":{\"shape\":\"\"}},\"name\":\"x3\",\"offsetgroup\":\"x3\",\"orientation\":\"v\",\"showlegend\":true,\"textposition\":\"auto\",\"x\":[\"MeanRisk\",\"Equal Weighted\"],\"xaxis\":\"x\",\"y\":[0.002052185772643331,0.05],\"yaxis\":\"y\",\"type\":\"bar\"},{\"alignmentgroup\":\"True\",\"hovertemplate\":\"asset=x1\\u003cbr\\u003eindex=%{x}\\u003cbr\\u003evalue=%{y}\\u003cextra\\u003e\\u003c\\u002fextra\\u003e\",\"legendgroup\":\"x1\",\"marker\":{\"color\":\"#19d3f3\",\"pattern\":{\"shape\":\"\"}},\"name\":\"x1\",\"offsetgroup\":\"x1\",\"orientation\":\"v\",\"showlegend\":true,\"textposition\":\"auto\",\"x\":[\"MeanRisk\",\"Equal Weighted\"],\"xaxis\":\"x\",\"y\":[0.0,0.05],\"yaxis\":\"y\",\"type\":\"bar\"},{\"alignmentgroup\":\"True\",\"hovertemplate\":\"asset=x8\\u003cbr\\u003eindex=%{x}\\u003cbr\\u003evalue=%{y}\\u003cextra\\u003e\\u003c\\u002fextra\\u003e\",\"legendgroup\":\"x8\",\"marker\":{\"color\":\"#FF6692\",\"pattern\":{\"shape\":\"\"}},\"name\":\"x8\",\"offsetgroup\":\"x8\",\"orientation\":\"v\",\"showlegend\":true,\"textposition\":\"auto\",\"x\":[\"MeanRisk\",\"Equal Weighted\"],\"xaxis\":\"x\",\"y\":[0.0,0.05],\"yaxis\":\"y\",\"type\":\"bar\"},{\"alignmentgroup\":\"True\",\"hovertemplate\":\"asset=x6\\u003cbr\\u003eindex=%{x}\\u003cbr\\u003evalue=%{y}\\u003cextra\\u003e\\u003c\\u002fextra\\u003e\",\"legendgroup\":\"x6\",\"marker\":{\"color\":\"#B6E880\",\"pattern\":{\"shape\":\"\"}},\"name\":\"x6\",\"offsetgroup\":\"x6\",\"orientation\":\"v\",\"showlegend\":true,\"textposition\":\"auto\",\"x\":[\"MeanRisk\",\"Equal Weighted\"],\"xaxis\":\"x\",\"y\":[0.0,0.05],\"yaxis\":\"y\",\"type\":\"bar\"},{\"alignmentgroup\":\"True\",\"hovertemplate\":\"asset=x5\\u003cbr\\u003eindex=%{x}\\u003cbr\\u003evalue=%{y}\\u003cextra\\u003e\\u003c\\u002fextra\\u003e\",\"legendgroup\":\"x5\",\"marker\":{\"color\":\"#FF97FF\",\"pattern\":{\"shape\":\"\"}},\"name\":\"x5\",\"offsetgroup\":\"x5\",\"orientation\":\"v\",\"showlegend\":true,\"textposition\":\"auto\",\"x\":[\"MeanRisk\",\"Equal Weighted\"],\"xaxis\":\"x\",\"y\":[0.0,0.05],\"yaxis\":\"y\",\"type\":\"bar\"},{\"alignmentgroup\":\"True\",\"hovertemplate\":\"asset=x2\\u003cbr\\u003eindex=%{x}\\u003cbr\\u003evalue=%{y}\\u003cextra\\u003e\\u003c\\u002fextra\\u003e\",\"legendgroup\":\"x2\",\"marker\":{\"color\":\"#FECB52\",\"pattern\":{\"shape\":\"\"}},\"name\":\"x2\",\"offsetgroup\":\"x2\",\"orientation\":\"v\",\"showlegend\":true,\"textposition\":\"auto\",\"x\":[\"MeanRisk\",\"Equal Weighted\"],\"xaxis\":\"x\",\"y\":[0.0,0.05],\"yaxis\":\"y\",\"type\":\"bar\"}],                        {\"template\":{\"data\":{\"histogram2dcontour\":[{\"type\":\"histogram2dcontour\",\"colorbar\":{\"outlinewidth\":0,\"ticks\":\"\"},\"colorscale\":[[0.0,\"#0d0887\"],[0.1111111111111111,\"#46039f\"],[0.2222222222222222,\"#7201a8\"],[0.3333333333333333,\"#9c179e\"],[0.4444444444444444,\"#bd3786\"],[0.5555555555555556,\"#d8576b\"],[0.6666666666666666,\"#ed7953\"],[0.7777777777777778,\"#fb9f3a\"],[0.8888888888888888,\"#fdca26\"],[1.0,\"#f0f921\"]]}],\"choropleth\":[{\"type\":\"choropleth\",\"colorbar\":{\"outlinewidth\":0,\"ticks\":\"\"}}],\"histogram2d\":[{\"type\":\"histogram2d\",\"colorbar\":{\"outlinewidth\":0,\"ticks\":\"\"},\"colorscale\":[[0.0,\"#0d0887\"],[0.1111111111111111,\"#46039f\"],[0.2222222222222222,\"#7201a8\"],[0.3333333333333333,\"#9c179e\"],[0.4444444444444444,\"#bd3786\"],[0.5555555555555556,\"#d8576b\"],[0.6666666666666666,\"#ed7953\"],[0.7777777777777778,\"#fb9f3a\"],[0.8888888888888888,\"#fdca26\"],[1.0,\"#f0f921\"]]}],\"heatmap\":[{\"type\":\"heatmap\",\"colorbar\":{\"outlinewidth\":0,\"ticks\":\"\"},\"colorscale\":[[0.0,\"#0d0887\"],[0.1111111111111111,\"#46039f\"],[0.2222222222222222,\"#7201a8\"],[0.3333333333333333,\"#9c179e\"],[0.4444444444444444,\"#bd3786\"],[0.5555555555555556,\"#d8576b\"],[0.6666666666666666,\"#ed7953\"],[0.7777777777777778,\"#fb9f3a\"],[0.8888888888888888,\"#fdca26\"],[1.0,\"#f0f921\"]]}],\"heatmapgl\":[{\"type\":\"heatmapgl\",\"colorbar\":{\"outlinewidth\":0,\"ticks\":\"\"},\"colorscale\":[[0.0,\"#0d0887\"],[0.1111111111111111,\"#46039f\"],[0.2222222222222222,\"#7201a8\"],[0.3333333333333333,\"#9c179e\"],[0.4444444444444444,\"#bd3786\"],[0.5555555555555556,\"#d8576b\"],[0.6666666666666666,\"#ed7953\"],[0.7777777777777778,\"#fb9f3a\"],[0.8888888888888888,\"#fdca26\"],[1.0,\"#f0f921\"]]}],\"contourcarpet\":[{\"type\":\"contourcarpet\",\"colorbar\":{\"outlinewidth\":0,\"ticks\":\"\"}}],\"contour\":[{\"type\":\"contour\",\"colorbar\":{\"outlinewidth\":0,\"ticks\":\"\"},\"colorscale\":[[0.0,\"#0d0887\"],[0.1111111111111111,\"#46039f\"],[0.2222222222222222,\"#7201a8\"],[0.3333333333333333,\"#9c179e\"],[0.4444444444444444,\"#bd3786\"],[0.5555555555555556,\"#d8576b\"],[0.6666666666666666,\"#ed7953\"],[0.7777777777777778,\"#fb9f3a\"],[0.8888888888888888,\"#fdca26\"],[1.0,\"#f0f921\"]]}],\"surface\":[{\"type\":\"surface\",\"colorbar\":{\"outlinewidth\":0,\"ticks\":\"\"},\"colorscale\":[[0.0,\"#0d0887\"],[0.1111111111111111,\"#46039f\"],[0.2222222222222222,\"#7201a8\"],[0.3333333333333333,\"#9c179e\"],[0.4444444444444444,\"#bd3786\"],[0.5555555555555556,\"#d8576b\"],[0.6666666666666666,\"#ed7953\"],[0.7777777777777778,\"#fb9f3a\"],[0.8888888888888888,\"#fdca26\"],[1.0,\"#f0f921\"]]}],\"mesh3d\":[{\"type\":\"mesh3d\",\"colorbar\":{\"outlinewidth\":0,\"ticks\":\"\"}}],\"scatter\":[{\"fillpattern\":{\"fillmode\":\"overlay\",\"size\":10,\"solidity\":0.2},\"type\":\"scatter\"}],\"parcoords\":[{\"type\":\"parcoords\",\"line\":{\"colorbar\":{\"outlinewidth\":0,\"ticks\":\"\"}}}],\"scatterpolargl\":[{\"type\":\"scatterpolargl\",\"marker\":{\"colorbar\":{\"outlinewidth\":0,\"ticks\":\"\"}}}],\"bar\":[{\"error_x\":{\"color\":\"#2a3f5f\"},\"error_y\":{\"color\":\"#2a3f5f\"},\"marker\":{\"line\":{\"color\":\"#E5ECF6\",\"width\":0.5},\"pattern\":{\"fillmode\":\"overlay\",\"size\":10,\"solidity\":0.2}},\"type\":\"bar\"}],\"scattergeo\":[{\"type\":\"scattergeo\",\"marker\":{\"colorbar\":{\"outlinewidth\":0,\"ticks\":\"\"}}}],\"scatterpolar\":[{\"type\":\"scatterpolar\",\"marker\":{\"colorbar\":{\"outlinewidth\":0,\"ticks\":\"\"}}}],\"histogram\":[{\"marker\":{\"pattern\":{\"fillmode\":\"overlay\",\"size\":10,\"solidity\":0.2}},\"type\":\"histogram\"}],\"scattergl\":[{\"type\":\"scattergl\",\"marker\":{\"colorbar\":{\"outlinewidth\":0,\"ticks\":\"\"}}}],\"scatter3d\":[{\"type\":\"scatter3d\",\"line\":{\"colorbar\":{\"outlinewidth\":0,\"ticks\":\"\"}},\"marker\":{\"colorbar\":{\"outlinewidth\":0,\"ticks\":\"\"}}}],\"scattermapbox\":[{\"type\":\"scattermapbox\",\"marker\":{\"colorbar\":{\"outlinewidth\":0,\"ticks\":\"\"}}}],\"scatterternary\":[{\"type\":\"scatterternary\",\"marker\":{\"colorbar\":{\"outlinewidth\":0,\"ticks\":\"\"}}}],\"scattercarpet\":[{\"type\":\"scattercarpet\",\"marker\":{\"colorbar\":{\"outlinewidth\":0,\"ticks\":\"\"}}}],\"carpet\":[{\"aaxis\":{\"endlinecolor\":\"#2a3f5f\",\"gridcolor\":\"white\",\"linecolor\":\"white\",\"minorgridcolor\":\"white\",\"startlinecolor\":\"#2a3f5f\"},\"baxis\":{\"endlinecolor\":\"#2a3f5f\",\"gridcolor\":\"white\",\"linecolor\":\"white\",\"minorgridcolor\":\"white\",\"startlinecolor\":\"#2a3f5f\"},\"type\":\"carpet\"}],\"table\":[{\"cells\":{\"fill\":{\"color\":\"#EBF0F8\"},\"line\":{\"color\":\"white\"}},\"header\":{\"fill\":{\"color\":\"#C8D4E3\"},\"line\":{\"color\":\"white\"}},\"type\":\"table\"}],\"barpolar\":[{\"marker\":{\"line\":{\"color\":\"#E5ECF6\",\"width\":0.5},\"pattern\":{\"fillmode\":\"overlay\",\"size\":10,\"solidity\":0.2}},\"type\":\"barpolar\"}],\"pie\":[{\"automargin\":true,\"type\":\"pie\"}]},\"layout\":{\"autotypenumbers\":\"strict\",\"colorway\":[\"#636efa\",\"#EF553B\",\"#00cc96\",\"#ab63fa\",\"#FFA15A\",\"#19d3f3\",\"#FF6692\",\"#B6E880\",\"#FF97FF\",\"#FECB52\"],\"font\":{\"color\":\"#2a3f5f\"},\"hovermode\":\"closest\",\"hoverlabel\":{\"align\":\"left\"},\"paper_bgcolor\":\"white\",\"plot_bgcolor\":\"#E5ECF6\",\"polar\":{\"bgcolor\":\"#E5ECF6\",\"angularaxis\":{\"gridcolor\":\"white\",\"linecolor\":\"white\",\"ticks\":\"\"},\"radialaxis\":{\"gridcolor\":\"white\",\"linecolor\":\"white\",\"ticks\":\"\"}},\"ternary\":{\"bgcolor\":\"#E5ECF6\",\"aaxis\":{\"gridcolor\":\"white\",\"linecolor\":\"white\",\"ticks\":\"\"},\"baxis\":{\"gridcolor\":\"white\",\"linecolor\":\"white\",\"ticks\":\"\"},\"caxis\":{\"gridcolor\":\"white\",\"linecolor\":\"white\",\"ticks\":\"\"}},\"coloraxis\":{\"colorbar\":{\"outlinewidth\":0,\"ticks\":\"\"}},\"colorscale\":{\"sequential\":[[0.0,\"#0d0887\"],[0.1111111111111111,\"#46039f\"],[0.2222222222222222,\"#7201a8\"],[0.3333333333333333,\"#9c179e\"],[0.4444444444444444,\"#bd3786\"],[0.5555555555555556,\"#d8576b\"],[0.6666666666666666,\"#ed7953\"],[0.7777777777777778,\"#fb9f3a\"],[0.8888888888888888,\"#fdca26\"],[1.0,\"#f0f921\"]],\"sequentialminus\":[[0.0,\"#0d0887\"],[0.1111111111111111,\"#46039f\"],[0.2222222222222222,\"#7201a8\"],[0.3333333333333333,\"#9c179e\"],[0.4444444444444444,\"#bd3786\"],[0.5555555555555556,\"#d8576b\"],[0.6666666666666666,\"#ed7953\"],[0.7777777777777778,\"#fb9f3a\"],[0.8888888888888888,\"#fdca26\"],[1.0,\"#f0f921\"]],\"diverging\":[[0,\"#8e0152\"],[0.1,\"#c51b7d\"],[0.2,\"#de77ae\"],[0.3,\"#f1b6da\"],[0.4,\"#fde0ef\"],[0.5,\"#f7f7f7\"],[0.6,\"#e6f5d0\"],[0.7,\"#b8e186\"],[0.8,\"#7fbc41\"],[0.9,\"#4d9221\"],[1,\"#276419\"]]},\"xaxis\":{\"gridcolor\":\"white\",\"linecolor\":\"white\",\"ticks\":\"\",\"title\":{\"standoff\":15},\"zerolinecolor\":\"white\",\"automargin\":true,\"zerolinewidth\":2},\"yaxis\":{\"gridcolor\":\"white\",\"linecolor\":\"white\",\"ticks\":\"\",\"title\":{\"standoff\":15},\"zerolinecolor\":\"white\",\"automargin\":true,\"zerolinewidth\":2},\"scene\":{\"xaxis\":{\"backgroundcolor\":\"#E5ECF6\",\"gridcolor\":\"white\",\"linecolor\":\"white\",\"showbackground\":true,\"ticks\":\"\",\"zerolinecolor\":\"white\",\"gridwidth\":2},\"yaxis\":{\"backgroundcolor\":\"#E5ECF6\",\"gridcolor\":\"white\",\"linecolor\":\"white\",\"showbackground\":true,\"ticks\":\"\",\"zerolinecolor\":\"white\",\"gridwidth\":2},\"zaxis\":{\"backgroundcolor\":\"#E5ECF6\",\"gridcolor\":\"white\",\"linecolor\":\"white\",\"showbackground\":true,\"ticks\":\"\",\"zerolinecolor\":\"white\",\"gridwidth\":2}},\"shapedefaults\":{\"line\":{\"color\":\"#2a3f5f\"}},\"annotationdefaults\":{\"arrowcolor\":\"#2a3f5f\",\"arrowhead\":0,\"arrowwidth\":1},\"geo\":{\"bgcolor\":\"white\",\"landcolor\":\"#E5ECF6\",\"subunitcolor\":\"white\",\"showland\":true,\"showlakes\":true,\"lakecolor\":\"white\"},\"title\":{\"x\":0.05},\"mapbox\":{\"style\":\"light\"}}},\"xaxis\":{\"anchor\":\"y\",\"domain\":[0.0,1.0],\"title\":{\"text\":\"Portfolios\"}},\"yaxis\":{\"anchor\":\"x\",\"domain\":[0.0,1.0],\"title\":{\"text\":\"Weight\"},\"tickformat\":\",.0%\"},\"legend\":{\"title\":{\"text\":\"asset\"},\"tracegroupgap\":0,\"yanchor\":\"top\",\"y\":0.99,\"xanchor\":\"left\",\"x\":1.15},\"margin\":{\"t\":60},\"barmode\":\"relative\",\"title\":{\"text\":\"Portfolios Composition\"}},                        {\"responsive\": true}                    ).then(function(){\n",
       "                            \n",
       "var gd = document.getElementById('fdd45943-6186-4259-9358-13083c57ae26');\n",
       "var x = new MutationObserver(function (mutations, observer) {{\n",
       "        var display = window.getComputedStyle(gd).display;\n",
       "        if (!display || display === 'none') {{\n",
       "            console.log([gd, 'removed!']);\n",
       "            Plotly.purge(gd);\n",
       "            observer.disconnect();\n",
       "        }}\n",
       "}});\n",
       "\n",
       "// Listen for the removal of the full notebook cells\n",
       "var notebookContainer = gd.closest('#notebook-container');\n",
       "if (notebookContainer) {{\n",
       "    x.observe(notebookContainer, {childList: true});\n",
       "}}\n",
       "\n",
       "// Listen for the clearing of the current output cell\n",
       "var outputEl = gd.closest('.output');\n",
       "if (outputEl) {{\n",
       "    x.observe(outputEl, {childList: true});\n",
       "}}\n",
       "\n",
       "                        })                };                });            </script>        </div>"
      ]
     },
     "metadata": {},
     "output_type": "display_data"
    }
   ],
   "source": [
    "population.plot_composition()"
   ]
  },
  {
   "cell_type": "code",
   "execution_count": 53,
   "metadata": {},
   "outputs": [],
   "source": [
    "X_train_df = pd.DataFrame(X_train)"
   ]
  },
  {
   "cell_type": "code",
   "execution_count": 54,
   "metadata": {},
   "outputs": [],
   "source": [
    "X_train_df = X_train_df.applymap(lambda x: f\"{x:.4f}\")\n",
    "\n",
    "# Function to remove leading zeros\n",
    "def remove_leading_zeros(x):\n",
    "    return x.lstrip('0') or '0'\n",
    "\n",
    "# Apply the function to each column\n",
    "for column in X_train_df.columns:\n",
    "    X_train_df[column] = X_train_df[column].apply(remove_leading_zeros)\n",
    "\n",
    "# Convert columns back to numerical format if needed\n",
    "for column in X_train_df.columns:\n",
    "    X_train_df[column] = pd.to_numeric(X_train_df[column])"
   ]
  },
  {
   "cell_type": "code",
   "execution_count": 55,
   "metadata": {},
   "outputs": [
    {
     "data": {
      "image/png": "[encoded data removed]",
      "text/plain": [
       "<Figure size 1400x700 with 1 Axes>"
      ]
     },
     "metadata": {},
     "output_type": "display_data"
    },
    {
     "data": {
      "image/png": "[encoded data removed]",
      "text/plain": [
       "<Figure size 1000x600 with 1 Axes>"
      ]
     },
     "metadata": {},
     "output_type": "display_data"
    }
   ],
   "source": [
    "import matplotlib.pyplot as plt\n",
    "\n",
    "# Fit the MeanRisk model\n",
    "function = MeanRisk(\n",
    "    risk_measure=RiskMeasure.CVAR,\n",
    "    objective_function=ObjectiveFunction.MINIMIZE_RISK,\n",
    "    portfolio_params=dict(name=\"Min CVaR\"),\n",
    ")\n",
    "function.fit(X_train_df)\n",
    "\n",
    "# Get the portfolio weights\n",
    "weights = function.weights_\n",
    "\n",
    "# Calculate portfolio returns\n",
    "portfolio_returns = X_train_df.dot(weights)\n",
    "\n",
    "# Calculate cumulative returns\n",
    "cumulative_returns = (1 + portfolio_returns).cumprod()\n",
    "\n",
    "# Plot financial trends and portfolio performance\n",
    "plt.figure(figsize=(14, 7))\n",
    "\n",
    "# Plot individual asset trends\n",
    "for column in X_train_df.columns:\n",
    "    plt.plot(X_train_df.index, (1 + X_train_df[column]).cumprod(), label=column)\n",
    "\n",
    "# Plot portfolio performance\n",
    "plt.plot(cumulative_returns.index, cumulative_returns, label=\"Portfolio\", linewidth=2, color='black')\n",
    "\n",
    "plt.title(\"Financial Trends and Portfolio Performance\")\n",
    "plt.xlabel(\"Date\")\n",
    "plt.ylabel(\"Cumulative Returns\")\n",
    "plt.legend()\n",
    "plt.grid(True)\n",
    "plt.show()\n",
    "\n",
    "# Calculate and plot risk-return tradeoff\n",
    "expected_returns = X_train_df.mean()\n",
    "portfolio_return = portfolio_returns.mean()\n",
    "portfolio_risk = portfolio_returns.std()\n",
    "\n",
    "plt.figure(figsize=(10, 6))\n",
    "plt.scatter(X_train_df.std(), expected_returns, c='blue', marker='o', label='Assets')\n",
    "plt.scatter(portfolio_risk, portfolio_return, c='red', marker='x', label='Portfolio')\n",
    "plt.xlabel(\"Risk (Standard Deviation)\")\n",
    "plt.ylabel(\"Return (Mean)\")\n",
    "plt.title(\"Risk-Return Tradeoff\")\n",
    "plt.legend()\n",
    "plt.grid(True)\n",
    "plt.show()"
   ]
  },
  {
   "cell_type": "code",
   "execution_count": 56,
   "metadata": {},
   "outputs": [
    {
     "data": {
      "application/vnd.plotly.v1+json": {
       "config": {
        "plotlyServerURL": "https://plot.ly"
       },
       "data": [
        {
         "marker": {
          "color": "blue",
          "size": 8
         },
         "mode": "markers",
         "name": "Stocks",
         "type": "scatter",
         "x": [
          0.4341527811466347,
          0.6179593923926251,
          0.41436083920402067,
          0.5045216844824615,
          0.2636268495797671,
          0.3072482938197734,
          0.3099395931843624,
          0.21223252806509826,
          0.3746898026924018,
          0.2225817083608086,
          0.2782863587574221,
          0.2659206249801297,
          0.3192353099616484,
          0.2320743628907885,
          0.26725726125897215,
          0.2213527862013189,
          0.6102833518884139,
          0.36323682192379997,
          0.2583317885864626,
          0.24992099515910282
         ],
         "y": [
          0.28308607918674034,
          0.2731847600194031,
          0.14455591054326333,
          0.32011678309692043,
          0.14241435631270452,
          0.09231757655503486,
          0.21905979298463457,
          0.1415428567814914,
          0.18009780885150659,
          0.12582038537397855,
          0.1601627904394414,
          0.13441677050921366,
          0.24524881282182603,
          0.13702730852059525,
          0.1532468635200559,
          0.13566570844903575,
          0.24966543886176099,
          0.2918797729445718,
          0.14390081733486776,
          0.13022746123222373
         ]
        },
        {
         "line": {
          "color": "green"
         },
         "mode": "lines",
         "name": "Convex",
         "type": "scatter",
         "x": [
          0.21223252806509826,
          0.21633077921992178,
          0.22042903037474526,
          0.22452728152956877,
          0.22862553268439229,
          0.23272378383921577,
          0.23682203499403928,
          0.2409202861488628,
          0.24501853730368628,
          0.2491167884585098,
          0.2532150396133333,
          0.2573132907681568,
          0.26141154192298033,
          0.2655097930778038,
          0.2696080442326273,
          0.2737062953874508,
          0.2778045465422743,
          0.2819027976970978,
          0.28600104885192135,
          0.29009930000674483,
          0.2941975511615683,
          0.29829580231639186,
          0.30239405347121534,
          0.3064923046260388,
          0.31059055578086237,
          0.31468880693568585,
          0.31878705809050933,
          0.3228853092453328,
          0.32698356040015636,
          0.33108181155497984,
          0.33518006270980333,
          0.3392783138646268,
          0.34337656501945035,
          0.3474748161742739,
          0.3515730673290973,
          0.35567131848392086,
          0.3597695696387444,
          0.36386782079356783,
          0.36796607194839137,
          0.3720643231032149,
          0.37616257425803834,
          0.3802608254128619,
          0.3843590765676854,
          0.38845732772250885,
          0.3925555788773324,
          0.39665383003215593,
          0.40075208118697936,
          0.4048503323418029,
          0.40894858349662644,
          0.41304683465144987,
          0.4171450858062734,
          0.4212433369610969,
          0.4253415881159204,
          0.4294398392707439,
          0.4335380904255674,
          0.4376363415803909,
          0.4417345927352144,
          0.4458328438900379,
          0.4499310950448614,
          0.45402934619968494,
          0.4581275973545084,
          0.4622258485093319,
          0.46632409966415544,
          0.470422350818979,
          0.4745206019738024,
          0.47861885312862595,
          0.4827171042834495,
          0.4868153554382729,
          0.49091360659309646,
          0.49501185774792,
          0.49911010890274343,
          0.503208360057567,
          0.5073066112123905,
          0.5114048623672139,
          0.5155031135220375,
          0.519601364676861,
          0.5236996158316845,
          0.527797866986508,
          0.5318961181413315,
          0.535994369296155,
          0.5400926204509785,
          0.544190871605802,
          0.5482891227606255,
          0.552387373915449,
          0.5564856250702725,
          0.560583876225096,
          0.5646821273799195,
          0.5687803785347431,
          0.5728786296895665,
          0.57697688084439,
          0.5810751319992136,
          0.585173383154037,
          0.5892716343088605,
          0.5933698854636841,
          0.5974681366185075,
          0.601566387773331,
          0.6056646389281546,
          0.609762890082978,
          0.6138611412378016,
          0.6179593923926251
         ],
         "y": [
          0.04252132298445136,
          0.04339950301894927,
          0.04429447871597518,
          0.045206250075529114,
          0.04613481709761107,
          0.04708017978222101,
          0.048042338129358986,
          0.049021292139024966,
          0.05001704181121895,
          0.051029587145940955,
          0.05205892814319098,
          0.053105064802969004,
          0.05416799712527505,
          0.0552477251101091,
          0.056344248757471155,
          0.05745756806736123,
          0.058587683039779334,
          0.05973459367472543,
          0.060898299972199546,
          0.062078801932201666,
          0.0632760995547318,
          0.06449019283978996,
          0.06572108178737612,
          0.06696876639749029,
          0.06823324667013249,
          0.06951452260530268,
          0.07081259420300089,
          0.0721274614632271,
          0.07345912438598134,
          0.0748075829712636,
          0.07617283721907385,
          0.07755488712941211,
          0.07895373270227841,
          0.08036937393767271,
          0.081801810835595,
          0.08325104339604533,
          0.08471707161902368,
          0.08619989550453,
          0.08769951505256438,
          0.08921593026312676,
          0.09074914113621711,
          0.09229914767183552,
          0.09386594986998194,
          0.09544954773065632,
          0.09704994125385877,
          0.09866713043958923,
          0.10030111528784764,
          0.10195189579863413,
          0.10361947197194862,
          0.10530384380779109,
          0.10700501130616161,
          0.10872297446706011,
          0.11045773329048664,
          0.1122092877764412,
          0.11397763792492373,
          0.1157627837359343,
          0.11756472520947288,
          0.11938346234553947,
          0.12121899514413405,
          0.12307132360525669,
          0.1249404477289073,
          0.1268263675150859,
          0.1287290829637926,
          0.13064859407502727,
          0.1325849008487899,
          0.13453800328508062,
          0.13650790138389932,
          0.138494595145246,
          0.14049808456912075,
          0.1425183696555235,
          0.1445554504044542,
          0.14660932681591296,
          0.14867999888989977,
          0.15076746662641452,
          0.15287173002545731,
          0.15499278908702815,
          0.15713064381112693,
          0.15928529419775378,
          0.16145674024690865,
          0.16364498195859145,
          0.16585001933280236,
          0.16807185236954125,
          0.1703104810688081,
          0.17256590543060302,
          0.17483812545492597,
          0.17712714114177686,
          0.17943295249115582,
          0.1817555595030628,
          0.1840949621774977,
          0.1864511605144607,
          0.18882415451395174,
          0.19121394417597068,
          0.19362052950051772,
          0.19604391048759276,
          0.19848408713719576,
          0.20094105944932683,
          0.20341482742398592,
          0.20590539106117295,
          0.20841275036088808,
          0.2109369053231312
         ]
        },
        {
         "line": {
          "color": "red"
         },
         "mode": "lines",
         "name": "Non-Convex",
         "type": "scatter",
         "x": [
          0.21223252806509826,
          0.21633077921992178,
          0.22042903037474526,
          0.22452728152956877,
          0.22862553268439229,
          0.23272378383921577,
          0.23682203499403928,
          0.2409202861488628,
          0.24501853730368628,
          0.2491167884585098,
          0.2532150396133333,
          0.2573132907681568,
          0.26141154192298033,
          0.2655097930778038,
          0.2696080442326273,
          0.2737062953874508,
          0.2778045465422743,
          0.2819027976970978,
          0.28600104885192135,
          0.29009930000674483,
          0.2941975511615683,
          0.29829580231639186,
          0.30239405347121534,
          0.3064923046260388,
          0.31059055578086237,
          0.31468880693568585,
          0.31878705809050933,
          0.3228853092453328,
          0.32698356040015636,
          0.33108181155497984,
          0.33518006270980333,
          0.3392783138646268,
          0.34337656501945035,
          0.3474748161742739,
          0.3515730673290973,
          0.35567131848392086,
          0.3597695696387444,
          0.36386782079356783,
          0.36796607194839137,
          0.3720643231032149,
          0.37616257425803834,
          0.3802608254128619,
          0.3843590765676854,
          0.38845732772250885,
          0.3925555788773324,
          0.39665383003215593,
          0.40075208118697936,
          0.4048503323418029,
          0.40894858349662644,
          0.41304683465144987,
          0.4171450858062734,
          0.4212433369610969,
          0.4253415881159204,
          0.4294398392707439,
          0.4335380904255674,
          0.4376363415803909,
          0.4417345927352144,
          0.4458328438900379,
          0.4499310950448614,
          0.45402934619968494,
          0.4581275973545084,
          0.4622258485093319,
          0.46632409966415544,
          0.470422350818979,
          0.4745206019738024,
          0.47861885312862595,
          0.4827171042834495,
          0.4868153554382729,
          0.49091360659309646,
          0.49501185774792,
          0.49911010890274343,
          0.503208360057567,
          0.5073066112123905,
          0.5114048623672139,
          0.5155031135220375,
          0.519601364676861,
          0.5236996158316845,
          0.527797866986508,
          0.5318961181413315,
          0.535994369296155,
          0.5400926204509785,
          0.544190871605802,
          0.5482891227606255,
          0.552387373915449,
          0.5564856250702725,
          0.560583876225096,
          0.5646821273799195,
          0.5687803785347431,
          0.5728786296895665,
          0.57697688084439,
          0.5810751319992136,
          0.585173383154037,
          0.5892716343088605,
          0.5933698854636841,
          0.5974681366185075,
          0.601566387773331,
          0.6056646389281546,
          0.609762890082978,
          0.6138611412378016,
          0.6179593923926251
         ],
         "y": [
          -0.12446505613019651,
          -0.13266155843984354,
          -0.1408580607494905,
          -0.14905456305913753,
          -0.15725106536878455,
          -0.16544756767843152,
          -0.17364406998807855,
          -0.18184057229772557,
          -0.19003707460737254,
          -0.19823357691701957,
          -0.2064300792266666,
          -0.21462658153631356,
          -0.22282308384596064,
          -0.2310195861556076,
          -0.23921608846525458,
          -0.24741259077490155,
          -0.2556090930845486,
          -0.26380559539419557,
          -0.27200209770384265,
          -0.2801986000134896,
          -0.2883951023231366,
          -0.29659160463278367,
          -0.30478810694243064,
          -0.3129846092520776,
          -0.3211811115617247,
          -0.32937761387137166,
          -0.3375741161810186,
          -0.3457706184906656,
          -0.3539671208003127,
          -0.36216362310995964,
          -0.3703601254196066,
          -0.3785566277292536,
          -0.38675313003890066,
          -0.39494963234854774,
          -0.4031461346581947,
          -0.4113426369678418,
          -0.41953913927748887,
          -0.42773564158713573,
          -0.4359321438967828,
          -0.4441286462064299,
          -0.45232514851607675,
          -0.4605216508257238,
          -0.4687181531353709,
          -0.47691465544501777,
          -0.48511115775466485,
          -0.4933076600643119,
          -0.5015041623739588,
          -0.5097006646836059,
          -0.5178971669932529,
          -0.5260936693028998,
          -0.5342901716125469,
          -0.5424866739221937,
          -0.5506831762318408,
          -0.5588796785414879,
          -0.5670761808511348,
          -0.5752726831607818,
          -0.5834691854704289,
          -0.5916656877800758,
          -0.5998621900897229,
          -0.6080586923993699,
          -0.6162551947090168,
          -0.6244516970186639,
          -0.632648199328311,
          -0.640844701637958,
          -0.6490412039476049,
          -0.657237706257252,
          -0.665434208566899,
          -0.6736307108765459,
          -0.681827213186193,
          -0.6900237154958401,
          -0.6982202178054869,
          -0.706416720115134,
          -0.7146132224247811,
          -0.722809724734428,
          -0.731006227044075,
          -0.7392027293537221,
          -0.747399231663369,
          -0.755595733973016,
          -0.7637922362826631,
          -0.77198873859231,
          -0.7801852409019571,
          -0.7883817432116041,
          -0.796578245521251,
          -0.8047747478308981,
          -0.8129712501405452,
          -0.821167752450192,
          -0.8293642547598391,
          -0.8375607570694862,
          -0.845757259379133,
          -0.8539537616887801,
          -0.8621502639984272,
          -0.8703467663080741,
          -0.8785432686177211,
          -0.8867397709273682,
          -0.8949362732370151,
          -0.9031327755466622,
          -0.9113292778563092,
          -0.9195257801659561,
          -0.9277222824756032,
          -0.9359187847852503
         ]
        },
        {
         "line": {
          "color": "orange"
         },
         "mode": "lines",
         "name": "Restored Convex",
         "type": "scatter",
         "x": [
          0.21223252806509826,
          0.21633077921992178,
          0.22042903037474526,
          0.22452728152956877,
          0.22862553268439229,
          0.23272378383921577,
          0.23682203499403928,
          0.2409202861488628,
          0.24501853730368628,
          0.2491167884585098,
          0.2532150396133333,
          0.2573132907681568,
          0.26141154192298033,
          0.2655097930778038,
          0.2696080442326273,
          0.2737062953874508,
          0.2778045465422743,
          0.2819027976970978,
          0.28600104885192135,
          0.29009930000674483,
          0.2941975511615683,
          0.29829580231639186,
          0.30239405347121534,
          0.3064923046260388,
          0.31059055578086237,
          0.31468880693568585,
          0.31878705809050933,
          0.3228853092453328,
          0.32698356040015636,
          0.33108181155497984,
          0.33518006270980333,
          0.3392783138646268,
          0.34337656501945035,
          0.3474748161742739,
          0.3515730673290973,
          0.35567131848392086,
          0.3597695696387444,
          0.36386782079356783,
          0.36796607194839137,
          0.3720643231032149,
          0.37616257425803834,
          0.3802608254128619,
          0.3843590765676854,
          0.38845732772250885,
          0.3925555788773324,
          0.39665383003215593,
          0.40075208118697936,
          0.4048503323418029,
          0.40894858349662644,
          0.41304683465144987,
          0.4171450858062734,
          0.4212433369610969,
          0.4253415881159204,
          0.4294398392707439,
          0.4335380904255674,
          0.4376363415803909,
          0.4417345927352144,
          0.4458328438900379,
          0.4499310950448614,
          0.45402934619968494,
          0.4581275973545084,
          0.4622258485093319,
          0.46632409966415544,
          0.470422350818979,
          0.4745206019738024,
          0.47861885312862595,
          0.4827171042834495,
          0.4868153554382729,
          0.49091360659309646,
          0.49501185774792,
          0.49911010890274343,
          0.503208360057567,
          0.5073066112123905,
          0.5114048623672139,
          0.5155031135220375,
          0.519601364676861,
          0.5236996158316845,
          0.527797866986508,
          0.5318961181413315,
          0.535994369296155,
          0.5400926204509785,
          0.544190871605802,
          0.5482891227606255,
          0.552387373915449,
          0.5564856250702725,
          0.560583876225096,
          0.5646821273799195,
          0.5687803785347431,
          0.5728786296895665,
          0.57697688084439,
          0.5810751319992136,
          0.585173383154037,
          0.5892716343088605,
          0.5933698854636841,
          0.5974681366185075,
          0.601566387773331,
          0.6056646389281546,
          0.609762890082978,
          0.6138611412378016,
          0.6179593923926251
         ],
         "y": [
          0.10111626403254913,
          0.1031653896099609,
          0.10521451518737264,
          0.10726364076478438,
          0.10931276634219615,
          0.1113618919196079,
          0.11341101749701964,
          0.1154601430744314,
          0.11750926865184315,
          0.11955839422925489,
          0.12160751980666666,
          0.1236566453840784,
          0.12570577096149016,
          0.1277548965389019,
          0.12980402211631364,
          0.1318531476937254,
          0.13390227327113716,
          0.1359513988485489,
          0.13800052442596067,
          0.1400496500033724,
          0.14209877558078415,
          0.14414790115819592,
          0.14619702673560767,
          0.1482461523130194,
          0.15029527789043118,
          0.15234440346784292,
          0.15439352904525466,
          0.1564426546226664,
          0.15849178020007818,
          0.16054090577748992,
          0.16259003135490166,
          0.1646391569323134,
          0.16668828250972517,
          0.16873740808713694,
          0.17078653366454866,
          0.17283565924196043,
          0.1748847848193722,
          0.1769339103967839,
          0.17898303597419568,
          0.18103216155160745,
          0.18308128712901917,
          0.18513041270643094,
          0.1871795382838427,
          0.18922866386125442,
          0.1912777894386662,
          0.19332691501607796,
          0.19537604059348967,
          0.19742516617090144,
          0.19947429174831321,
          0.20152341732572493,
          0.2035725429031367,
          0.20562166848054844,
          0.20767079405796018,
          0.20971991963537195,
          0.2117690452127837,
          0.21381817079019544,
          0.2158672963676072,
          0.21791642194501895,
          0.2199655475224307,
          0.22201467309984246,
          0.2240637986772542,
          0.22611292425466595,
          0.22816204983207772,
          0.2302111754094895,
          0.2322603009869012,
          0.23430942656431297,
          0.23635855214172474,
          0.23840767771913646,
          0.24045680329654823,
          0.24250592887396,
          0.2445550544513717,
          0.24660418002878348,
          0.24865330560619525,
          0.25070243118360697,
          0.25275155676101874,
          0.2548006823384305,
          0.2568498079158422,
          0.258898933493254,
          0.26094805907066576,
          0.2629971846480775,
          0.26504631022548925,
          0.267095435802901,
          0.26914456138031273,
          0.2711936869577245,
          0.27324281253513627,
          0.275291938112548,
          0.27734106368995975,
          0.2793901892673715,
          0.28143931484478324,
          0.283488440422195,
          0.2855375659996068,
          0.2875866915770185,
          0.28963581715443026,
          0.29168494273184203,
          0.29373406830925375,
          0.2957831938866655,
          0.2978323194640773,
          0.299881445041489,
          0.3019305706189008,
          0.30397969619631254
         ]
        }
       ],
       "layout": {
        "showlegend": true,
        "template": {
         "data": {
          "bar": [
           {
            "error_x": {
             "color": "#f2f5fa"
            },
            "error_y": {
             "color": "#f2f5fa"
            },
            "marker": {
             "line": {
              "color": "rgb(17,17,17)",
              "width": 0.5
             },
             "pattern": {
              "fillmode": "overlay",
              "size": 10,
              "solidity": 0.2
             }
            },
            "type": "bar"
           }
          ],
          "barpolar": [
           {
            "marker": {
             "line": {
              "color": "rgb(17,17,17)",
              "width": 0.5
             },
             "pattern": {
              "fillmode": "overlay",
              "size": 10,
              "solidity": 0.2
             }
            },
            "type": "barpolar"
           }
          ],
          "carpet": [
           {
            "aaxis": {
             "endlinecolor": "#A2B1C6",
             "gridcolor": "#506784",
             "linecolor": "#506784",
             "minorgridcolor": "#506784",
             "startlinecolor": "#A2B1C6"
            },
            "baxis": {
             "endlinecolor": "#A2B1C6",
             "gridcolor": "#506784",
             "linecolor": "#506784",
             "minorgridcolor": "#506784",
             "startlinecolor": "#A2B1C6"
            },
            "type": "carpet"
           }
          ],
          "choropleth": [
           {
            "colorbar": {
             "outlinewidth": 0,
             "ticks": ""
            },
            "type": "choropleth"
           }
          ],
          "contour": [
           {
            "colorbar": {
             "outlinewidth": 0,
             "ticks": ""
            },
            "colorscale": [
             [
              0,
              "#0d0887"
             ],
             [
              0.1111111111111111,
              "#46039f"
             ],
             [
              0.2222222222222222,
              "#7201a8"
             ],
             [
              0.3333333333333333,
              "#9c179e"
             ],
             [
              0.4444444444444444,
              "#bd3786"
             ],
             [
              0.5555555555555556,
              "#d8576b"
             ],
             [
              0.6666666666666666,
              "#ed7953"
             ],
             [
              0.7777777777777778,
              "#fb9f3a"
             ],
             [
              0.8888888888888888,
              "#fdca26"
             ],
             [
              1,
              "#f0f921"
             ]
            ],
            "type": "contour"
           }
          ],
          "contourcarpet": [
           {
            "colorbar": {
             "outlinewidth": 0,
             "ticks": ""
            },
            "type": "contourcarpet"
           }
          ],
          "heatmap": [
           {
            "colorbar": {
             "outlinewidth": 0,
             "ticks": ""
            },
            "colorscale": [
             [
              0,
              "#0d0887"
             ],
             [
              0.1111111111111111,
              "#46039f"
             ],
             [
              0.2222222222222222,
              "#7201a8"
             ],
             [
              0.3333333333333333,
              "#9c179e"
             ],
             [
              0.4444444444444444,
              "#bd3786"
             ],
             [
              0.5555555555555556,
              "#d8576b"
             ],
             [
              0.6666666666666666,
              "#ed7953"
             ],
             [
              0.7777777777777778,
              "#fb9f3a"
             ],
             [
              0.8888888888888888,
              "#fdca26"
             ],
             [
              1,
              "#f0f921"
             ]
            ],
            "type": "heatmap"
           }
          ],
          "heatmapgl": [
           {
            "colorbar": {
             "outlinewidth": 0,
             "ticks": ""
            },
            "colorscale": [
             [
              0,
              "#0d0887"
             ],
             [
              0.1111111111111111,
              "#46039f"
             ],
             [
              0.2222222222222222,
              "#7201a8"
             ],
             [
              0.3333333333333333,
              "#9c179e"
             ],
             [
              0.4444444444444444,
              "#bd3786"
             ],
             [
              0.5555555555555556,
              "#d8576b"
             ],
             [
              0.6666666666666666,
              "#ed7953"
             ],
             [
              0.7777777777777778,
              "#fb9f3a"
             ],
             [
              0.8888888888888888,
              "#fdca26"
             ],
             [
              1,
              "#f0f921"
             ]
            ],
            "type": "heatmapgl"
           }
          ],
          "histogram": [
           {
            "marker": {
             "pattern": {
              "fillmode": "overlay",
              "size": 10,
              "solidity": 0.2
             }
            },
            "type": "histogram"
           }
          ],
          "histogram2d": [
           {
            "colorbar": {
             "outlinewidth": 0,
             "ticks": ""
            },
            "colorscale": [
             [
              0,
              "#0d0887"
             ],
             [
              0.1111111111111111,
              "#46039f"
             ],
             [
              0.2222222222222222,
              "#7201a8"
             ],
             [
              0.3333333333333333,
              "#9c179e"
             ],
             [
              0.4444444444444444,
              "#bd3786"
             ],
             [
              0.5555555555555556,
              "#d8576b"
             ],
             [
              0.6666666666666666,
              "#ed7953"
             ],
             [
              0.7777777777777778,
              "#fb9f3a"
             ],
             [
              0.8888888888888888,
              "#fdca26"
             ],
             [
              1,
              "#f0f921"
             ]
            ],
            "type": "histogram2d"
           }
          ],
          "histogram2dcontour": [
           {
            "colorbar": {
             "outlinewidth": 0,
             "ticks": ""
            },
            "colorscale": [
             [
              0,
              "#0d0887"
             ],
             [
              0.1111111111111111,
              "#46039f"
             ],
             [
              0.2222222222222222,
              "#7201a8"
             ],
             [
              0.3333333333333333,
              "#9c179e"
             ],
             [
              0.4444444444444444,
              "#bd3786"
             ],
             [
              0.5555555555555556,
              "#d8576b"
             ],
             [
              0.6666666666666666,
              "#ed7953"
             ],
             [
              0.7777777777777778,
              "#fb9f3a"
             ],
             [
              0.8888888888888888,
              "#fdca26"
             ],
             [
              1,
              "#f0f921"
             ]
            ],
            "type": "histogram2dcontour"
           }
          ],
          "mesh3d": [
           {
            "colorbar": {
             "outlinewidth": 0,
             "ticks": ""
            },
            "type": "mesh3d"
           }
          ],
          "parcoords": [
           {
            "line": {
             "colorbar": {
              "outlinewidth": 0,
              "ticks": ""
             }
            },
            "type": "parcoords"
           }
          ],
          "pie": [
           {
            "automargin": true,
            "type": "pie"
           }
          ],
          "scatter": [
           {
            "marker": {
             "line": {
              "color": "#283442"
             }
            },
            "type": "scatter"
           }
          ],
          "scatter3d": [
           {
            "line": {
             "colorbar": {
              "outlinewidth": 0,
              "ticks": ""
             }
            },
            "marker": {
             "colorbar": {
              "outlinewidth": 0,
              "ticks": ""
             }
            },
            "type": "scatter3d"
           }
          ],
          "scattercarpet": [
           {
            "marker": {
             "colorbar": {
              "outlinewidth": 0,
              "ticks": ""
             }
            },
            "type": "scattercarpet"
           }
          ],
          "scattergeo": [
           {
            "marker": {
             "colorbar": {
              "outlinewidth": 0,
              "ticks": ""
             }
            },
            "type": "scattergeo"
           }
          ],
          "scattergl": [
           {
            "marker": {
             "line": {
              "color": "#283442"
             }
            },
            "type": "scattergl"
           }
          ],
          "scattermapbox": [
           {
            "marker": {
             "colorbar": {
              "outlinewidth": 0,
              "ticks": ""
             }
            },
            "type": "scattermapbox"
           }
          ],
          "scatterpolar": [
           {
            "marker": {
             "colorbar": {
              "outlinewidth": 0,
              "ticks": ""
             }
            },
            "type": "scatterpolar"
           }
          ],
          "scatterpolargl": [
           {
            "marker": {
             "colorbar": {
              "outlinewidth": 0,
              "ticks": ""
             }
            },
            "type": "scatterpolargl"
           }
          ],
          "scatterternary": [
           {
            "marker": {
             "colorbar": {
              "outlinewidth": 0,
              "ticks": ""
             }
            },
            "type": "scatterternary"
           }
          ],
          "surface": [
           {
            "colorbar": {
             "outlinewidth": 0,
             "ticks": ""
            },
            "colorscale": [
             [
              0,
              "#0d0887"
             ],
             [
              0.1111111111111111,
              "#46039f"
             ],
             [
              0.2222222222222222,
              "#7201a8"
             ],
             [
              0.3333333333333333,
              "#9c179e"
             ],
             [
              0.4444444444444444,
              "#bd3786"
             ],
             [
              0.5555555555555556,
              "#d8576b"
             ],
             [
              0.6666666666666666,
              "#ed7953"
             ],
             [
              0.7777777777777778,
              "#fb9f3a"
             ],
             [
              0.8888888888888888,
              "#fdca26"
             ],
             [
              1,
              "#f0f921"
             ]
            ],
            "type": "surface"
           }
          ],
          "table": [
           {
            "cells": {
             "fill": {
              "color": "#506784"
             },
             "line": {
              "color": "rgb(17,17,17)"
             }
            },
            "header": {
             "fill": {
              "color": "#2a3f5f"
             },
             "line": {
              "color": "rgb(17,17,17)"
             }
            },
            "type": "table"
           }
          ]
         },
         "layout": {
          "annotationdefaults": {
           "arrowcolor": "#f2f5fa",
           "arrowhead": 0,
           "arrowwidth": 1
          },
          "autotypenumbers": "strict",
          "coloraxis": {
           "colorbar": {
            "outlinewidth": 0,
            "ticks": ""
           }
          },
          "colorscale": {
           "diverging": [
            [
             0,
             "#8e0152"
            ],
            [
             0.1,
             "#c51b7d"
            ],
            [
             0.2,
             "#de77ae"
            ],
            [
             0.3,
             "#f1b6da"
            ],
            [
             0.4,
             "#fde0ef"
            ],
            [
             0.5,
             "#f7f7f7"
            ],
            [
             0.6,
             "#e6f5d0"
            ],
            [
             0.7,
             "#b8e186"
            ],
            [
             0.8,
             "#7fbc41"
            ],
            [
             0.9,
             "#4d9221"
            ],
            [
             1,
             "#276419"
            ]
           ],
           "sequential": [
            [
             0,
             "#0d0887"
            ],
            [
             0.1111111111111111,
             "#46039f"
            ],
            [
             0.2222222222222222,
             "#7201a8"
            ],
            [
             0.3333333333333333,
             "#9c179e"
            ],
            [
             0.4444444444444444,
             "#bd3786"
            ],
            [
             0.5555555555555556,
             "#d8576b"
            ],
            [
             0.6666666666666666,
             "#ed7953"
            ],
            [
             0.7777777777777778,
             "#fb9f3a"
            ],
            [
             0.8888888888888888,
             "#fdca26"
            ],
            [
             1,
             "#f0f921"
            ]
           ],
           "sequentialminus": [
            [
             0,
             "#0d0887"
            ],
            [
             0.1111111111111111,
             "#46039f"
            ],
            [
             0.2222222222222222,
             "#7201a8"
            ],
            [
             0.3333333333333333,
             "#9c179e"
            ],
            [
             0.4444444444444444,
             "#bd3786"
            ],
            [
             0.5555555555555556,
             "#d8576b"
            ],
            [
             0.6666666666666666,
             "#ed7953"
            ],
            [
             0.7777777777777778,
             "#fb9f3a"
            ],
            [
             0.8888888888888888,
             "#fdca26"
            ],
            [
             1,
             "#f0f921"
            ]
           ]
          },
          "colorway": [
           "#636efa",
           "#EF553B",
           "#00cc96",
           "#ab63fa",
           "#FFA15A",
           "#19d3f3",
           "#FF6692",
           "#B6E880",
           "#FF97FF",
           "#FECB52"
          ],
          "font": {
           "color": "#f2f5fa"
          },
          "geo": {
           "bgcolor": "rgb(17,17,17)",
           "lakecolor": "rgb(17,17,17)",
           "landcolor": "rgb(17,17,17)",
           "showlakes": true,
           "showland": true,
           "subunitcolor": "#506784"
          },
          "hoverlabel": {
           "align": "left"
          },
          "hovermode": "closest",
          "mapbox": {
           "style": "dark"
          },
          "paper_bgcolor": "rgb(17,17,17)",
          "plot_bgcolor": "rgb(17,17,17)",
          "polar": {
           "angularaxis": {
            "gridcolor": "#506784",
            "linecolor": "#506784",
            "ticks": ""
           },
           "bgcolor": "rgb(17,17,17)",
           "radialaxis": {
            "gridcolor": "#506784",
            "linecolor": "#506784",
            "ticks": ""
           }
          },
          "scene": {
           "xaxis": {
            "backgroundcolor": "rgb(17,17,17)",
            "gridcolor": "#506784",
            "gridwidth": 2,
            "linecolor": "#506784",
            "showbackground": true,
            "ticks": "",
            "zerolinecolor": "#C8D4E3"
           },
           "yaxis": {
            "backgroundcolor": "rgb(17,17,17)",
            "gridcolor": "#506784",
            "gridwidth": 2,
            "linecolor": "#506784",
            "showbackground": true,
            "ticks": "",
            "zerolinecolor": "#C8D4E3"
           },
           "zaxis": {
            "backgroundcolor": "rgb(17,17,17)",
            "gridcolor": "#506784",
            "gridwidth": 2,
            "linecolor": "#506784",
            "showbackground": true,
            "ticks": "",
            "zerolinecolor": "#C8D4E3"
           }
          },
          "shapedefaults": {
           "line": {
            "color": "#f2f5fa"
           }
          },
          "sliderdefaults": {
           "bgcolor": "#C8D4E3",
           "bordercolor": "rgb(17,17,17)",
           "borderwidth": 1,
           "tickwidth": 0
          },
          "ternary": {
           "aaxis": {
            "gridcolor": "#506784",
            "linecolor": "#506784",
            "ticks": ""
           },
           "baxis": {
            "gridcolor": "#506784",
            "linecolor": "#506784",
            "ticks": ""
           },
           "bgcolor": "rgb(17,17,17)",
           "caxis": {
            "gridcolor": "#506784",
            "linecolor": "#506784",
            "ticks": ""
           }
          },
          "title": {
           "x": 0.05
          },
          "updatemenudefaults": {
           "bgcolor": "#506784",
           "borderwidth": 0
          },
          "xaxis": {
           "automargin": true,
           "gridcolor": "#283442",
           "linecolor": "#506784",
           "ticks": "",
           "title": {
            "standoff": 15
           },
           "zerolinecolor": "#283442",
           "zerolinewidth": 2
          },
          "yaxis": {
           "automargin": true,
           "gridcolor": "#283442",
           "linecolor": "#506784",
           "ticks": "",
           "title": {
            "standoff": 15
           },
           "zerolinecolor": "#283442",
           "zerolinewidth": 2
          }
         }
        },
        "title": {
         "text": "Risk-Return Comparison: S&P 500 Stocks vs Hypothetical Risk-Return Cases"
        },
        "xaxis": {
         "title": {
          "text": "Risk (Annualized Standard Deviation)"
         }
        },
        "yaxis": {
         "title": {
          "text": "Return (Annualized)"
         }
        }
       }
      },
      "text/html": [
       "<div>                            <div id=\"222e8898-c489-467e-8fc4-3e76cf415859\" class=\"plotly-graph-div\" style=\"height:525px; width:100%;\"></div>            <script type=\"text/javascript\">                require([\"plotly\"], function(Plotly) {                    window.PLOTLYENV=window.PLOTLYENV || {};                                    if (document.getElementById(\"222e8898-c489-467e-8fc4-3e76cf415859\")) {                    Plotly.newPlot(                        \"222e8898-c489-467e-8fc4-3e76cf415859\",                        [{\"marker\":{\"color\":\"blue\",\"size\":8},\"mode\":\"markers\",\"name\":\"Stocks\",\"x\":[0.4341527811466347,0.6179593923926251,0.41436083920402067,0.5045216844824615,0.2636268495797671,0.3072482938197734,0.3099395931843624,0.21223252806509826,0.3746898026924018,0.2225817083608086,0.2782863587574221,0.2659206249801297,0.3192353099616484,0.2320743628907885,0.26725726125897215,0.2213527862013189,0.6102833518884139,0.36323682192379997,0.2583317885864626,0.24992099515910282],\"y\":[0.28308607918674034,0.2731847600194031,0.14455591054326333,0.32011678309692043,0.14241435631270452,0.09231757655503486,0.21905979298463457,0.1415428567814914,0.18009780885150659,0.12582038537397855,0.1601627904394414,0.13441677050921366,0.24524881282182603,0.13702730852059525,0.1532468635200559,0.13566570844903575,0.24966543886176099,0.2918797729445718,0.14390081733486776,0.13022746123222373],\"type\":\"scatter\"},{\"line\":{\"color\":\"green\"},\"mode\":\"lines\",\"name\":\"Convex\",\"x\":[0.21223252806509826,0.21633077921992178,0.22042903037474526,0.22452728152956877,0.22862553268439229,0.23272378383921577,0.23682203499403928,0.2409202861488628,0.24501853730368628,0.2491167884585098,0.2532150396133333,0.2573132907681568,0.26141154192298033,0.2655097930778038,0.2696080442326273,0.2737062953874508,0.2778045465422743,0.2819027976970978,0.28600104885192135,0.29009930000674483,0.2941975511615683,0.29829580231639186,0.30239405347121534,0.3064923046260388,0.31059055578086237,0.31468880693568585,0.31878705809050933,0.3228853092453328,0.32698356040015636,0.33108181155497984,0.33518006270980333,0.3392783138646268,0.34337656501945035,0.3474748161742739,0.3515730673290973,0.35567131848392086,0.3597695696387444,0.36386782079356783,0.36796607194839137,0.3720643231032149,0.37616257425803834,0.3802608254128619,0.3843590765676854,0.38845732772250885,0.3925555788773324,0.39665383003215593,0.40075208118697936,0.4048503323418029,0.40894858349662644,0.41304683465144987,0.4171450858062734,0.4212433369610969,0.4253415881159204,0.4294398392707439,0.4335380904255674,0.4376363415803909,0.4417345927352144,0.4458328438900379,0.4499310950448614,0.45402934619968494,0.4581275973545084,0.4622258485093319,0.46632409966415544,0.470422350818979,0.4745206019738024,0.47861885312862595,0.4827171042834495,0.4868153554382729,0.49091360659309646,0.49501185774792,0.49911010890274343,0.503208360057567,0.5073066112123905,0.5114048623672139,0.5155031135220375,0.519601364676861,0.5236996158316845,0.527797866986508,0.5318961181413315,0.535994369296155,0.5400926204509785,0.544190871605802,0.5482891227606255,0.552387373915449,0.5564856250702725,0.560583876225096,0.5646821273799195,0.5687803785347431,0.5728786296895665,0.57697688084439,0.5810751319992136,0.585173383154037,0.5892716343088605,0.5933698854636841,0.5974681366185075,0.601566387773331,0.6056646389281546,0.609762890082978,0.6138611412378016,0.6179593923926251],\"y\":[0.04252132298445136,0.04339950301894927,0.04429447871597518,0.045206250075529114,0.04613481709761107,0.04708017978222101,0.048042338129358986,0.049021292139024966,0.05001704181121895,0.051029587145940955,0.05205892814319098,0.053105064802969004,0.05416799712527505,0.0552477251101091,0.056344248757471155,0.05745756806736123,0.058587683039779334,0.05973459367472543,0.060898299972199546,0.062078801932201666,0.0632760995547318,0.06449019283978996,0.06572108178737612,0.06696876639749029,0.06823324667013249,0.06951452260530268,0.07081259420300089,0.0721274614632271,0.07345912438598134,0.0748075829712636,0.07617283721907385,0.07755488712941211,0.07895373270227841,0.08036937393767271,0.081801810835595,0.08325104339604533,0.08471707161902368,0.08619989550453,0.08769951505256438,0.08921593026312676,0.09074914113621711,0.09229914767183552,0.09386594986998194,0.09544954773065632,0.09704994125385877,0.09866713043958923,0.10030111528784764,0.10195189579863413,0.10361947197194862,0.10530384380779109,0.10700501130616161,0.10872297446706011,0.11045773329048664,0.1122092877764412,0.11397763792492373,0.1157627837359343,0.11756472520947288,0.11938346234553947,0.12121899514413405,0.12307132360525669,0.1249404477289073,0.1268263675150859,0.1287290829637926,0.13064859407502727,0.1325849008487899,0.13453800328508062,0.13650790138389932,0.138494595145246,0.14049808456912075,0.1425183696555235,0.1445554504044542,0.14660932681591296,0.14867999888989977,0.15076746662641452,0.15287173002545731,0.15499278908702815,0.15713064381112693,0.15928529419775378,0.16145674024690865,0.16364498195859145,0.16585001933280236,0.16807185236954125,0.1703104810688081,0.17256590543060302,0.17483812545492597,0.17712714114177686,0.17943295249115582,0.1817555595030628,0.1840949621774977,0.1864511605144607,0.18882415451395174,0.19121394417597068,0.19362052950051772,0.19604391048759276,0.19848408713719576,0.20094105944932683,0.20341482742398592,0.20590539106117295,0.20841275036088808,0.2109369053231312],\"type\":\"scatter\"},{\"line\":{\"color\":\"red\"},\"mode\":\"lines\",\"name\":\"Non-Convex\",\"x\":[0.21223252806509826,0.21633077921992178,0.22042903037474526,0.22452728152956877,0.22862553268439229,0.23272378383921577,0.23682203499403928,0.2409202861488628,0.24501853730368628,0.2491167884585098,0.2532150396133333,0.2573132907681568,0.26141154192298033,0.2655097930778038,0.2696080442326273,0.2737062953874508,0.2778045465422743,0.2819027976970978,0.28600104885192135,0.29009930000674483,0.2941975511615683,0.29829580231639186,0.30239405347121534,0.3064923046260388,0.31059055578086237,0.31468880693568585,0.31878705809050933,0.3228853092453328,0.32698356040015636,0.33108181155497984,0.33518006270980333,0.3392783138646268,0.34337656501945035,0.3474748161742739,0.3515730673290973,0.35567131848392086,0.3597695696387444,0.36386782079356783,0.36796607194839137,0.3720643231032149,0.37616257425803834,0.3802608254128619,0.3843590765676854,0.38845732772250885,0.3925555788773324,0.39665383003215593,0.40075208118697936,0.4048503323418029,0.40894858349662644,0.41304683465144987,0.4171450858062734,0.4212433369610969,0.4253415881159204,0.4294398392707439,0.4335380904255674,0.4376363415803909,0.4417345927352144,0.4458328438900379,0.4499310950448614,0.45402934619968494,0.4581275973545084,0.4622258485093319,0.46632409966415544,0.470422350818979,0.4745206019738024,0.47861885312862595,0.4827171042834495,0.4868153554382729,0.49091360659309646,0.49501185774792,0.49911010890274343,0.503208360057567,0.5073066112123905,0.5114048623672139,0.5155031135220375,0.519601364676861,0.5236996158316845,0.527797866986508,0.5318961181413315,0.535994369296155,0.5400926204509785,0.544190871605802,0.5482891227606255,0.552387373915449,0.5564856250702725,0.560583876225096,0.5646821273799195,0.5687803785347431,0.5728786296895665,0.57697688084439,0.5810751319992136,0.585173383154037,0.5892716343088605,0.5933698854636841,0.5974681366185075,0.601566387773331,0.6056646389281546,0.609762890082978,0.6138611412378016,0.6179593923926251],\"y\":[-0.12446505613019651,-0.13266155843984354,-0.1408580607494905,-0.14905456305913753,-0.15725106536878455,-0.16544756767843152,-0.17364406998807855,-0.18184057229772557,-0.19003707460737254,-0.19823357691701957,-0.2064300792266666,-0.21462658153631356,-0.22282308384596064,-0.2310195861556076,-0.23921608846525458,-0.24741259077490155,-0.2556090930845486,-0.26380559539419557,-0.27200209770384265,-0.2801986000134896,-0.2883951023231366,-0.29659160463278367,-0.30478810694243064,-0.3129846092520776,-0.3211811115617247,-0.32937761387137166,-0.3375741161810186,-0.3457706184906656,-0.3539671208003127,-0.36216362310995964,-0.3703601254196066,-0.3785566277292536,-0.38675313003890066,-0.39494963234854774,-0.4031461346581947,-0.4113426369678418,-0.41953913927748887,-0.42773564158713573,-0.4359321438967828,-0.4441286462064299,-0.45232514851607675,-0.4605216508257238,-0.4687181531353709,-0.47691465544501777,-0.48511115775466485,-0.4933076600643119,-0.5015041623739588,-0.5097006646836059,-0.5178971669932529,-0.5260936693028998,-0.5342901716125469,-0.5424866739221937,-0.5506831762318408,-0.5588796785414879,-0.5670761808511348,-0.5752726831607818,-0.5834691854704289,-0.5916656877800758,-0.5998621900897229,-0.6080586923993699,-0.6162551947090168,-0.6244516970186639,-0.632648199328311,-0.640844701637958,-0.6490412039476049,-0.657237706257252,-0.665434208566899,-0.6736307108765459,-0.681827213186193,-0.6900237154958401,-0.6982202178054869,-0.706416720115134,-0.7146132224247811,-0.722809724734428,-0.731006227044075,-0.7392027293537221,-0.747399231663369,-0.755595733973016,-0.7637922362826631,-0.77198873859231,-0.7801852409019571,-0.7883817432116041,-0.796578245521251,-0.8047747478308981,-0.8129712501405452,-0.821167752450192,-0.8293642547598391,-0.8375607570694862,-0.845757259379133,-0.8539537616887801,-0.8621502639984272,-0.8703467663080741,-0.8785432686177211,-0.8867397709273682,-0.8949362732370151,-0.9031327755466622,-0.9113292778563092,-0.9195257801659561,-0.9277222824756032,-0.9359187847852503],\"type\":\"scatter\"},{\"line\":{\"color\":\"orange\"},\"mode\":\"lines\",\"name\":\"Restored Convex\",\"x\":[0.21223252806509826,0.21633077921992178,0.22042903037474526,0.22452728152956877,0.22862553268439229,0.23272378383921577,0.23682203499403928,0.2409202861488628,0.24501853730368628,0.2491167884585098,0.2532150396133333,0.2573132907681568,0.26141154192298033,0.2655097930778038,0.2696080442326273,0.2737062953874508,0.2778045465422743,0.2819027976970978,0.28600104885192135,0.29009930000674483,0.2941975511615683,0.29829580231639186,0.30239405347121534,0.3064923046260388,0.31059055578086237,0.31468880693568585,0.31878705809050933,0.3228853092453328,0.32698356040015636,0.33108181155497984,0.33518006270980333,0.3392783138646268,0.34337656501945035,0.3474748161742739,0.3515730673290973,0.35567131848392086,0.3597695696387444,0.36386782079356783,0.36796607194839137,0.3720643231032149,0.37616257425803834,0.3802608254128619,0.3843590765676854,0.38845732772250885,0.3925555788773324,0.39665383003215593,0.40075208118697936,0.4048503323418029,0.40894858349662644,0.41304683465144987,0.4171450858062734,0.4212433369610969,0.4253415881159204,0.4294398392707439,0.4335380904255674,0.4376363415803909,0.4417345927352144,0.4458328438900379,0.4499310950448614,0.45402934619968494,0.4581275973545084,0.4622258485093319,0.46632409966415544,0.470422350818979,0.4745206019738024,0.47861885312862595,0.4827171042834495,0.4868153554382729,0.49091360659309646,0.49501185774792,0.49911010890274343,0.503208360057567,0.5073066112123905,0.5114048623672139,0.5155031135220375,0.519601364676861,0.5236996158316845,0.527797866986508,0.5318961181413315,0.535994369296155,0.5400926204509785,0.544190871605802,0.5482891227606255,0.552387373915449,0.5564856250702725,0.560583876225096,0.5646821273799195,0.5687803785347431,0.5728786296895665,0.57697688084439,0.5810751319992136,0.585173383154037,0.5892716343088605,0.5933698854636841,0.5974681366185075,0.601566387773331,0.6056646389281546,0.609762890082978,0.6138611412378016,0.6179593923926251],\"y\":[0.10111626403254913,0.1031653896099609,0.10521451518737264,0.10726364076478438,0.10931276634219615,0.1113618919196079,0.11341101749701964,0.1154601430744314,0.11750926865184315,0.11955839422925489,0.12160751980666666,0.1236566453840784,0.12570577096149016,0.1277548965389019,0.12980402211631364,0.1318531476937254,0.13390227327113716,0.1359513988485489,0.13800052442596067,0.1400496500033724,0.14209877558078415,0.14414790115819592,0.14619702673560767,0.1482461523130194,0.15029527789043118,0.15234440346784292,0.15439352904525466,0.1564426546226664,0.15849178020007818,0.16054090577748992,0.16259003135490166,0.1646391569323134,0.16668828250972517,0.16873740808713694,0.17078653366454866,0.17283565924196043,0.1748847848193722,0.1769339103967839,0.17898303597419568,0.18103216155160745,0.18308128712901917,0.18513041270643094,0.1871795382838427,0.18922866386125442,0.1912777894386662,0.19332691501607796,0.19537604059348967,0.19742516617090144,0.19947429174831321,0.20152341732572493,0.2035725429031367,0.20562166848054844,0.20767079405796018,0.20971991963537195,0.2117690452127837,0.21381817079019544,0.2158672963676072,0.21791642194501895,0.2199655475224307,0.22201467309984246,0.2240637986772542,0.22611292425466595,0.22816204983207772,0.2302111754094895,0.2322603009869012,0.23430942656431297,0.23635855214172474,0.23840767771913646,0.24045680329654823,0.24250592887396,0.2445550544513717,0.24660418002878348,0.24865330560619525,0.25070243118360697,0.25275155676101874,0.2548006823384305,0.2568498079158422,0.258898933493254,0.26094805907066576,0.2629971846480775,0.26504631022548925,0.267095435802901,0.26914456138031273,0.2711936869577245,0.27324281253513627,0.275291938112548,0.27734106368995975,0.2793901892673715,0.28143931484478324,0.283488440422195,0.2855375659996068,0.2875866915770185,0.28963581715443026,0.29168494273184203,0.29373406830925375,0.2957831938866655,0.2978323194640773,0.299881445041489,0.3019305706189008,0.30397969619631254],\"type\":\"scatter\"}],                        {\"template\":{\"data\":{\"barpolar\":[{\"marker\":{\"line\":{\"color\":\"rgb(17,17,17)\",\"width\":0.5},\"pattern\":{\"fillmode\":\"overlay\",\"size\":10,\"solidity\":0.2}},\"type\":\"barpolar\"}],\"bar\":[{\"error_x\":{\"color\":\"#f2f5fa\"},\"error_y\":{\"color\":\"#f2f5fa\"},\"marker\":{\"line\":{\"color\":\"rgb(17,17,17)\",\"width\":0.5},\"pattern\":{\"fillmode\":\"overlay\",\"size\":10,\"solidity\":0.2}},\"type\":\"bar\"}],\"carpet\":[{\"aaxis\":{\"endlinecolor\":\"#A2B1C6\",\"gridcolor\":\"#506784\",\"linecolor\":\"#506784\",\"minorgridcolor\":\"#506784\",\"startlinecolor\":\"#A2B1C6\"},\"baxis\":{\"endlinecolor\":\"#A2B1C6\",\"gridcolor\":\"#506784\",\"linecolor\":\"#506784\",\"minorgridcolor\":\"#506784\",\"startlinecolor\":\"#A2B1C6\"},\"type\":\"carpet\"}],\"choropleth\":[{\"colorbar\":{\"outlinewidth\":0,\"ticks\":\"\"},\"type\":\"choropleth\"}],\"contourcarpet\":[{\"colorbar\":{\"outlinewidth\":0,\"ticks\":\"\"},\"type\":\"contourcarpet\"}],\"contour\":[{\"colorbar\":{\"outlinewidth\":0,\"ticks\":\"\"},\"colorscale\":[[0.0,\"#0d0887\"],[0.1111111111111111,\"#46039f\"],[0.2222222222222222,\"#7201a8\"],[0.3333333333333333,\"#9c179e\"],[0.4444444444444444,\"#bd3786\"],[0.5555555555555556,\"#d8576b\"],[0.6666666666666666,\"#ed7953\"],[0.7777777777777778,\"#fb9f3a\"],[0.8888888888888888,\"#fdca26\"],[1.0,\"#f0f921\"]],\"type\":\"contour\"}],\"heatmapgl\":[{\"colorbar\":{\"outlinewidth\":0,\"ticks\":\"\"},\"colorscale\":[[0.0,\"#0d0887\"],[0.1111111111111111,\"#46039f\"],[0.2222222222222222,\"#7201a8\"],[0.3333333333333333,\"#9c179e\"],[0.4444444444444444,\"#bd3786\"],[0.5555555555555556,\"#d8576b\"],[0.6666666666666666,\"#ed7953\"],[0.7777777777777778,\"#fb9f3a\"],[0.8888888888888888,\"#fdca26\"],[1.0,\"#f0f921\"]],\"type\":\"heatmapgl\"}],\"heatmap\":[{\"colorbar\":{\"outlinewidth\":0,\"ticks\":\"\"},\"colorscale\":[[0.0,\"#0d0887\"],[0.1111111111111111,\"#46039f\"],[0.2222222222222222,\"#7201a8\"],[0.3333333333333333,\"#9c179e\"],[0.4444444444444444,\"#bd3786\"],[0.5555555555555556,\"#d8576b\"],[0.6666666666666666,\"#ed7953\"],[0.7777777777777778,\"#fb9f3a\"],[0.8888888888888888,\"#fdca26\"],[1.0,\"#f0f921\"]],\"type\":\"heatmap\"}],\"histogram2dcontour\":[{\"colorbar\":{\"outlinewidth\":0,\"ticks\":\"\"},\"colorscale\":[[0.0,\"#0d0887\"],[0.1111111111111111,\"#46039f\"],[0.2222222222222222,\"#7201a8\"],[0.3333333333333333,\"#9c179e\"],[0.4444444444444444,\"#bd3786\"],[0.5555555555555556,\"#d8576b\"],[0.6666666666666666,\"#ed7953\"],[0.7777777777777778,\"#fb9f3a\"],[0.8888888888888888,\"#fdca26\"],[1.0,\"#f0f921\"]],\"type\":\"histogram2dcontour\"}],\"histogram2d\":[{\"colorbar\":{\"outlinewidth\":0,\"ticks\":\"\"},\"colorscale\":[[0.0,\"#0d0887\"],[0.1111111111111111,\"#46039f\"],[0.2222222222222222,\"#7201a8\"],[0.3333333333333333,\"#9c179e\"],[0.4444444444444444,\"#bd3786\"],[0.5555555555555556,\"#d8576b\"],[0.6666666666666666,\"#ed7953\"],[0.7777777777777778,\"#fb9f3a\"],[0.8888888888888888,\"#fdca26\"],[1.0,\"#f0f921\"]],\"type\":\"histogram2d\"}],\"histogram\":[{\"marker\":{\"pattern\":{\"fillmode\":\"overlay\",\"size\":10,\"solidity\":0.2}},\"type\":\"histogram\"}],\"mesh3d\":[{\"colorbar\":{\"outlinewidth\":0,\"ticks\":\"\"},\"type\":\"mesh3d\"}],\"parcoords\":[{\"line\":{\"colorbar\":{\"outlinewidth\":0,\"ticks\":\"\"}},\"type\":\"parcoords\"}],\"pie\":[{\"automargin\":true,\"type\":\"pie\"}],\"scatter3d\":[{\"line\":{\"colorbar\":{\"outlinewidth\":0,\"ticks\":\"\"}},\"marker\":{\"colorbar\":{\"outlinewidth\":0,\"ticks\":\"\"}},\"type\":\"scatter3d\"}],\"scattercarpet\":[{\"marker\":{\"colorbar\":{\"outlinewidth\":0,\"ticks\":\"\"}},\"type\":\"scattercarpet\"}],\"scattergeo\":[{\"marker\":{\"colorbar\":{\"outlinewidth\":0,\"ticks\":\"\"}},\"type\":\"scattergeo\"}],\"scattergl\":[{\"marker\":{\"line\":{\"color\":\"#283442\"}},\"type\":\"scattergl\"}],\"scattermapbox\":[{\"marker\":{\"colorbar\":{\"outlinewidth\":0,\"ticks\":\"\"}},\"type\":\"scattermapbox\"}],\"scatterpolargl\":[{\"marker\":{\"colorbar\":{\"outlinewidth\":0,\"ticks\":\"\"}},\"type\":\"scatterpolargl\"}],\"scatterpolar\":[{\"marker\":{\"colorbar\":{\"outlinewidth\":0,\"ticks\":\"\"}},\"type\":\"scatterpolar\"}],\"scatter\":[{\"marker\":{\"line\":{\"color\":\"#283442\"}},\"type\":\"scatter\"}],\"scatterternary\":[{\"marker\":{\"colorbar\":{\"outlinewidth\":0,\"ticks\":\"\"}},\"type\":\"scatterternary\"}],\"surface\":[{\"colorbar\":{\"outlinewidth\":0,\"ticks\":\"\"},\"colorscale\":[[0.0,\"#0d0887\"],[0.1111111111111111,\"#46039f\"],[0.2222222222222222,\"#7201a8\"],[0.3333333333333333,\"#9c179e\"],[0.4444444444444444,\"#bd3786\"],[0.5555555555555556,\"#d8576b\"],[0.6666666666666666,\"#ed7953\"],[0.7777777777777778,\"#fb9f3a\"],[0.8888888888888888,\"#fdca26\"],[1.0,\"#f0f921\"]],\"type\":\"surface\"}],\"table\":[{\"cells\":{\"fill\":{\"color\":\"#506784\"},\"line\":{\"color\":\"rgb(17,17,17)\"}},\"header\":{\"fill\":{\"color\":\"#2a3f5f\"},\"line\":{\"color\":\"rgb(17,17,17)\"}},\"type\":\"table\"}]},\"layout\":{\"annotationdefaults\":{\"arrowcolor\":\"#f2f5fa\",\"arrowhead\":0,\"arrowwidth\":1},\"autotypenumbers\":\"strict\",\"coloraxis\":{\"colorbar\":{\"outlinewidth\":0,\"ticks\":\"\"}},\"colorscale\":{\"diverging\":[[0,\"#8e0152\"],[0.1,\"#c51b7d\"],[0.2,\"#de77ae\"],[0.3,\"#f1b6da\"],[0.4,\"#fde0ef\"],[0.5,\"#f7f7f7\"],[0.6,\"#e6f5d0\"],[0.7,\"#b8e186\"],[0.8,\"#7fbc41\"],[0.9,\"#4d9221\"],[1,\"#276419\"]],\"sequential\":[[0.0,\"#0d0887\"],[0.1111111111111111,\"#46039f\"],[0.2222222222222222,\"#7201a8\"],[0.3333333333333333,\"#9c179e\"],[0.4444444444444444,\"#bd3786\"],[0.5555555555555556,\"#d8576b\"],[0.6666666666666666,\"#ed7953\"],[0.7777777777777778,\"#fb9f3a\"],[0.8888888888888888,\"#fdca26\"],[1.0,\"#f0f921\"]],\"sequentialminus\":[[0.0,\"#0d0887\"],[0.1111111111111111,\"#46039f\"],[0.2222222222222222,\"#7201a8\"],[0.3333333333333333,\"#9c179e\"],[0.4444444444444444,\"#bd3786\"],[0.5555555555555556,\"#d8576b\"],[0.6666666666666666,\"#ed7953\"],[0.7777777777777778,\"#fb9f3a\"],[0.8888888888888888,\"#fdca26\"],[1.0,\"#f0f921\"]]},\"colorway\":[\"#636efa\",\"#EF553B\",\"#00cc96\",\"#ab63fa\",\"#FFA15A\",\"#19d3f3\",\"#FF6692\",\"#B6E880\",\"#FF97FF\",\"#FECB52\"],\"font\":{\"color\":\"#f2f5fa\"},\"geo\":{\"bgcolor\":\"rgb(17,17,17)\",\"lakecolor\":\"rgb(17,17,17)\",\"landcolor\":\"rgb(17,17,17)\",\"showlakes\":true,\"showland\":true,\"subunitcolor\":\"#506784\"},\"hoverlabel\":{\"align\":\"left\"},\"hovermode\":\"closest\",\"mapbox\":{\"style\":\"dark\"},\"paper_bgcolor\":\"rgb(17,17,17)\",\"plot_bgcolor\":\"rgb(17,17,17)\",\"polar\":{\"angularaxis\":{\"gridcolor\":\"#506784\",\"linecolor\":\"#506784\",\"ticks\":\"\"},\"bgcolor\":\"rgb(17,17,17)\",\"radialaxis\":{\"gridcolor\":\"#506784\",\"linecolor\":\"#506784\",\"ticks\":\"\"}},\"scene\":{\"xaxis\":{\"backgroundcolor\":\"rgb(17,17,17)\",\"gridcolor\":\"#506784\",\"gridwidth\":2,\"linecolor\":\"#506784\",\"showbackground\":true,\"ticks\":\"\",\"zerolinecolor\":\"#C8D4E3\"},\"yaxis\":{\"backgroundcolor\":\"rgb(17,17,17)\",\"gridcolor\":\"#506784\",\"gridwidth\":2,\"linecolor\":\"#506784\",\"showbackground\":true,\"ticks\":\"\",\"zerolinecolor\":\"#C8D4E3\"},\"zaxis\":{\"backgroundcolor\":\"rgb(17,17,17)\",\"gridcolor\":\"#506784\",\"gridwidth\":2,\"linecolor\":\"#506784\",\"showbackground\":true,\"ticks\":\"\",\"zerolinecolor\":\"#C8D4E3\"}},\"shapedefaults\":{\"line\":{\"color\":\"#f2f5fa\"}},\"sliderdefaults\":{\"bgcolor\":\"#C8D4E3\",\"bordercolor\":\"rgb(17,17,17)\",\"borderwidth\":1,\"tickwidth\":0},\"ternary\":{\"aaxis\":{\"gridcolor\":\"#506784\",\"linecolor\":\"#506784\",\"ticks\":\"\"},\"baxis\":{\"gridcolor\":\"#506784\",\"linecolor\":\"#506784\",\"ticks\":\"\"},\"bgcolor\":\"rgb(17,17,17)\",\"caxis\":{\"gridcolor\":\"#506784\",\"linecolor\":\"#506784\",\"ticks\":\"\"}},\"title\":{\"x\":0.05},\"updatemenudefaults\":{\"bgcolor\":\"#506784\",\"borderwidth\":0},\"xaxis\":{\"automargin\":true,\"gridcolor\":\"#283442\",\"linecolor\":\"#506784\",\"ticks\":\"\",\"title\":{\"standoff\":15},\"zerolinecolor\":\"#283442\",\"zerolinewidth\":2},\"yaxis\":{\"automargin\":true,\"gridcolor\":\"#283442\",\"linecolor\":\"#506784\",\"ticks\":\"\",\"title\":{\"standoff\":15},\"zerolinecolor\":\"#283442\",\"zerolinewidth\":2}}},\"title\":{\"text\":\"Risk-Return Comparison: S&P 500 Stocks vs Hypothetical Risk-Return Cases\"},\"xaxis\":{\"title\":{\"text\":\"Risk (Annualized Standard Deviation)\"}},\"yaxis\":{\"title\":{\"text\":\"Return (Annualized)\"}},\"showlegend\":true},                        {\"responsive\": true}                    ).then(function(){\n",
       "                            \n",
       "var gd = document.getElementById('222e8898-c489-467e-8fc4-3e76cf415859');\n",
       "var x = new MutationObserver(function (mutations, observer) {{\n",
       "        var display = window.getComputedStyle(gd).display;\n",
       "        if (!display || display === 'none') {{\n",
       "            console.log([gd, 'removed!']);\n",
       "            Plotly.purge(gd);\n",
       "            observer.disconnect();\n",
       "        }}\n",
       "}});\n",
       "\n",
       "// Listen for the removal of the full notebook cells\n",
       "var notebookContainer = gd.closest('#notebook-container');\n",
       "if (notebookContainer) {{\n",
       "    x.observe(notebookContainer, {childList: true});\n",
       "}}\n",
       "\n",
       "// Listen for the clearing of the current output cell\n",
       "var outputEl = gd.closest('.output');\n",
       "if (outputEl) {{\n",
       "    x.observe(outputEl, {childList: true});\n",
       "}}\n",
       "\n",
       "                        })                };                });            </script>        </div>"
      ]
     },
     "metadata": {},
     "output_type": "display_data"
    }
   ],
   "source": [
    "import plotly.graph_objects as go\n",
    "\n",
    "returns = prices_to_returns(prices)\n",
    "annualized_return = returns.mean() * 252  # Annualized return\n",
    "annualized_risk = returns.std() * np.sqrt(252)  # Annualized risk (standard deviation)\n",
    "\n",
    "# Step 4: Define the risk-return behaviors for the three cases\n",
    "risk = np.linspace(annualized_risk.min(), annualized_risk.max(), 100)\n",
    "\n",
    "# Convex case (parabolic relationship)\n",
    "return_convex = 0.02 + 0.5 * risk**2  # A convex (parabolic) relationship\n",
    "\n",
    "# Non-Convex case (returns initially increase, then decrease)\n",
    "return_non_convex = np.piecewise(risk, \n",
    "                                 [risk < 0.1, risk >= 0.1], \n",
    "                                 [lambda x: 0.02 + 0.5 * x*2, lambda x: 0.1 - (x - 0.1)*2])\n",
    "\n",
    "# Restored Convex case (starts non-convex but becomes convex after a certain threshold)\n",
    "return_restored_convex = np.piecewise(risk, \n",
    "                                      [risk < 0.1, risk >= 0.1], \n",
    "                                      [lambda x: 0.02 + 0.5 * x*2, lambda x: 0.02 + 0.25 * (x - 0.05)*2])\n",
    "\n",
    "# Step 5: Create a DataFrame for risk and return of all stocks\n",
    "df_risk_return = pd.DataFrame({\n",
    "    'Stock': returns.columns,\n",
    "    'Risk': annualized_risk,\n",
    "    'Return': annualized_return\n",
    "})\n",
    "\n",
    "# Step 6: Create the Plotly figure to visualize the risk-return relationship\n",
    "fig = go.Figure()\n",
    "\n",
    "# Add scatter plot for actual risk-return data of the stocks\n",
    "fig.add_trace(go.Scatter(x=df_risk_return['Risk'],\n",
    "                         y=df_risk_return['Return'],\n",
    "                         mode='markers',\n",
    "                         name='Stocks',\n",
    "                         marker=dict(color='blue', size=8)))\n",
    "\n",
    "# Add traces for the three risk-return cases\n",
    "fig.add_trace(go.Scatter(x=risk, y=return_convex, mode='lines', name='Convex', line=dict(color='green')))\n",
    "fig.add_trace(go.Scatter(x=risk, y=return_non_convex, mode='lines', name='Non-Convex', line=dict(color='red')))\n",
    "fig.add_trace(go.Scatter(x=risk, y=return_restored_convex, mode='lines', name='Restored Convex', line=dict(color='orange')))\n",
    "\n",
    "# Step 7: Customize the layout of the plot\n",
    "fig.update_layout(\n",
    "    title='Risk-Return Comparison: S&P 500 Stocks vs Hypothetical Risk-Return Cases',\n",
    "    xaxis_title='Risk (Annualized Standard Deviation)',\n",
    "    yaxis_title='Return (Annualized)',\n",
    "    template='plotly_dark',\n",
    "    showlegend=True\n",
    ")\n",
    "\n",
    "# Step 8: Show the plot\n",
    "show(fig)"
   ]
  },
  {
   "cell_type": "code",
   "execution_count": 57,
   "metadata": {},
   "outputs": [
    {
     "data": {
      "image/png": "[encoded data removed]",
      "text/plain": [
       "<Figure size 1200x600 with 1 Axes>"
      ]
     },
     "metadata": {},
     "output_type": "display_data"
    }
   ],
   "source": [
    "returns_model = np.asarray(pred_model.returns)  # or pred_model.values if that works\n",
    "returns_bench = np.asarray(pred_bench.returns)  # or pred_bench.values if that works\n",
    "\n",
    "# Calculate cumulative returns for both models\n",
    "cumulative_returns_model = np.cumprod(1 + returns_model) - 1\n",
    "cumulative_returns_bench = np.cumprod(1 + returns_bench) - 1\n",
    "\n",
    "# Plotting the cumulative returns\n",
    "plt.figure(figsize=(12, 6))\n",
    "\n",
    "# Convex (Original Model) Plot\n",
    "plt.plot(cumulative_returns_model, label='Convex Portfolio (MeanRisk)', color='blue')\n",
    "\n",
    "# Non-Convex (Modified Model) Plot\n",
    "plt.plot(cumulative_returns_bench, label='Non-Convex Portfolio (Equal Weighted)', color='orange')\n",
    "\n",
    "# Adding title and labels\n",
    "plt.title(\"Cumulative Returns: Convex vs Non-Convex Portfolio Optimization\")\n",
    "plt.xlabel(\"Time (Days)\")\n",
    "plt.ylabel(\"Cumulative Return\")\n",
    "plt.legend()\n",
    "\n",
    "# Show plot\n",
    "plt.show()"
   ]
  },
  {
   "cell_type": "code",
   "execution_count": 58,
   "metadata": {},
   "outputs": [
    {
     "name": "stdout",
     "output_type": "stream",
     "text": [
      "Is the modified MeanRisk model with CVaR risk measure and MINIMIZE_RISK objective function convex? True\n"
     ]
    }
   ],
   "source": [
    "weights = cp.Variable(X_train_df.shape[1])\n",
    "X_train_df = X_train_df.values if isinstance(X_train_df, pd.DataFrame) else X_train_df\n",
    "\n",
    "# Risk Measures\n",
    "alpha = 0.95\n",
    "VaR = cp.Variable()\n",
    "z = cp.Variable(X_train_df.shape[0])\n",
    "risk_measure = VaR + (1 / (1 - alpha)) * cp.sum(z) / X_train_df.shape[0]\n",
    "\n",
    "# Objective Function\n",
    "objective = cp.Minimize(risk_measure)\n",
    "\n",
    "# Constraints without the non-convex constraint\n",
    "convex_constraints = [\n",
    "    weights >= 0,\n",
    "    cp.sum(weights) == 1,\n",
    "    z >= 0,\n",
    "    z >= -X_train_df @ weights - VaR\n",
    "]\n",
    "\n",
    "# Optimization problem\n",
    "convex_problem = cp.Problem(objective, convex_constraints)\n",
    "\n",
    "# Check if the problem is convex\n",
    "is_convex = convex_problem.is_dcp()\n",
    "print(f\"Is the modified MeanRisk model with CVaR risk measure and MINIMIZE_RISK objective function convex? {is_convex}\")"
   ]
  },
  {
   "cell_type": "code",
   "execution_count": null,
   "metadata": {},
   "outputs": [],
   "source": []
  }
 ],
 "metadata": {
  "colab": {
   "provenance": []
  },
  "kernelspec": {
   "display_name": "Python 3 (ipykernel)",
   "language": "python",
   "name": "python3"
  },
  "language_info": {
   "codemirror_mode": {
    "name": "ipython",
    "version": 3
   },
   "file_extension": ".py",
   "mimetype": "text/x-python",
   "name": "python",
   "nbconvert_exporter": "python",
   "pygments_lexer": "ipython3",
   "version": "3.11.3"
  }
 },
 "nbformat": 4,
 "nbformat_minor": 1
}
